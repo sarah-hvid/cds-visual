{
 "cells": [
  {
   "cell_type": "markdown",
   "metadata": {},
   "source": [
    "# Creating a neural network ```tensorflow``` and ```keras```"
   ]
  },
  {
   "cell_type": "markdown",
   "metadata": {},
   "source": [
    "## Import libraries"
   ]
  },
  {
   "cell_type": "code",
   "execution_count": 4,
   "metadata": {
    "execution": {
     "iopub.execute_input": "2022-03-30T11:13:26.875973Z",
     "iopub.status.busy": "2022-03-30T11:13:26.875430Z",
     "iopub.status.idle": "2022-03-30T11:13:28.182368Z",
     "shell.execute_reply": "2022-03-30T11:13:28.181070Z",
     "shell.execute_reply.started": "2022-03-30T11:13:26.875908Z"
    },
    "tags": []
   },
   "outputs": [
    {
     "name": "stdout",
     "output_type": "stream",
     "text": [
      "The tensorboard extension is already loaded. To reload it, use:\n",
      "  %reload_ext tensorboard\n"
     ]
    }
   ],
   "source": [
    "# generic tools\n",
    "import numpy as np\n",
    "import datetime \n",
    "\n",
    "# tools from sklearn\n",
    "from sklearn.preprocessing import LabelBinarizer\n",
    "from sklearn.metrics import classification_report\n",
    "from sklearn.datasets import fetch_openml\n",
    "from sklearn.model_selection import train_test_split\n",
    "\n",
    "# tools from tensorflow\n",
    "import tensorflow as tf\n",
    "from tensorflow.keras.models import Sequential\n",
    "from tensorflow.keras.layers import Dense\n",
    "from tensorflow.keras.optimizers import SGD\n",
    "from tensorflow.keras.datasets import mnist\n",
    "from tensorflow.keras import backend as K\n",
    "from tensorflow.keras.utils import plot_model\n",
    "\n",
    "# matplotlib\n",
    "import matplotlib.pyplot as plt\n",
    "\n",
    "# Load the TensorBoard notebook extension\n",
    "%load_ext tensorboard\n",
    "# delete logs from previous runs - not always safe!\n",
    "!rm -rf ./logs/"
   ]
  },
  {
   "cell_type": "markdown",
   "metadata": {},
   "source": [
    "## Download data, normalize, train-test split, binarize labels"
   ]
  },
  {
   "cell_type": "code",
   "execution_count": 3,
   "metadata": {
    "execution": {
     "iopub.execute_input": "2022-03-30T11:06:07.229573Z",
     "iopub.status.busy": "2022-03-30T11:06:07.229044Z",
     "iopub.status.idle": "2022-03-30T11:06:40.454660Z",
     "shell.execute_reply": "2022-03-30T11:06:40.453399Z",
     "shell.execute_reply.started": "2022-03-30T11:06:07.229525Z"
    },
    "tags": []
   },
   "outputs": [],
   "source": [
    "X, y = fetch_openml('mnist_784', return_X_y=True)"
   ]
  },
  {
   "cell_type": "code",
   "execution_count": 5,
   "metadata": {
    "execution": {
     "iopub.execute_input": "2022-03-30T11:23:46.691898Z",
     "iopub.status.busy": "2022-03-30T11:23:46.691369Z",
     "iopub.status.idle": "2022-03-30T11:23:46.846520Z",
     "shell.execute_reply": "2022-03-30T11:23:46.845754Z",
     "shell.execute_reply.started": "2022-03-30T11:23:46.691848Z"
    }
   },
   "outputs": [],
   "source": [
    "# normalize\n",
    "X_norm = X/255"
   ]
  },
  {
   "cell_type": "code",
   "execution_count": 6,
   "metadata": {
    "execution": {
     "iopub.execute_input": "2022-03-30T11:24:41.709495Z",
     "iopub.status.busy": "2022-03-30T11:24:41.708961Z",
     "iopub.status.idle": "2022-03-30T11:24:42.075731Z",
     "shell.execute_reply": "2022-03-30T11:24:42.075087Z",
     "shell.execute_reply.started": "2022-03-30T11:24:41.709445Z"
    }
   },
   "outputs": [],
   "source": [
    "# split data\n",
    "X_train, X_test, y_train, y_test = train_test_split(X_norm, y, random_state=42, test_size = 0.2)"
   ]
  },
  {
   "cell_type": "code",
   "execution_count": 7,
   "metadata": {
    "execution": {
     "iopub.execute_input": "2022-03-30T11:27:05.358238Z",
     "iopub.status.busy": "2022-03-30T11:27:05.357694Z",
     "iopub.status.idle": "2022-03-30T11:27:05.533453Z",
     "shell.execute_reply": "2022-03-30T11:27:05.532590Z",
     "shell.execute_reply.started": "2022-03-30T11:27:05.358189Z"
    }
   },
   "outputs": [],
   "source": [
    "# label binarizer\n",
    "lb = LabelBinarizer()\n",
    "y_train = lb.fit_transform(y_train)\n",
    "y_test = lb.fit_transform(y_test)"
   ]
  },
  {
   "cell_type": "markdown",
   "metadata": {},
   "source": [
    "## Define neural network architecture using ```tf.keras```"
   ]
  },
  {
   "cell_type": "code",
   "execution_count": 9,
   "metadata": {
    "execution": {
     "iopub.execute_input": "2022-03-30T11:38:26.467189Z",
     "iopub.status.busy": "2022-03-30T11:38:26.466633Z",
     "iopub.status.idle": "2022-03-30T11:38:26.512274Z",
     "shell.execute_reply": "2022-03-30T11:38:26.511634Z",
     "shell.execute_reply.started": "2022-03-30T11:38:26.467138Z"
    },
    "tags": []
   },
   "outputs": [],
   "source": [
    "# define architecture 784x256x128x10\n",
    "model = Sequential()\n",
    "model.add(Dense(256, input_shape=(784,), activation=\"relu\"))\n",
    "model.add(Dense(128, activation=\"relu\"))\n",
    "model.add(Dense(10, activation=\"softmax\")) #softmax generalises LogReg for multiclass tasks\n",
    "          "
   ]
  },
  {
   "cell_type": "markdown",
   "metadata": {},
   "source": [
    "## Show summary of model architecture"
   ]
  },
  {
   "cell_type": "code",
   "execution_count": 10,
   "metadata": {
    "execution": {
     "iopub.execute_input": "2022-03-30T11:39:02.076859Z",
     "iopub.status.busy": "2022-03-30T11:39:02.076313Z",
     "iopub.status.idle": "2022-03-30T11:39:02.098636Z",
     "shell.execute_reply": "2022-03-30T11:39:02.097544Z",
     "shell.execute_reply.started": "2022-03-30T11:39:02.076809Z"
    },
    "tags": []
   },
   "outputs": [
    {
     "name": "stdout",
     "output_type": "stream",
     "text": [
      "Model: \"sequential_1\"\n",
      "_________________________________________________________________\n",
      " Layer (type)                Output Shape              Param #   \n",
      "=================================================================\n",
      " dense (Dense)               (None, 256)               200960    \n",
      "                                                                 \n",
      " dense_1 (Dense)             (None, 128)               32896     \n",
      "                                                                 \n",
      " dense_2 (Dense)             (None, 10)                1290      \n",
      "                                                                 \n",
      "=================================================================\n",
      "Total params: 235,146\n",
      "Trainable params: 235,146\n",
      "Non-trainable params: 0\n",
      "_________________________________________________________________\n"
     ]
    }
   ],
   "source": [
    "model.summary()"
   ]
  },
  {
   "cell_type": "markdown",
   "metadata": {},
   "source": [
    "## Visualise model layers"
   ]
  },
  {
   "cell_type": "code",
   "execution_count": 12,
   "metadata": {
    "execution": {
     "iopub.execute_input": "2022-03-30T11:44:05.134380Z",
     "iopub.status.busy": "2022-03-30T11:44:05.133838Z",
     "iopub.status.idle": "2022-03-30T11:44:06.606555Z",
     "shell.execute_reply": "2022-03-30T11:44:06.605435Z",
     "shell.execute_reply.started": "2022-03-30T11:44:05.134329Z"
    },
    "tags": []
   },
   "outputs": [
    {
     "data": {
      "image/png": "[encoded data removed]",
      "text/plain": [
       "<IPython.core.display.Image object>"
      ]
     },
     "execution_count": 12,
     "metadata": {},
     "output_type": "execute_result"
    }
   ],
   "source": [
    "plot_model(model, show_shapes=True, show_layer_names=True)"
   ]
  },
  {
   "cell_type": "markdown",
   "metadata": {},
   "source": [
    "## Compile model loss function, optimizer, and preferred metrics"
   ]
  },
  {
   "cell_type": "code",
   "execution_count": 14,
   "metadata": {
    "execution": {
     "iopub.execute_input": "2022-03-30T11:53:24.348340Z",
     "iopub.status.busy": "2022-03-30T11:53:24.347792Z",
     "iopub.status.idle": "2022-03-30T11:53:24.375078Z",
     "shell.execute_reply": "2022-03-30T11:53:24.374168Z",
     "shell.execute_reply.started": "2022-03-30T11:53:24.348288Z"
    },
    "tags": []
   },
   "outputs": [],
   "source": [
    "# define the gradient descent\n",
    "sgd = SGD(0.01)\n",
    "# compile model\n",
    "model.compile(loss=\"categorical_crossentropy\",\n",
    "              optimizer=sgd,\n",
    "              metrics=[\"accuracy\"])"
   ]
  },
  {
   "cell_type": "markdown",
   "metadata": {},
   "source": [
    "## Train model and save history"
   ]
  },
  {
   "cell_type": "code",
   "execution_count": 15,
   "metadata": {
    "execution": {
     "iopub.execute_input": "2022-03-30T11:57:54.254412Z",
     "iopub.status.busy": "2022-03-30T11:57:54.253864Z",
     "iopub.status.idle": "2022-03-30T11:59:08.144562Z",
     "shell.execute_reply": "2022-03-30T11:59:08.143582Z",
     "shell.execute_reply.started": "2022-03-30T11:57:54.254360Z"
    },
    "tags": []
   },
   "outputs": [
    {
     "name": "stdout",
     "output_type": "stream",
     "text": [
      "Epoch 1/10\n",
      "1750/1750 [==============================] - 7s 4ms/step - loss: 0.6045 - accuracy: 0.8435 - val_loss: 0.3244 - val_accuracy: 0.9079\n",
      "Epoch 2/10\n",
      "1750/1750 [==============================] - 7s 4ms/step - loss: 0.2882 - accuracy: 0.9168 - val_loss: 0.2631 - val_accuracy: 0.9268\n",
      "Epoch 3/10\n",
      "1750/1750 [==============================] - 7s 4ms/step - loss: 0.2374 - accuracy: 0.9316 - val_loss: 0.2282 - val_accuracy: 0.9384\n",
      "Epoch 4/10\n",
      "1750/1750 [==============================] - 7s 4ms/step - loss: 0.2024 - accuracy: 0.9414 - val_loss: 0.2006 - val_accuracy: 0.9454\n",
      "Epoch 5/10\n",
      "1750/1750 [==============================] - 7s 4ms/step - loss: 0.1763 - accuracy: 0.9486 - val_loss: 0.1792 - val_accuracy: 0.9504\n",
      "Epoch 6/10\n",
      "1750/1750 [==============================] - 7s 4ms/step - loss: 0.1553 - accuracy: 0.9551 - val_loss: 0.1648 - val_accuracy: 0.9539\n",
      "Epoch 7/10\n",
      "1750/1750 [==============================] - 7s 4ms/step - loss: 0.1386 - accuracy: 0.9605 - val_loss: 0.1529 - val_accuracy: 0.9579\n",
      "Epoch 8/10\n",
      "1750/1750 [==============================] - 7s 4ms/step - loss: 0.1250 - accuracy: 0.9642 - val_loss: 0.1441 - val_accuracy: 0.9593\n",
      "Epoch 9/10\n",
      "1750/1750 [==============================] - 7s 4ms/step - loss: 0.1132 - accuracy: 0.9673 - val_loss: 0.1346 - val_accuracy: 0.9619\n",
      "Epoch 10/10\n",
      "1750/1750 [==============================] - 8s 4ms/step - loss: 0.1036 - accuracy: 0.9703 - val_loss: 0.1261 - val_accuracy: 0.9634\n"
     ]
    }
   ],
   "source": [
    "history = model.fit(X_train, y_train,\n",
    "                    validation_data = (X_test, y_test),\n",
    "                    epochs = 10,\n",
    "                    batch_size = 32)"
   ]
  },
  {
   "cell_type": "markdown",
   "metadata": {},
   "source": [
    "## Visualise using ```matplotlib```"
   ]
  },
  {
   "cell_type": "markdown",
   "metadata": {},
   "source": [
    "Different stylesheets can be found here: https://matplotlib.org/stable/gallery/style_sheets/style_sheets_reference.html"
   ]
  },
  {
   "cell_type": "code",
   "execution_count": null,
   "metadata": {},
   "outputs": [
    {
     "data": {
      "image/png": "[encoded data removed]",
      "text/plain": [
       "<Figure size 864x432 with 2 Axes>"
      ]
     },
     "metadata": {
      "needs_background": "light"
     },
     "output_type": "display_data"
    }
   ],
   "source": [
    "plt.style.use(\"seaborn-colorblind\")\n",
    "\n",
    "plt.figure(figsize=(12,6))\n",
    "plt.subplot(1,2,1)\n",
    "plt.plot(np.arange(0, 10), history.history[\"loss\"], label=\"train_loss\")\n",
    "plt.plot(np.arange(0, 10), history.history[\"val_loss\"], label=\"val_loss\", linestyle=\":\")\n",
    "plt.title(\"Loss curve\")\n",
    "plt.xlabel(\"Epoch\")\n",
    "plt.ylabel(\"Loss\")\n",
    "plt.tight_layout()\n",
    "plt.legend()\n",
    "\n",
    "plt.subplot(1,2,2)\n",
    "plt.plot(np.arange(0, 10), history.history[\"accuracy\"], label=\"train_acc\")\n",
    "plt.plot(np.arange(0, 10), history.history[\"val_accuracy\"], label=\"val_acc\", linestyle=\":\")\n",
    "plt.title(\"Accuracy curve\")\n",
    "plt.xlabel(\"Epoch\")\n",
    "plt.ylabel(\"Accuracy\")\n",
    "plt.tight_layout()\n",
    "plt.legend()\n",
    "plt.show()"
   ]
  },
  {
   "cell_type": "markdown",
   "metadata": {},
   "source": [
    "### Classification report"
   ]
  },
  {
   "cell_type": "code",
   "execution_count": 19,
   "metadata": {
    "execution": {
     "iopub.execute_input": "2022-03-30T12:26:38.458486Z",
     "iopub.status.busy": "2022-03-30T12:26:38.457965Z",
     "iopub.status.idle": "2022-03-30T12:26:39.467088Z",
     "shell.execute_reply": "2022-03-30T12:26:39.465999Z",
     "shell.execute_reply.started": "2022-03-30T12:26:38.458436Z"
    },
    "tags": []
   },
   "outputs": [
    {
     "name": "stdout",
     "output_type": "stream",
     "text": [
      "[1.5330079e-08 1.0046503e-08 6.5945802e-05 8.5841719e-04 1.9714561e-09\n",
      " 3.6590793e-06 6.8667599e-11 2.2586919e-08 9.9907076e-01 1.1461011e-06]\n"
     ]
    }
   ],
   "source": [
    "# evaluate network\n",
    "predictions = model.predict(X_test, batch_size=32)\n",
    "# print classification report\n",
    "print(predictions[0])"
   ]
  },
  {
   "cell_type": "code",
   "execution_count": 20,
   "metadata": {
    "execution": {
     "iopub.execute_input": "2022-03-30T12:29:05.215020Z",
     "iopub.status.busy": "2022-03-30T12:29:05.214475Z",
     "iopub.status.idle": "2022-03-30T12:29:05.253823Z",
     "shell.execute_reply": "2022-03-30T12:29:05.253201Z",
     "shell.execute_reply.started": "2022-03-30T12:29:05.214967Z"
    }
   },
   "outputs": [
    {
     "name": "stdout",
     "output_type": "stream",
     "text": [
      "              precision    recall  f1-score   support\n",
      "\n",
      "           0       0.99      0.98      0.98      1343\n",
      "           1       0.97      0.98      0.98      1600\n",
      "           2       0.96      0.96      0.96      1380\n",
      "           3       0.96      0.95      0.95      1433\n",
      "           4       0.96      0.96      0.96      1295\n",
      "           5       0.96      0.95      0.96      1273\n",
      "           6       0.97      0.98      0.97      1396\n",
      "           7       0.95      0.97      0.96      1503\n",
      "           8       0.95      0.95      0.95      1357\n",
      "           9       0.96      0.94      0.95      1420\n",
      "\n",
      "    accuracy                           0.96     14000\n",
      "   macro avg       0.96      0.96      0.96     14000\n",
      "weighted avg       0.96      0.96      0.96     14000\n",
      "\n"
     ]
    }
   ],
   "source": [
    "# print classification report\n",
    "print(classification_report(y_test.argmax(axis=1), \n",
    "                            predictions.argmax(axis=1), \n",
    "                            target_names=[str(x) for x in lb.classes_]))"
   ]
  },
  {
   "cell_type": "markdown",
   "metadata": {},
   "source": [
    "## Inspect using ```tensorboard```\n",
    "\n",
    "To do this, we'll need to go the command line..."
   ]
  }
 ],
 "metadata": {
  "kernelspec": {
   "display_name": "Python 3 ",
   "language": "python",
   "name": "python3"
  },
  "language_info": {
   "codemirror_mode": {
    "name": "ipython",
    "version": 3
   },
   "file_extension": ".py",
   "mimetype": "text/x-python",
   "name": "python",
   "nbconvert_exporter": "python",
   "pygments_lexer": "ipython3",
   "version": "3.9.6"
  }
 },
 "nbformat": 4,
 "nbformat_minor": 4
}
