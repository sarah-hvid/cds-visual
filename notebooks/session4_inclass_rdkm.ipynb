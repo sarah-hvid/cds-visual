{
 "cells": [
  {
   "cell_type": "markdown",
   "metadata": {},
   "source": [
    "# Blurring and thresholds"
   ]
  },
  {
   "cell_type": "code",
   "execution_count": null,
   "metadata": {},
   "outputs": [],
   "source": [
    "# We need to include the home directory in our path, so we can read in our own module.\n",
    "import os\n",
    "import sys\n",
    "sys.path.append(os.path.join(\"..\"))\n",
    "import cv2\n",
    "import numpy as np\n",
    "from utils.imutils import jimshow\n",
    "from utils.imutils import jimshow_channel\n",
    "import matplotlib.pyplot as plt"
   ]
  },
  {
   "cell_type": "markdown",
   "metadata": {},
   "source": [
    "## Load image"
   ]
  },
  {
   "cell_type": "code",
   "execution_count": null,
   "metadata": {},
   "outputs": [],
   "source": [
    "image = cv2.imread(\"../data/img/trex.png\")"
   ]
  },
  {
   "cell_type": "code",
   "execution_count": null,
   "metadata": {},
   "outputs": [],
   "source": [
    "jimshow(image)"
   ]
  },
  {
   "cell_type": "markdown",
   "metadata": {},
   "source": [
    "## Drawing"
   ]
  },
  {
   "cell_type": "code",
   "execution_count": null,
   "metadata": {},
   "outputs": [],
   "source": [
    "jimshow(cv2.rectangle(image, (50, 200), (200, 225), (0,255,0), 1))"
   ]
  },
  {
   "cell_type": "code",
   "execution_count": null,
   "metadata": {},
   "outputs": [],
   "source": [
    "(centerX, centerY) = (image.shape[1] // 2, image.shape[0] // 2)"
   ]
  },
  {
   "cell_type": "code",
   "execution_count": null,
   "metadata": {},
   "outputs": [],
   "source": [
    "jimshow(cv2.circle(image, (centerX, centerY), 50, (255,0,0), 2))"
   ]
  },
  {
   "cell_type": "markdown",
   "metadata": {},
   "source": [
    "## Creating and using masks"
   ]
  },
  {
   "cell_type": "markdown",
   "metadata": {},
   "source": [
    "__Rectangle__"
   ]
  },
  {
   "cell_type": "code",
   "execution_count": null,
   "metadata": {},
   "outputs": [],
   "source": [
    "# Create a 300x300 array of zeros\n",
    "rectangle = np.zeros((300, 300), dtype = \"uint8\")\n",
    "# cv2.rectangle(image, start_point, end_point, thickness)\n",
    "rec = cv2.rectangle(rectangle, (25, 25), (275, 275), 255, -1)\n",
    "jimshow_channel(rec)"
   ]
  },
  {
   "cell_type": "markdown",
   "metadata": {},
   "source": [
    "__Circle__"
   ]
  },
  {
   "cell_type": "code",
   "execution_count": null,
   "metadata": {},
   "outputs": [],
   "source": [
    "# cirlc\n",
    "circle = np.zeros((300, 300), dtype = \"uint8\")\n",
    "# cv2.circle(image, centre_coordinates, radius, color, thickness)\n",
    "circ = cv2.circle(circle, (150, 150), 150, 255, -1)\n",
    "jimshow_channel(circ)"
   ]
  },
  {
   "cell_type": "code",
   "execution_count": null,
   "metadata": {},
   "outputs": [],
   "source": [
    "# AND\n",
    "bitwiseAnd = cv2.bitwise_and(rectangle, circle)\n",
    "jimshow_channel(bitwiseAnd, \"AND\")\n",
    "\n",
    "# ORZ\n",
    "bitwiseOR = cv2.bitwise_or(rectangle, circle)\n",
    "jimshow_channel(bitwiseOR, \"OR\")"
   ]
  },
  {
   "cell_type": "code",
   "execution_count": null,
   "metadata": {},
   "outputs": [],
   "source": [
    "# XOR\n",
    "bitwiseXOR = cv2.bitwise_xor(rec, circ)\n",
    "jimshow_channel(bitwiseXOR, \"XOR\")\n",
    "\n",
    "# NOT\n",
    "bitwiseNOT = cv2.bitwise_not(circle)\n",
    "jimshow_channel(bitwiseNOT, \"NOT\")"
   ]
  },
  {
   "cell_type": "markdown",
   "metadata": {},
   "source": [
    "__Rectangle mask__"
   ]
  },
  {
   "cell_type": "code",
   "execution_count": null,
   "metadata": {},
   "outputs": [],
   "source": [
    "# Mask should be same shape as image\n",
    "mask = np.zeros(image.shape[:2], dtype=\"uint8\")\n",
    "\n",
    "# find centres\n",
    "(centre_x, centre_y) = (image.shape[1]//2, image.shape[0]//2)"
   ]
  },
  {
   "cell_type": "code",
   "execution_count": null,
   "metadata": {},
   "outputs": [],
   "source": [
    "cv2.rectangle(mask, (centre_x-50, centre_y-50), (centre_x+10, centre_y+10), 255, -1)"
   ]
  },
  {
   "cell_type": "code",
   "execution_count": null,
   "metadata": {},
   "outputs": [],
   "source": [
    "jimshow_channel(mask)"
   ]
  },
  {
   "cell_type": "code",
   "execution_count": null,
   "metadata": {},
   "outputs": [],
   "source": [
    "jimshow(cv2.bitwise_and(image, image, mask = mask))"
   ]
  },
  {
   "cell_type": "markdown",
   "metadata": {},
   "source": [
    "## GROUP WORK"
   ]
  },
  {
   "cell_type": "markdown",
   "metadata": {},
   "source": [
    "__Circle mask__\n",
    "\n",
    "\n",
    "\n",
    "We can perform a similar process using circular masks.\n",
    "\n",
    "See if you can figure it out in small groups!"
   ]
  },
  {
   "cell_type": "code",
   "execution_count": null,
   "metadata": {},
   "outputs": [],
   "source": [
    "# reload the image\n",
    "image = cv2.imread(fname)"
   ]
  },
  {
   "cell_type": "code",
   "execution_count": null,
   "metadata": {},
   "outputs": [],
   "source": [
    "# create mask 'image'\n",
    "mask = np.zeros(image.shape[:2], dtype = \"uint8\")"
   ]
  },
  {
   "cell_type": "code",
   "execution_count": null,
   "metadata": {},
   "outputs": [],
   "source": [
    "# create array of zeros\n",
    "(centre_x, centre_y) = (image.shape[1]//2, image.shape[0]//2)"
   ]
  },
  {
   "cell_type": "code",
   "execution_count": null,
   "metadata": {},
   "outputs": [],
   "source": [
    "# define centres\n",
    "cv2.circle(mask, (centre_x, centre_y), 50, 255, -1)"
   ]
  },
  {
   "cell_type": "code",
   "execution_count": null,
   "metadata": {},
   "outputs": [],
   "source": [
    "\n",
    "# bitwise AND on original image\n",
    "jimshow(cv2.bitwise_and(image, image, mask = mask))"
   ]
  },
  {
   "cell_type": "markdown",
   "metadata": {},
   "source": [
    "## Blurring and convolutions"
   ]
  },
  {
   "cell_type": "markdown",
   "metadata": {},
   "source": [
    "__Averaging__"
   ]
  },
  {
   "cell_type": "code",
   "execution_count": null,
   "metadata": {},
   "outputs": [],
   "source": [
    "blurred = np.hstack([\n",
    "    cv2.blur(image, (3, 3)),\n",
    "    cv2.blur(image, (5, 5)),\n",
    "    cv2.blur(image, (7, 7))]\n",
    "    )\n",
    "jimshow(blurred)"
   ]
  },
  {
   "cell_type": "markdown",
   "metadata": {},
   "source": [
    "__Gaussian__"
   ]
  },
  {
   "cell_type": "markdown",
   "metadata": {},
   "source": [
    "Third parameter relates to variance around the mean for a Gaussian distribution.\n",
    "\n",
    "No need to worry about that - we can set the value to 0, which means that sigma depends on the size of the kernel.\n",
    "\n",
    "I.e. (image, (3,3), 0) sigma = 3; (image, (5,5), 0) sigma = 5; etc\n"
   ]
  },
  {
   "cell_type": "code",
   "execution_count": null,
   "metadata": {},
   "outputs": [],
   "source": [
    "# gaussian, third parameter is \\sigma = 0, then computed for kernel size\n",
    "blurred = np.hstack([\n",
    "    cv2.GaussianBlur(image, (3, 3), 0),\n",
    "    cv2.GaussianBlur(image, (5, 5), 0),\n",
    "    cv2.GaussianBlur(image, (7, 7), 0)]\n",
    "    )\n",
    "jimshow(blurred)"
   ]
  },
  {
   "cell_type": "markdown",
   "metadata": {},
   "source": [
    "__Median__"
   ]
  },
  {
   "cell_type": "code",
   "execution_count": null,
   "metadata": {},
   "outputs": [],
   "source": [
    "#does not \"invent\" pixel values, kernel removes details and noise\n",
    "blurred = np.hstack([\n",
    "    cv2.medianBlur(image, 3),\n",
    "    cv2.medianBlur(image, 5),\n",
    "    cv2.medianBlur(image, 7)]\n",
    "    )\n",
    "jimshow(blurred)"
   ]
  },
  {
   "cell_type": "markdown",
   "metadata": {},
   "source": [
    "__Bilateral__"
   ]
  },
  {
   "cell_type": "markdown",
   "metadata": {},
   "source": [
    "The first parameter we supply is the image we want to blur. \n",
    "\n",
    "Then, we need to define the diameter of our pixel neighborhood. \n",
    "\n",
    "The second argument is our color σ. A larger value for color σ means that more colors in the neighborhood will be considered when computing the blur. \n",
    "\n",
    "Finally, we need to supply the space σ. A larger value of space σ means that pixels farther out from the central pixel will influence the blurring calculation, pro- vided that their colors are similar enough"
   ]
  },
  {
   "cell_type": "code",
   "execution_count": null,
   "metadata": {},
   "outputs": [],
   "source": [
    "# keeps edges via 2 gaussian, only smooth similar intensity, slow algo\n",
    "blurred = np.hstack([\n",
    "    cv2.bilateralFilter(image, 3, 21, 21),\n",
    "    cv2.bilateralFilter(image, 7, 31, 31),\n",
    "    cv2.bilateralFilter(image, 9, 41, 41)\n",
    "])\n",
    "jimshow(blurred)\n",
    "# second argument: diameter of pixel neighborhood\n",
    "# third argument: color \\sigma (number of colors to consider)\n",
    "# fourth argument: space \\sigma (number of pixel to consider)"
   ]
  },
  {
   "cell_type": "markdown",
   "metadata": {},
   "source": [
    "## Thresholding"
   ]
  },
  {
   "cell_type": "markdown",
   "metadata": {},
   "source": [
    "__Simple__"
   ]
  },
  {
   "cell_type": "markdown",
   "metadata": {},
   "source": [
    "Applications:\n",
    "- preprocessing, focus on objects or areas of particular interest in an image\n",
    "- segment foreground and background"
   ]
  },
  {
   "cell_type": "code",
   "execution_count": null,
   "metadata": {},
   "outputs": [],
   "source": [
    "image = cv2.imread(\"../data/img/trex.png\")"
   ]
  },
  {
   "cell_type": "code",
   "execution_count": null,
   "metadata": {},
   "outputs": [],
   "source": [
    "# convert to greyscale\n",
    "image = cv2.cvtColor(image, cv2.COLOR_BGR2GRAY)"
   ]
  },
  {
   "cell_type": "code",
   "execution_count": null,
   "metadata": {},
   "outputs": [],
   "source": [
    "# plot histogram\n",
    "plt.hist(image.flatten(),256,[0,256])\n",
    "plt.show()"
   ]
  },
  {
   "cell_type": "code",
   "execution_count": null,
   "metadata": {},
   "outputs": [],
   "source": [
    "# remove high frequency edges with a blur kernel\n",
    "blurred = cv2.GaussianBlur(image, (5, 5), 0)\n",
    "jimshow_channel(image)"
   ]
  },
  {
   "cell_type": "code",
   "execution_count": null,
   "metadata": {},
   "outputs": [],
   "source": [
    "# threshold \n",
    "(T, thres) = cv2.threshold(blurred, 200, 255, cv2.THRESH_BINARY)\n",
    "jimshow_channel(thres)"
   ]
  },
  {
   "cell_type": "code",
   "execution_count": null,
   "metadata": {},
   "outputs": [],
   "source": [
    "\n",
    "(T, thresInv) = cv2.threshold(blurred, 200, 255, cv2.THRESH_BINARY_INV)\n",
    "jimshow_channel(thresInv)"
   ]
  },
  {
   "cell_type": "code",
   "execution_count": null,
   "metadata": {},
   "outputs": [],
   "source": [
    "jimshow_channel(cv2.bitwise_and(image, image, mask = thresInv))"
   ]
  },
  {
   "cell_type": "markdown",
   "metadata": {},
   "source": [
    "__Adaptive__\n",
    "\n",
    "Exemplify adaptive thresholding to avoid one threshold value that is manually determined\n",
    "- considers small neighbors of pixels and then finds an optimal threshold value T for each neighbo"
   ]
  },
  {
   "cell_type": "code",
   "execution_count": null,
   "metadata": {},
   "outputs": [],
   "source": [
    "image = cv2.imread(\"../data/img/trex.png\")"
   ]
  },
  {
   "cell_type": "code",
   "execution_count": null,
   "metadata": {},
   "outputs": [],
   "source": [
    "# preprocessing\n",
    "image_grey = cv2.cvtColor(image, cv2.COLOR_BGR2GRAY)\n",
    "blurred = cv2.GaussianBlur(image_grey, (5,5), 0)"
   ]
  },
  {
   "cell_type": "markdown",
   "metadata": {},
   "source": [
    "__Adaptive mean threshold__"
   ]
  },
  {
   "cell_type": "code",
   "execution_count": null,
   "metadata": {},
   "outputs": [],
   "source": [
    "am_thresh = cv2.adaptiveThreshold(blurred, 255, \n",
    "    cv2.ADAPTIVE_THRESH_MEAN_C,# method for computing threshold (mean of neighborhood) \n",
    "    cv2.THRESH_BINARY_INV,# method fo thresholding \n",
    "    11,# neighborhood pixel size\n",
    "    4 # parameter C subtracted from the mean to fine-tune thresholding\n",
    "    )\n",
    "jimshow_channel(am_thresh)"
   ]
  },
  {
   "cell_type": "code",
   "execution_count": null,
   "metadata": {},
   "outputs": [],
   "source": [
    "jimshow_channel(cv2.bitwise_and(image_grey, image_grey, mask = am_thresh))"
   ]
  },
  {
   "cell_type": "markdown",
   "metadata": {},
   "source": [
    "__Adaptive Gaussian threshold__"
   ]
  },
  {
   "cell_type": "code",
   "execution_count": null,
   "metadata": {},
   "outputs": [],
   "source": [
    "ag_thresh = cv2.adaptiveThreshold(blurred, 255,\n",
    "    cv2.ADAPTIVE_THRESH_GAUSSIAN_C,\n",
    "    cv2.THRESH_BINARY_INV,\n",
    "    11,\n",
    "    3\n",
    "    )\n",
    "jimshow_channel(ag_thresh)"
   ]
  },
  {
   "cell_type": "code",
   "execution_count": null,
   "metadata": {},
   "outputs": [],
   "source": [
    "jimshow_channel(cv2.bitwise_and(image_grey, image_grey, mask = ag_thresh))"
   ]
  },
  {
   "cell_type": "markdown",
   "metadata": {},
   "source": [
    "__Install mahotas__"
   ]
  },
  {
   "cell_type": "code",
   "execution_count": null,
   "metadata": {},
   "outputs": [],
   "source": [
    "!python -m pip install mahotas"
   ]
  },
  {
   "cell_type": "code",
   "execution_count": null,
   "metadata": {},
   "outputs": [],
   "source": [
    "# Otsu\n",
    "T = mahotas.thresholding.otsu(blurred)\n",
    "print(\"[INFO] Otsu's threshold {}\".format(T))"
   ]
  },
  {
   "cell_type": "code",
   "execution_count": null,
   "metadata": {},
   "outputs": [],
   "source": [
    "otsu_thresh = image_grey.copy()\n",
    "otsu_thresh[otsu_thresh > T] = 255\n",
    "otsu_thresh[otsu_thresh < 255] = 0\n",
    "otsu_thresh = cv2.bitwise_not(otsu_thresh)"
   ]
  },
  {
   "cell_type": "code",
   "execution_count": null,
   "metadata": {},
   "outputs": [],
   "source": [
    "jimshow_channel(otsu_thresh)"
   ]
  },
  {
   "cell_type": "code",
   "execution_count": null,
   "metadata": {},
   "outputs": [],
   "source": [
    "jimshow_channel(cv2.bitwise_and(image_grey, image_grey, mask = otsu_thresh))"
   ]
  }
 ],
 "metadata": {
  "kernelspec": {
   "display_name": "Python 3",
   "language": "python",
   "name": "python3"
  },
  "language_info": {
   "codemirror_mode": {
    "name": "ipython",
    "version": 3
   },
   "file_extension": ".py",
   "mimetype": "text/x-python",
   "name": "python",
   "nbconvert_exporter": "python",
   "pygments_lexer": "ipython3",
   "version": "3.8.9"
  }
 },
 "nbformat": 4,
 "nbformat_minor": 4
}
