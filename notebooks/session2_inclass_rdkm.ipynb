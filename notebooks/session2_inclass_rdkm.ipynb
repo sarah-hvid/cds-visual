{
 "cells": [
  {
   "cell_type": "markdown",
   "metadata": {},
   "source": [
    "# Exploring colour channels"
   ]
  },
  {
   "cell_type": "markdown",
   "metadata": {},
   "source": [
    "In this session, we'll be looking at how to explore the different colour channels that compris an image."
   ]
  },
  {
   "cell_type": "code",
   "execution_count": null,
   "metadata": {
    "tags": []
   },
   "outputs": [],
   "source": [
    "# We need to include the home directory in our path, so we can read in our own module.\n",
    "import os\n",
    "\n",
    "# image processing tools\n",
    "import cv2\n",
    "import numpy as np\n",
    "\n",
    "# utility functions for this course\n",
    "import sys\n",
    "sys.path.append(os.path.join(\"..\", \"..\", \"CDS-VIS\"))\n",
    "from utils.imutils import jimshow\n",
    "from utils.imutils import jimshow_channel\n",
    "\n",
    "# plotting tool\n",
    "import matplotlib.pyplot as plt"
   ]
  },
  {
   "cell_type": "markdown",
   "metadata": {},
   "source": [
    "## Rotation"
   ]
  },
  {
   "cell_type": "code",
   "execution_count": null,
   "metadata": {
    "tags": []
   },
   "outputs": [],
   "source": [
    "filename = os.path.join(\"..\", \"..\", \"CDS-VIS\", \"img\", \"terasse.jpeg\")"
   ]
  },
  {
   "cell_type": "code",
   "execution_count": null,
   "metadata": {
    "tags": []
   },
   "outputs": [],
   "source": [
    "image = cv2.imread(filename)"
   ]
  },
  {
   "cell_type": "code",
   "execution_count": null,
   "metadata": {
    "tags": []
   },
   "outputs": [],
   "source": [
    "image.shape"
   ]
  },
  {
   "cell_type": "code",
   "execution_count": null,
   "metadata": {
    "tags": []
   },
   "outputs": [],
   "source": [
    "jimshow(image)"
   ]
  },
  {
   "cell_type": "markdown",
   "metadata": {},
   "source": [
    "## Splitting channels"
   ]
  },
  {
   "cell_type": "code",
   "execution_count": null,
   "metadata": {
    "tags": []
   },
   "outputs": [],
   "source": [
    "(B, G, R) = cv2.split(image)"
   ]
  },
  {
   "cell_type": "code",
   "execution_count": null,
   "metadata": {
    "tags": []
   },
   "outputs": [],
   "source": [
    "jimshow_channel(R, \"Red\")"
   ]
  },
  {
   "cell_type": "markdown",
   "metadata": {},
   "source": [
    "__Empty numpy array__"
   ]
  },
  {
   "cell_type": "code",
   "execution_count": null,
   "metadata": {
    "tags": []
   },
   "outputs": [],
   "source": [
    "zeros = np.zeros(image.shape[:2], dtype = \"uint8\")"
   ]
  },
  {
   "cell_type": "code",
   "execution_count": null,
   "metadata": {
    "tags": []
   },
   "outputs": [],
   "source": [
    "jimshow(cv2.merge([zeros, zeros, R]))"
   ]
  },
  {
   "cell_type": "code",
   "execution_count": null,
   "metadata": {
    "tags": []
   },
   "outputs": [],
   "source": [
    "jimshow(cv2.merge([zeros, G, zeros]))"
   ]
  },
  {
   "cell_type": "code",
   "execution_count": null,
   "metadata": {
    "tags": []
   },
   "outputs": [],
   "source": [
    "jimshow(cv2.merge([B, zeros, zeros]))"
   ]
  },
  {
   "cell_type": "markdown",
   "metadata": {},
   "source": [
    "## Histograms"
   ]
  },
  {
   "cell_type": "code",
   "execution_count": null,
   "metadata": {
    "tags": []
   },
   "outputs": [],
   "source": [
    "jimshow_channel(cv2.cvtColor(image, cv2.COLOR_BGR2GRAY), \"Greyscale\")"
   ]
  },
  {
   "cell_type": "markdown",
   "metadata": {},
   "source": [
    "__A note on ```COLOR_BRG2GRAY```__"
   ]
  },
  {
   "cell_type": "code",
   "execution_count": null,
   "metadata": {
    "tags": []
   },
   "outputs": [],
   "source": [
    "greyed_image = cv2.cvtColor(image, cv2.COLOR_BGR2GRAY)"
   ]
  },
  {
   "cell_type": "markdown",
   "metadata": {},
   "source": [
    "```greyed_image.flatten() != image.flatten()```"
   ]
  },
  {
   "cell_type": "markdown",
   "metadata": {},
   "source": [
    "## A quick greyscale histogram using matplotlib"
   ]
  },
  {
   "cell_type": "code",
   "execution_count": null,
   "metadata": {
    "tags": []
   },
   "outputs": [],
   "source": [
    "# Create figure\n",
    "plt.figure()\n",
    "# Add histogram\n",
    "plt.hist(image.flatten(), 256, [0,256])\n",
    "# Plot title\n",
    "plt.title(\"Greyscale histogram\")\n",
    "plt.xlabel(\"Bins\")\n",
    "plt.ylabel(\"# of Pixels\")\n",
    "plt.show()"
   ]
  },
  {
   "cell_type": "markdown",
   "metadata": {},
   "source": [
    "## Plotting color histograms"
   ]
  },
  {
   "cell_type": "markdown",
   "metadata": {},
   "source": [
    "```cv2.calcHist(images, channels, mask, histSize, ranges[, hist[, accumulate]])```\n",
    "\n",
    "- images : it is the source image of type uint8 or float32 represented as “[img]”.\n",
    "- channels : it is the index of channel for which we calculate histogram. \n",
    "    - For grayscale image, its value is [0] and\n",
    "    - color image, you can pass [0], [1] or [2] to calculate histogram of blue, green or red channel respectively.\n",
    "- mask : mask image. To find histogram of full image, it is given as “None”.\n",
    "- histSize : this represents our BIN count. For full scale, we pass [256].\n",
    "- ranges : this is our RANGE. Normally, it is [0,256]."
   ]
  },
  {
   "cell_type": "code",
   "execution_count": null,
   "metadata": {
    "tags": []
   },
   "outputs": [],
   "source": [
    "# split channels\n",
    "channels = cv2.split(image)\n",
    "# names of colours\n",
    "colors = (\"b\", \"g\", \"r\")\n",
    "# create plot\n",
    "plt.figure()\n",
    "# add title\n",
    "plt.title(\"Histogram\")\n",
    "# Add xlabel\n",
    "plt.xlabel(\"Bins\")\n",
    "# Add ylabel\n",
    "plt.ylabel(\"# of Pixels\")\n",
    "\n",
    "# for every tuple of channel, colour\n",
    "for (channel, color) in zip(channels, colors):\n",
    "    # Create a histogram\n",
    "    hist = cv2.calcHist([channel], [0], None, [256], [0, 256])\n",
    "    # Plot histogram\n",
    "    plt.plot(hist, color=color)\n",
    "    # Set limits of x-axis\n",
    "    plt.xlim([0, 256])\n",
    "# Show plot\n",
    "plt.show()"
   ]
  }
 ],
 "metadata": {
  "kernelspec": {
   "display_name": "Python 3 ",
   "language": "python",
   "name": "python3"
  },
  "language_info": {
   "codemirror_mode": {
    "name": "ipython",
    "version": 3
   },
   "file_extension": ".py",
   "mimetype": "text/x-python",
   "name": "python",
   "nbconvert_exporter": "python",
   "pygments_lexer": "ipython3",
   "version": "3.9.6"
  }
 },
 "nbformat": 4,
 "nbformat_minor": 4
}
