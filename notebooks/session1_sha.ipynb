{
 "cells": [
  {
   "cell_type": "markdown",
   "metadata": {},
   "source": [
    "## Introducing ```numpy``` and arrays"
   ]
  },
  {
   "cell_type": "markdown",
   "metadata": {},
   "source": [
    "To begin processing image data, we need to understand what's going on behind the scenes.\n",
    "\n",
    "We can do that using a library called ```numpy```, which stands for __Numerical Python__. \n",
    "\n",
    "In general, you should use this library when you want to do fancy mathemtical operations with numbers, especially if you have arrays or matrices."
   ]
  },
  {
   "cell_type": "code",
   "execution_count": 1,
   "metadata": {
    "execution": {
     "iopub.execute_input": "2022-02-16T10:49:19.174283Z",
     "iopub.status.busy": "2022-02-16T10:49:19.173773Z",
     "iopub.status.idle": "2022-02-16T10:49:19.180833Z",
     "shell.execute_reply": "2022-02-16T10:49:19.179855Z",
     "shell.execute_reply.started": "2022-02-16T10:49:19.174232Z"
    },
    "tags": []
   },
   "outputs": [],
   "source": [
    "# tools for interacting with the operating system\n",
    "import os\n",
    "\n",
    "# scientific python tool for \n",
    "import numpy as np # creating an abbreviation to save keystrokes"
   ]
  },
  {
   "cell_type": "code",
   "execution_count": 6,
   "metadata": {
    "execution": {
     "iopub.execute_input": "2022-02-16T10:54:11.821691Z",
     "iopub.status.busy": "2022-02-16T10:54:11.821168Z",
     "iopub.status.idle": "2022-02-16T10:54:11.828176Z",
     "shell.execute_reply": "2022-02-16T10:54:11.826935Z",
     "shell.execute_reply.started": "2022-02-16T10:54:11.821641Z"
    },
    "tags": []
   },
   "outputs": [],
   "source": [
    "filepath = os.path.join('/work/CDS-VIS/test_samples/sample-data-01.csv')"
   ]
  },
  {
   "cell_type": "markdown",
   "metadata": {},
   "source": [
    "The expression ```numpy.loadtxt(...)``` is a function call that asks Python to run the function ```loadtxt``` which belongs to the ```numpy``` library. This dotted notation is used everywhere in Python: the thing that appears before the dot contains the thing that appears after.\n",
    "\n",
    "\n",
    "```numpy.loadtxt``` has two parameters: the name of the file we want to read and the delimiter that separates values on a line. These both need to be character strings (or strings for short), so we put them in quotes."
   ]
  },
  {
   "cell_type": "markdown",
   "metadata": {},
   "source": [
    "__Assign to variable__"
   ]
  },
  {
   "cell_type": "code",
   "execution_count": 7,
   "metadata": {
    "execution": {
     "iopub.execute_input": "2022-02-16T10:54:13.760980Z",
     "iopub.status.busy": "2022-02-16T10:54:13.760444Z",
     "iopub.status.idle": "2022-02-16T10:54:13.771541Z",
     "shell.execute_reply": "2022-02-16T10:54:13.770732Z",
     "shell.execute_reply.started": "2022-02-16T10:54:13.760928Z"
    },
    "tags": []
   },
   "outputs": [],
   "source": [
    "data = np.loadtxt(filepath, delimiter = ',')"
   ]
  },
  {
   "cell_type": "code",
   "execution_count": 8,
   "metadata": {
    "execution": {
     "iopub.execute_input": "2022-02-16T10:54:15.740277Z",
     "iopub.status.busy": "2022-02-16T10:54:15.739772Z",
     "iopub.status.idle": "2022-02-16T10:54:15.748312Z",
     "shell.execute_reply": "2022-02-16T10:54:15.747386Z",
     "shell.execute_reply.started": "2022-02-16T10:54:15.740227Z"
    },
    "tags": []
   },
   "outputs": [
    {
     "name": "stdout",
     "output_type": "stream",
     "text": [
      "[[0. 0. 1. ... 3. 0. 0.]\n",
      " [0. 1. 2. ... 1. 0. 1.]\n",
      " [0. 1. 1. ... 2. 1. 1.]\n",
      " ...\n",
      " [0. 1. 1. ... 1. 1. 1.]\n",
      " [0. 0. 0. ... 0. 2. 0.]\n",
      " [0. 0. 1. ... 1. 1. 0.]]\n"
     ]
    }
   ],
   "source": [
    "print(data)"
   ]
  },
  {
   "cell_type": "code",
   "execution_count": 9,
   "metadata": {
    "execution": {
     "iopub.execute_input": "2022-02-16T10:54:18.092397Z",
     "iopub.status.busy": "2022-02-16T10:54:18.091898Z",
     "iopub.status.idle": "2022-02-16T10:54:18.099033Z",
     "shell.execute_reply": "2022-02-16T10:54:18.097989Z",
     "shell.execute_reply.started": "2022-02-16T10:54:18.092346Z"
    },
    "tags": []
   },
   "outputs": [
    {
     "name": "stdout",
     "output_type": "stream",
     "text": [
      "(60, 40)\n"
     ]
    }
   ],
   "source": [
    "print(type(data))"
   ]
  },
  {
   "cell_type": "markdown",
   "metadata": {},
   "source": [
    "__numpy.ndarray__ tells us that we are working with an N-dimensional array\n",
    "\n",
    "In this case, it's 2-dimensional"
   ]
  },
  {
   "cell_type": "code",
   "execution_count": 12,
   "metadata": {
    "execution": {
     "iopub.execute_input": "2022-02-16T11:06:45.882248Z",
     "iopub.status.busy": "2022-02-16T11:06:45.881748Z",
     "iopub.status.idle": "2022-02-16T11:06:45.889124Z",
     "shell.execute_reply": "2022-02-16T11:06:45.888071Z",
     "shell.execute_reply.started": "2022-02-16T11:06:45.882198Z"
    },
    "tags": []
   },
   "outputs": [
    {
     "name": "stdout",
     "output_type": "stream",
     "text": [
      "(60, 40)\n"
     ]
    }
   ],
   "source": [
    "print(data.shape)"
   ]
  },
  {
   "cell_type": "code",
   "execution_count": 13,
   "metadata": {
    "execution": {
     "iopub.execute_input": "2022-02-16T11:07:11.405148Z",
     "iopub.status.busy": "2022-02-16T11:07:11.404647Z",
     "iopub.status.idle": "2022-02-16T11:07:11.413322Z",
     "shell.execute_reply": "2022-02-16T11:07:11.412340Z",
     "shell.execute_reply.started": "2022-02-16T11:07:11.405099Z"
    },
    "tags": []
   },
   "outputs": [
    {
     "data": {
      "text/plain": [
       "2400"
      ]
     },
     "execution_count": 13,
     "metadata": {},
     "output_type": "execute_result"
    }
   ],
   "source": [
    "60 * 40 #2400 separate observations"
   ]
  },
  {
   "cell_type": "code",
   "execution_count": 14,
   "metadata": {
    "execution": {
     "iopub.execute_input": "2022-02-16T11:08:14.915078Z",
     "iopub.status.busy": "2022-02-16T11:08:14.914413Z",
     "iopub.status.idle": "2022-02-16T11:08:14.921972Z",
     "shell.execute_reply": "2022-02-16T11:08:14.920933Z",
     "shell.execute_reply.started": "2022-02-16T11:08:14.915027Z"
    },
    "tags": []
   },
   "outputs": [
    {
     "name": "stdout",
     "output_type": "stream",
     "text": [
      "float64\n"
     ]
    }
   ],
   "source": [
    "print(data.dtype) #float64, so commas in the numbers"
   ]
  },
  {
   "cell_type": "markdown",
   "metadata": {},
   "source": [
    "__Index__"
   ]
  },
  {
   "cell_type": "markdown",
   "metadata": {},
   "source": [
    "Indexing is similar to lists and strings, but we need to inlcude both row and column"
   ]
  },
  {
   "cell_type": "code",
   "execution_count": 33,
   "metadata": {
    "execution": {
     "iopub.execute_input": "2022-02-16T11:14:49.110301Z",
     "iopub.status.busy": "2022-02-16T11:14:49.109765Z",
     "iopub.status.idle": "2022-02-16T11:14:49.117600Z",
     "shell.execute_reply": "2022-02-16T11:14:49.116011Z",
     "shell.execute_reply.started": "2022-02-16T11:14:49.110248Z"
    },
    "tags": []
   },
   "outputs": [],
   "source": [
    "first_value = data[0,0]"
   ]
  },
  {
   "cell_type": "code",
   "execution_count": 34,
   "metadata": {
    "execution": {
     "iopub.execute_input": "2022-02-16T11:14:50.373044Z",
     "iopub.status.busy": "2022-02-16T11:14:50.372335Z",
     "iopub.status.idle": "2022-02-16T11:14:50.381620Z",
     "shell.execute_reply": "2022-02-16T11:14:50.380569Z",
     "shell.execute_reply.started": "2022-02-16T11:14:50.372991Z"
    },
    "tags": []
   },
   "outputs": [
    {
     "data": {
      "text/plain": [
       "0.0"
      ]
     },
     "execution_count": 34,
     "metadata": {},
     "output_type": "execute_result"
    }
   ],
   "source": [
    "first_value"
   ]
  },
  {
   "cell_type": "markdown",
   "metadata": {},
   "source": [
    "__Question:__ What is the middle value of the array?"
   ]
  },
  {
   "cell_type": "code",
   "execution_count": 43,
   "metadata": {
    "execution": {
     "iopub.execute_input": "2022-02-16T11:24:13.946893Z",
     "iopub.status.busy": "2022-02-16T11:24:13.946246Z",
     "iopub.status.idle": "2022-02-16T11:24:13.953248Z",
     "shell.execute_reply": "2022-02-16T11:24:13.951885Z",
     "shell.execute_reply.started": "2022-02-16T11:24:13.946841Z"
    },
    "tags": []
   },
   "outputs": [],
   "source": [
    "middle_value = data[29, 19]"
   ]
  },
  {
   "cell_type": "code",
   "execution_count": 44,
   "metadata": {
    "execution": {
     "iopub.execute_input": "2022-02-16T11:24:15.264595Z",
     "iopub.status.busy": "2022-02-16T11:24:15.264084Z",
     "iopub.status.idle": "2022-02-16T11:24:15.272836Z",
     "shell.execute_reply": "2022-02-16T11:24:15.271422Z",
     "shell.execute_reply.started": "2022-02-16T11:24:15.264546Z"
    },
    "tags": []
   },
   "outputs": [
    {
     "name": "stdout",
     "output_type": "stream",
     "text": [
      "the middle value is 16.0\n"
     ]
    }
   ],
   "source": [
    "print(f'the middle value is {middle_value}')"
   ]
  },
  {
   "cell_type": "markdown",
   "metadata": {},
   "source": [
    "<img src=\"../../CDS-VIS/test_samples/python-zero-index.svg\">"
   ]
  },
  {
   "cell_type": "markdown",
   "metadata": {},
   "source": [
    "__Slice__"
   ]
  },
  {
   "cell_type": "markdown",
   "metadata": {},
   "source": [
    "An index like [30, 20] selects a single element of an array, but we can select whole sections as well. \n",
    "\n",
    "For example, we can select the first ten columns of values for the first four rows like this:"
   ]
  },
  {
   "cell_type": "code",
   "execution_count": 52,
   "metadata": {
    "execution": {
     "iopub.execute_input": "2022-02-16T11:34:06.782105Z",
     "iopub.status.busy": "2022-02-16T11:34:06.781557Z",
     "iopub.status.idle": "2022-02-16T11:34:06.793530Z",
     "shell.execute_reply": "2022-02-16T11:34:06.792001Z",
     "shell.execute_reply.started": "2022-02-16T11:34:06.782050Z"
    },
    "tags": []
   },
   "outputs": [
    {
     "data": {
      "text/plain": [
       "array([[0., 0., 1., 3., 1., 2., 4., 7., 8., 3.],\n",
       "       [0., 1., 2., 1., 2., 1., 3., 2., 2., 6.],\n",
       "       [0., 1., 1., 3., 3., 2., 6., 2., 5., 9.],\n",
       "       [0., 0., 2., 0., 4., 2., 2., 1., 6., 7.]])"
      ]
     },
     "execution_count": 52,
     "metadata": {},
     "output_type": "execute_result"
    }
   ],
   "source": [
    "data[0:4,0:10]"
   ]
  },
  {
   "cell_type": "markdown",
   "metadata": {},
   "source": [
    "First ten columns, rows five-ten"
   ]
  },
  {
   "cell_type": "code",
   "execution_count": 50,
   "metadata": {
    "execution": {
     "iopub.execute_input": "2022-02-16T11:31:56.071112Z",
     "iopub.status.busy": "2022-02-16T11:31:56.070541Z",
     "iopub.status.idle": "2022-02-16T11:31:56.081319Z",
     "shell.execute_reply": "2022-02-16T11:31:56.079933Z",
     "shell.execute_reply.started": "2022-02-16T11:31:56.071056Z"
    },
    "tags": []
   },
   "outputs": [
    {
     "data": {
      "text/plain": [
       "[12, 15]"
      ]
     },
     "execution_count": 50,
     "metadata": {},
     "output_type": "execute_result"
    }
   ],
   "source": []
  },
  {
   "cell_type": "markdown",
   "metadata": {},
   "source": [
    "__Select only one row__"
   ]
  },
  {
   "cell_type": "code",
   "execution_count": null,
   "metadata": {},
   "outputs": [],
   "source": []
  },
  {
   "cell_type": "markdown",
   "metadata": {},
   "source": [
    "__Select only one column__"
   ]
  },
  {
   "cell_type": "code",
   "execution_count": null,
   "metadata": {},
   "outputs": [],
   "source": []
  },
  {
   "cell_type": "markdown",
   "metadata": {},
   "source": [
    "__Numpy functions__"
   ]
  },
  {
   "cell_type": "code",
   "execution_count": 53,
   "metadata": {
    "execution": {
     "iopub.execute_input": "2022-02-16T11:40:39.002886Z",
     "iopub.status.busy": "2022-02-16T11:40:39.002318Z",
     "iopub.status.idle": "2022-02-16T11:40:39.013068Z",
     "shell.execute_reply": "2022-02-16T11:40:39.011594Z",
     "shell.execute_reply.started": "2022-02-16T11:40:39.002831Z"
    },
    "tags": []
   },
   "outputs": [
    {
     "data": {
      "text/plain": [
       "6.14875"
      ]
     },
     "execution_count": 53,
     "metadata": {},
     "output_type": "execute_result"
    }
   ],
   "source": [
    "np.mean(data)"
   ]
  },
  {
   "cell_type": "code",
   "execution_count": 54,
   "metadata": {
    "execution": {
     "iopub.execute_input": "2022-02-16T11:41:26.337182Z",
     "iopub.status.busy": "2022-02-16T11:41:26.336637Z",
     "iopub.status.idle": "2022-02-16T11:41:26.347019Z",
     "shell.execute_reply": "2022-02-16T11:41:26.345855Z",
     "shell.execute_reply.started": "2022-02-16T11:41:26.337128Z"
    },
    "tags": []
   },
   "outputs": [
    {
     "data": {
      "text/plain": [
       "20.0"
      ]
     },
     "execution_count": 54,
     "metadata": {},
     "output_type": "execute_result"
    }
   ],
   "source": [
    "np.max(data)\n",
    "np.min(data)"
   ]
  },
  {
   "cell_type": "code",
   "execution_count": 56,
   "metadata": {
    "execution": {
     "iopub.execute_input": "2022-02-16T11:42:05.381702Z",
     "iopub.status.busy": "2022-02-16T11:42:05.381133Z",
     "iopub.status.idle": "2022-02-16T11:42:05.392419Z",
     "shell.execute_reply": "2022-02-16T11:42:05.390950Z",
     "shell.execute_reply.started": "2022-02-16T11:42:05.381646Z"
    },
    "tags": []
   },
   "outputs": [
    {
     "data": {
      "text/plain": [
       "4.613833197118566"
      ]
     },
     "execution_count": 56,
     "metadata": {},
     "output_type": "execute_result"
    }
   ],
   "source": [
    "np.std(data)"
   ]
  },
  {
   "cell_type": "markdown",
   "metadata": {},
   "source": [
    "How to access help..."
   ]
  },
  {
   "cell_type": "code",
   "execution_count": 61,
   "metadata": {
    "execution": {
     "iopub.execute_input": "2022-02-16T11:48:04.606853Z",
     "iopub.status.busy": "2022-02-16T11:48:04.606278Z",
     "iopub.status.idle": "2022-02-16T11:48:04.616943Z",
     "shell.execute_reply": "2022-02-16T11:48:04.615529Z",
     "shell.execute_reply.started": "2022-02-16T11:48:04.606796Z"
    },
    "tags": []
   },
   "outputs": [
    {
     "name": "stdout",
     "output_type": "stream",
     "text": [
      "Help on function amax in module numpy:\n",
      "\n",
      "amax(a, axis=None, out=None, keepdims=<no value>, initial=<no value>, where=<no value>)\n",
      "    Return the maximum of an array or maximum along an axis.\n",
      "    \n",
      "    Parameters\n",
      "    ----------\n",
      "    a : array_like\n",
      "        Input data.\n",
      "    axis : None or int or tuple of ints, optional\n",
      "        Axis or axes along which to operate.  By default, flattened input is\n",
      "        used.\n",
      "    \n",
      "        .. versionadded:: 1.7.0\n",
      "    \n",
      "        If this is a tuple of ints, the maximum is selected over multiple axes,\n",
      "        instead of a single axis or all the axes as before.\n",
      "    out : ndarray, optional\n",
      "        Alternative output array in which to place the result.  Must\n",
      "        be of the same shape and buffer length as the expected output.\n",
      "        See :ref:`ufuncs-output-type` for more details.\n",
      "    \n",
      "    keepdims : bool, optional\n",
      "        If this is set to True, the axes which are reduced are left\n",
      "        in the result as dimensions with size one. With this option,\n",
      "        the result will broadcast correctly against the input array.\n",
      "    \n",
      "        If the default value is passed, then `keepdims` will not be\n",
      "        passed through to the `amax` method of sub-classes of\n",
      "        `ndarray`, however any non-default value will be.  If the\n",
      "        sub-class' method does not implement `keepdims` any\n",
      "        exceptions will be raised.\n",
      "    \n",
      "    initial : scalar, optional\n",
      "        The minimum value of an output element. Must be present to allow\n",
      "        computation on empty slice. See `~numpy.ufunc.reduce` for details.\n",
      "    \n",
      "        .. versionadded:: 1.15.0\n",
      "    \n",
      "    where : array_like of bool, optional\n",
      "        Elements to compare for the maximum. See `~numpy.ufunc.reduce`\n",
      "        for details.\n",
      "    \n",
      "        .. versionadded:: 1.17.0\n",
      "    \n",
      "    Returns\n",
      "    -------\n",
      "    amax : ndarray or scalar\n",
      "        Maximum of `a`. If `axis` is None, the result is a scalar value.\n",
      "        If `axis` is given, the result is an array of dimension\n",
      "        ``a.ndim - 1``.\n",
      "    \n",
      "    See Also\n",
      "    --------\n",
      "    amin :\n",
      "        The minimum value of an array along a given axis, propagating any NaNs.\n",
      "    nanmax :\n",
      "        The maximum value of an array along a given axis, ignoring any NaNs.\n",
      "    maximum :\n",
      "        Element-wise maximum of two arrays, propagating any NaNs.\n",
      "    fmax :\n",
      "        Element-wise maximum of two arrays, ignoring any NaNs.\n",
      "    argmax :\n",
      "        Return the indices of the maximum values.\n",
      "    \n",
      "    nanmin, minimum, fmin\n",
      "    \n",
      "    Notes\n",
      "    -----\n",
      "    NaN values are propagated, that is if at least one item is NaN, the\n",
      "    corresponding max value will be NaN as well. To ignore NaN values\n",
      "    (MATLAB behavior), please use nanmax.\n",
      "    \n",
      "    Don't use `amax` for element-wise comparison of 2 arrays; when\n",
      "    ``a.shape[0]`` is 2, ``maximum(a[0], a[1])`` is faster than\n",
      "    ``amax(a, axis=0)``.\n",
      "    \n",
      "    Examples\n",
      "    --------\n",
      "    >>> a = np.arange(4).reshape((2,2))\n",
      "    >>> a\n",
      "    array([[0, 1],\n",
      "           [2, 3]])\n",
      "    >>> np.amax(a)           # Maximum of the flattened array\n",
      "    3\n",
      "    >>> np.amax(a, axis=0)   # Maxima along the first axis\n",
      "    array([2, 3])\n",
      "    >>> np.amax(a, axis=1)   # Maxima along the second axis\n",
      "    array([1, 3])\n",
      "    >>> np.amax(a, where=[False, True], initial=-1, axis=0)\n",
      "    array([-1,  3])\n",
      "    >>> b = np.arange(5, dtype=float)\n",
      "    >>> b[2] = np.NaN\n",
      "    >>> np.amax(b)\n",
      "    nan\n",
      "    >>> np.amax(b, where=~np.isnan(b), initial=-1)\n",
      "    4.0\n",
      "    >>> np.nanmax(b)\n",
      "    4.0\n",
      "    \n",
      "    You can use an initial value to compute the maximum of an empty slice, or\n",
      "    to initialize it to a different value:\n",
      "    \n",
      "    >>> np.max([[-50], [10]], axis=-1, initial=0)\n",
      "    array([ 0, 10])\n",
      "    \n",
      "    Notice that the initial value is used as one of the elements for which the\n",
      "    maximum is determined, unlike for the default argument Python's max\n",
      "    function, which is only used for empty iterables.\n",
      "    \n",
      "    >>> np.max([5], initial=6)\n",
      "    6\n",
      "    >>> max([5], default=6)\n",
      "    5\n",
      "\n"
     ]
    }
   ],
   "source": [
    "help(np.max)"
   ]
  },
  {
   "cell_type": "markdown",
   "metadata": {},
   "source": [
    "__Operation across rows__"
   ]
  },
  {
   "cell_type": "code",
   "execution_count": null,
   "metadata": {},
   "outputs": [],
   "source": [
    "np.median(data, axis = 0)"
   ]
  },
  {
   "cell_type": "code",
   "execution_count": null,
   "metadata": {},
   "outputs": [],
   "source": []
  },
  {
   "cell_type": "markdown",
   "metadata": {},
   "source": [
    "\"Average score per day\""
   ]
  },
  {
   "cell_type": "markdown",
   "metadata": {},
   "source": [
    "__Operation along columns__"
   ]
  },
  {
   "cell_type": "markdown",
   "metadata": {},
   "source": [
    "\"Average score per patient\""
   ]
  },
  {
   "cell_type": "markdown",
   "metadata": {},
   "source": [
    "<img src=\"../../CDS-VIS/test_samples/numpy-axes.png\">"
   ]
  },
  {
   "cell_type": "code",
   "execution_count": 62,
   "metadata": {
    "execution": {
     "iopub.execute_input": "2022-02-16T11:48:28.307517Z",
     "iopub.status.busy": "2022-02-16T11:48:28.306947Z",
     "iopub.status.idle": "2022-02-16T11:48:28.317532Z",
     "shell.execute_reply": "2022-02-16T11:48:28.316557Z",
     "shell.execute_reply.started": "2022-02-16T11:48:28.307447Z"
    },
    "tags": []
   },
   "outputs": [
    {
     "name": "stdout",
     "output_type": "stream",
     "text": [
      "[5.45  5.425 6.1   5.9   5.55  6.225 5.975 6.65  6.625 6.525 6.775 5.8\n",
      " 6.225 5.75  5.225 6.3   6.55  5.7   5.85  6.55  5.775 5.825 6.175 6.1\n",
      " 5.8   6.425 6.05  6.025 6.175 6.55  6.175 6.35  6.725 6.125 7.075 5.725\n",
      " 5.925 6.15  6.075 5.75  5.975 5.725 6.3   5.9   6.75  5.925 7.225 6.15\n",
      " 5.95  6.275 5.7   6.1   6.825 5.975 6.725 5.7   6.25  6.4   7.05  5.9  ]\n"
     ]
    }
   ],
   "source": [
    "print(np.mean(data, axis = 1))"
   ]
  },
  {
   "cell_type": "code",
   "execution_count": 64,
   "metadata": {
    "execution": {
     "iopub.execute_input": "2022-02-16T12:06:55.215209Z",
     "iopub.status.busy": "2022-02-16T12:06:55.214649Z",
     "iopub.status.idle": "2022-02-16T12:06:55.224066Z",
     "shell.execute_reply": "2022-02-16T12:06:55.222638Z",
     "shell.execute_reply.started": "2022-02-16T12:06:55.215151Z"
    },
    "tags": []
   },
   "outputs": [
    {
     "name": "stdout",
     "output_type": "stream",
     "text": [
      "(60,)\n"
     ]
    }
   ],
   "source": [
    "print(np.mean(data, axis = 1).shape)"
   ]
  },
  {
   "cell_type": "code",
   "execution_count": null,
   "metadata": {},
   "outputs": [],
   "source": []
  },
  {
   "cell_type": "markdown",
   "metadata": {},
   "source": [
    "This is a good overview to show how things work wiht ```numpy```:\n",
    "\n",
    "https://www.sharpsightlabs.com/blog/numpy-axes-explained/"
   ]
  },
  {
   "cell_type": "markdown",
   "metadata": {},
   "source": [
    "## Basic image processing with OpenCV"
   ]
  },
  {
   "cell_type": "markdown",
   "metadata": {},
   "source": [
    "We start by loading all of the modules we'll need for this class"
   ]
  },
  {
   "cell_type": "code",
   "execution_count": 65,
   "metadata": {
    "execution": {
     "iopub.execute_input": "2022-02-16T12:10:36.007600Z",
     "iopub.status.busy": "2022-02-16T12:10:36.007027Z",
     "iopub.status.idle": "2022-02-16T12:10:36.015995Z",
     "shell.execute_reply": "2022-02-16T12:10:36.014285Z",
     "shell.execute_reply.started": "2022-02-16T12:10:36.007543Z"
    },
    "tags": []
   },
   "outputs": [],
   "source": [
    "# We need to incldue the home directory in our path, so we can read in our own module.\n",
    "import sys\n",
    "sys.path.append(os.path.join(\"..\", \"..\", \"CDS-VIS\"))"
   ]
  },
  {
   "cell_type": "code",
   "execution_count": 66,
   "metadata": {
    "execution": {
     "iopub.execute_input": "2022-02-16T12:10:43.846951Z",
     "iopub.status.busy": "2022-02-16T12:10:43.846319Z",
     "iopub.status.idle": "2022-02-16T12:10:47.594233Z",
     "shell.execute_reply": "2022-02-16T12:10:47.593001Z",
     "shell.execute_reply.started": "2022-02-16T12:10:43.846893Z"
    },
    "tags": []
   },
   "outputs": [],
   "source": [
    "# python framework for working with images\n",
    "import cv2\n",
    "\n",
    "# some utility functions for plotting images\n",
    "from utils.imutils import jimshow"
   ]
  },
  {
   "cell_type": "markdown",
   "metadata": {},
   "source": [
    "__Read image__"
   ]
  },
  {
   "cell_type": "markdown",
   "metadata": {},
   "source": [
    "We can load an image using a handy function from OpenCV"
   ]
  },
  {
   "cell_type": "code",
   "execution_count": 67,
   "metadata": {
    "execution": {
     "iopub.execute_input": "2022-02-16T12:16:38.570955Z",
     "iopub.status.busy": "2022-02-16T12:16:38.570281Z",
     "iopub.status.idle": "2022-02-16T12:16:38.577428Z",
     "shell.execute_reply": "2022-02-16T12:16:38.576472Z",
     "shell.execute_reply.started": "2022-02-16T12:16:38.570903Z"
    },
    "tags": []
   },
   "outputs": [],
   "source": [
    "filepath = os.path.join('..', '..', 'CDS-VIS', 'img', 'trex.png')"
   ]
  },
  {
   "cell_type": "code",
   "execution_count": 68,
   "metadata": {
    "execution": {
     "iopub.execute_input": "2022-02-16T12:16:49.565470Z",
     "iopub.status.busy": "2022-02-16T12:16:49.564975Z",
     "iopub.status.idle": "2022-02-16T12:16:49.575356Z",
     "shell.execute_reply": "2022-02-16T12:16:49.574375Z",
     "shell.execute_reply.started": "2022-02-16T12:16:49.565421Z"
    },
    "tags": []
   },
   "outputs": [],
   "source": [
    "image = cv2.imread(filepath)"
   ]
  },
  {
   "cell_type": "code",
   "execution_count": 104,
   "metadata": {
    "execution": {
     "iopub.execute_input": "2022-02-16T12:43:35.505814Z",
     "iopub.status.busy": "2022-02-16T12:43:35.505165Z",
     "iopub.status.idle": "2022-02-16T12:43:35.579962Z",
     "shell.execute_reply": "2022-02-16T12:43:35.579383Z",
     "shell.execute_reply.started": "2022-02-16T12:43:35.505759Z"
    },
    "tags": []
   },
   "outputs": [
    {
     "data": {
      "image/png": "[encoded data removed]",
      "text/plain": [
       "<Figure size 350x228 with 1 Axes>"
      ]
     },
     "metadata": {
      "needs_background": "light"
     },
     "output_type": "display_data"
    }
   ],
   "source": [
    "jimshow(image, 'First image')"
   ]
  },
  {
   "cell_type": "markdown",
   "metadata": {},
   "source": [
    "__Save image__"
   ]
  },
  {
   "cell_type": "code",
   "execution_count": 73,
   "metadata": {
    "execution": {
     "iopub.execute_input": "2022-02-16T12:20:09.703127Z",
     "iopub.status.busy": "2022-02-16T12:20:09.702586Z",
     "iopub.status.idle": "2022-02-16T12:20:09.710705Z",
     "shell.execute_reply": "2022-02-16T12:20:09.709370Z",
     "shell.execute_reply.started": "2022-02-16T12:20:09.703073Z"
    },
    "tags": []
   },
   "outputs": [],
   "source": [
    "outpath = filepath = os.path.join('..', '..', 'cds-visual', 'nbs', 'new_dino.png')"
   ]
  },
  {
   "cell_type": "code",
   "execution_count": 74,
   "metadata": {
    "execution": {
     "iopub.execute_input": "2022-02-16T12:20:13.112422Z",
     "iopub.status.busy": "2022-02-16T12:20:13.111851Z",
     "iopub.status.idle": "2022-02-16T12:20:13.128184Z",
     "shell.execute_reply": "2022-02-16T12:20:13.127546Z",
     "shell.execute_reply.started": "2022-02-16T12:20:13.112339Z"
    },
    "tags": []
   },
   "outputs": [
    {
     "data": {
      "text/plain": [
       "True"
      ]
     },
     "execution_count": 74,
     "metadata": {},
     "output_type": "execute_result"
    }
   ],
   "source": [
    "#cv2.imwrite(outpath, image)"
   ]
  },
  {
   "cell_type": "code",
   "execution_count": 75,
   "metadata": {
    "execution": {
     "iopub.execute_input": "2022-02-16T12:21:27.246191Z",
     "iopub.status.busy": "2022-02-16T12:21:27.245584Z",
     "iopub.status.idle": "2022-02-16T12:21:27.253087Z",
     "shell.execute_reply": "2022-02-16T12:21:27.251752Z",
     "shell.execute_reply.started": "2022-02-16T12:21:27.246139Z"
    },
    "tags": []
   },
   "outputs": [
    {
     "name": "stdout",
     "output_type": "stream",
     "text": [
      "<class 'numpy.ndarray'>\n"
     ]
    }
   ],
   "source": [
    "print(type(image))"
   ]
  },
  {
   "cell_type": "markdown",
   "metadata": {},
   "source": [
    "__Inspect image__"
   ]
  },
  {
   "cell_type": "code",
   "execution_count": 76,
   "metadata": {
    "execution": {
     "iopub.execute_input": "2022-02-16T12:22:24.000353Z",
     "iopub.status.busy": "2022-02-16T12:22:23.999952Z",
     "iopub.status.idle": "2022-02-16T12:22:24.004434Z",
     "shell.execute_reply": "2022-02-16T12:22:24.003763Z",
     "shell.execute_reply.started": "2022-02-16T12:22:24.000327Z"
    },
    "tags": []
   },
   "outputs": [
    {
     "name": "stdout",
     "output_type": "stream",
     "text": [
      "(228, 350, 3)\n"
     ]
    }
   ],
   "source": [
    "print(image.shape) #we now have 3 values. 1. is height, 2. is width, 3. is color channel (3 channels; red, green, blue)\n",
    "#the channels range from 0 to 255 (256 values). Pure white is (255, 255, 255)."
   ]
  },
  {
   "cell_type": "code",
   "execution_count": 79,
   "metadata": {
    "execution": {
     "iopub.execute_input": "2022-02-16T12:25:48.467943Z",
     "iopub.status.busy": "2022-02-16T12:25:48.467397Z",
     "iopub.status.idle": "2022-02-16T12:25:48.477454Z",
     "shell.execute_reply": "2022-02-16T12:25:48.476251Z",
     "shell.execute_reply.started": "2022-02-16T12:25:48.467891Z"
    },
    "tags": []
   },
   "outputs": [
    {
     "data": {
      "text/plain": [
       "array([254, 254, 254], dtype=uint8)"
      ]
     },
     "execution_count": 79,
     "metadata": {},
     "output_type": "execute_result"
    }
   ],
   "source": []
  },
  {
   "cell_type": "markdown",
   "metadata": {},
   "source": [
    "## What is an image?"
   ]
  },
  {
   "cell_type": "markdown",
   "metadata": {},
   "source": [
    "__Remember how ```numpy``` arrays work!__\n",
    "\n",
    "ROWSxCOLUMNS == HEIGHTxWIDTH"
   ]
  },
  {
   "cell_type": "code",
   "execution_count": 80,
   "metadata": {
    "execution": {
     "iopub.execute_input": "2022-02-16T12:31:13.629546Z",
     "iopub.status.busy": "2022-02-16T12:31:13.629009Z",
     "iopub.status.idle": "2022-02-16T12:31:13.636698Z",
     "shell.execute_reply": "2022-02-16T12:31:13.635565Z",
     "shell.execute_reply.started": "2022-02-16T12:31:13.629477Z"
    },
    "tags": []
   },
   "outputs": [],
   "source": [
    "height, width = image.shape[0], image.shape[1]"
   ]
  },
  {
   "cell_type": "code",
   "execution_count": 83,
   "metadata": {
    "execution": {
     "iopub.execute_input": "2022-02-16T12:31:35.291388Z",
     "iopub.status.busy": "2022-02-16T12:31:35.290860Z",
     "iopub.status.idle": "2022-02-16T12:31:35.299389Z",
     "shell.execute_reply": "2022-02-16T12:31:35.298130Z",
     "shell.execute_reply.started": "2022-02-16T12:31:35.291334Z"
    },
    "tags": []
   },
   "outputs": [
    {
     "name": "stdout",
     "output_type": "stream",
     "text": [
      "79800\n"
     ]
    }
   ],
   "source": [
    "print(height*width)"
   ]
  },
  {
   "cell_type": "markdown",
   "metadata": {},
   "source": [
    "In our image, there are 228*350 = 79,800 pixels"
   ]
  },
  {
   "cell_type": "markdown",
   "metadata": {},
   "source": [
    "__What about the last one?__"
   ]
  },
  {
   "cell_type": "code",
   "execution_count": 88,
   "metadata": {
    "execution": {
     "iopub.execute_input": "2022-02-16T12:32:43.279723Z",
     "iopub.status.busy": "2022-02-16T12:32:43.279197Z",
     "iopub.status.idle": "2022-02-16T12:32:43.287091Z",
     "shell.execute_reply": "2022-02-16T12:32:43.285606Z",
     "shell.execute_reply.started": "2022-02-16T12:32:43.279672Z"
    },
    "tags": []
   },
   "outputs": [
    {
     "name": "stdout",
     "output_type": "stream",
     "text": [
      "3\n"
     ]
    }
   ],
   "source": [
    "print(image.shape[2])"
   ]
  },
  {
   "cell_type": "markdown",
   "metadata": {},
   "source": [
    "<img src=\"../../CDS-VIS/test_samples/3-channels.png\">"
   ]
  },
  {
   "cell_type": "markdown",
   "metadata": {},
   "source": [
    "__NB!__\n",
    "\n",
    "```OpenCV``` stores RGB tuples in REVERSE ORDER"
   ]
  },
  {
   "cell_type": "markdown",
   "metadata": {},
   "source": [
    "__What colour is a specific pixel?__"
   ]
  },
  {
   "cell_type": "code",
   "execution_count": 94,
   "metadata": {
    "execution": {
     "iopub.execute_input": "2022-02-16T12:38:27.695844Z",
     "iopub.status.busy": "2022-02-16T12:38:27.695193Z",
     "iopub.status.idle": "2022-02-16T12:38:27.705212Z",
     "shell.execute_reply": "2022-02-16T12:38:27.704089Z",
     "shell.execute_reply.started": "2022-02-16T12:38:27.695788Z"
    },
    "tags": []
   },
   "outputs": [
    {
     "data": {
      "text/plain": [
       "array([254, 254, 254], dtype=uint8)"
      ]
     },
     "execution_count": 94,
     "metadata": {},
     "output_type": "execute_result"
    }
   ],
   "source": [
    "image[0, 0] # always BGR in cv2, which is super uncommon and only done here. \n",
    "print(image[0,0])"
   ]
  },
  {
   "cell_type": "code",
   "execution_count": 103,
   "metadata": {
    "execution": {
     "iopub.execute_input": "2022-02-16T12:43:25.558807Z",
     "iopub.status.busy": "2022-02-16T12:43:25.557740Z",
     "iopub.status.idle": "2022-02-16T12:43:25.566198Z",
     "shell.execute_reply": "2022-02-16T12:43:25.564999Z",
     "shell.execute_reply.started": "2022-02-16T12:43:25.558746Z"
    },
    "tags": []
   },
   "outputs": [
    {
     "name": "stdout",
     "output_type": "stream",
     "text": [
      "first pixel at (0,0) - blue = 0, green = 0, red = 255\n"
     ]
    }
   ],
   "source": [
    "b, g, r = image[0,0]\n",
    "print(f'first pixel at (0,0) - blue = {b}, green = {g}, red = {r}')"
   ]
  },
  {
   "cell_type": "markdown",
   "metadata": {},
   "source": [
    "__Modify colour__"
   ]
  },
  {
   "cell_type": "code",
   "execution_count": 101,
   "metadata": {
    "execution": {
     "iopub.execute_input": "2022-02-16T12:43:19.672637Z",
     "iopub.status.busy": "2022-02-16T12:43:19.671984Z",
     "iopub.status.idle": "2022-02-16T12:43:19.679092Z",
     "shell.execute_reply": "2022-02-16T12:43:19.677789Z",
     "shell.execute_reply.started": "2022-02-16T12:43:19.672581Z"
    },
    "tags": []
   },
   "outputs": [],
   "source": [
    "image[0,0] = (0, 0, 255) #giving it a tuple. the first pixel is now red. NO WARNING BEFORE THIS HAPPENS!"
   ]
  },
  {
   "cell_type": "code",
   "execution_count": null,
   "metadata": {},
   "outputs": [],
   "source": [
    "b, g, r = image[0,0]\n",
    "print(f'first pixel at (0,0) - blue = {b}, green = {g}, red = {r}')"
   ]
  },
  {
   "cell_type": "markdown",
   "metadata": {},
   "source": [
    "__Image slice__"
   ]
  },
  {
   "cell_type": "code",
   "execution_count": 106,
   "metadata": {
    "execution": {
     "iopub.execute_input": "2022-02-16T12:45:02.704825Z",
     "iopub.status.busy": "2022-02-16T12:45:02.704170Z",
     "iopub.status.idle": "2022-02-16T12:45:02.710837Z",
     "shell.execute_reply": "2022-02-16T12:45:02.709901Z",
     "shell.execute_reply.started": "2022-02-16T12:45:02.704768Z"
    },
    "tags": []
   },
   "outputs": [],
   "source": [
    "corner = image[0:100,0:100]"
   ]
  },
  {
   "cell_type": "code",
   "execution_count": 109,
   "metadata": {
    "execution": {
     "iopub.execute_input": "2022-02-16T12:47:43.809522Z",
     "iopub.status.busy": "2022-02-16T12:47:43.808870Z",
     "iopub.status.idle": "2022-02-16T12:47:43.854525Z",
     "shell.execute_reply": "2022-02-16T12:47:43.853916Z",
     "shell.execute_reply.started": "2022-02-16T12:47:43.809452Z"
    },
    "tags": []
   },
   "outputs": [
    {
     "data": {
      "image/png": "[encoded data removed]",
      "text/plain": [
       "<Figure size 100x100 with 1 Axes>"
      ]
     },
     "metadata": {
      "needs_background": "light"
     },
     "output_type": "display_data"
    }
   ],
   "source": [
    "jimshow(corner, 'corner')"
   ]
  },
  {
   "cell_type": "markdown",
   "metadata": {},
   "source": [
    "__Change corner colour__"
   ]
  },
  {
   "cell_type": "code",
   "execution_count": 110,
   "metadata": {
    "execution": {
     "iopub.execute_input": "2022-02-16T12:48:30.668106Z",
     "iopub.status.busy": "2022-02-16T12:48:30.667536Z",
     "iopub.status.idle": "2022-02-16T12:48:30.676369Z",
     "shell.execute_reply": "2022-02-16T12:48:30.674803Z",
     "shell.execute_reply.started": "2022-02-16T12:48:30.668051Z"
    },
    "tags": []
   },
   "outputs": [],
   "source": [
    "image[0:100,0:100] = (0, 0, 255)"
   ]
  },
  {
   "cell_type": "code",
   "execution_count": 112,
   "metadata": {
    "execution": {
     "iopub.execute_input": "2022-02-16T12:48:48.863702Z",
     "iopub.status.busy": "2022-02-16T12:48:48.863163Z",
     "iopub.status.idle": "2022-02-16T12:48:48.995972Z",
     "shell.execute_reply": "2022-02-16T12:48:48.995418Z",
     "shell.execute_reply.started": "2022-02-16T12:48:48.863651Z"
    },
    "tags": []
   },
   "outputs": [
    {
     "data": {
      "image/png": "[encoded data removed]",
      "text/plain": [
       "<Figure size 350x228 with 1 Axes>"
      ]
     },
     "metadata": {
      "needs_background": "light"
     },
     "output_type": "display_data"
    }
   ],
   "source": [
    "jimshow(image, 'red')"
   ]
  }
 ],
 "metadata": {
  "kernelspec": {
   "display_name": "Python 3 ",
   "language": "python",
   "name": "python3"
  },
  "language_info": {
   "codemirror_mode": {
    "name": "ipython",
    "version": 3
   },
   "file_extension": ".py",
   "mimetype": "text/x-python",
   "name": "python",
   "nbconvert_exporter": "python",
   "pygments_lexer": "ipython3",
   "version": "3.9.6"
  }
 },
 "nbformat": 4,
 "nbformat_minor": 4
}
