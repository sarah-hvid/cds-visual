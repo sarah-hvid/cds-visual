{
 "cells": [
  {
   "cell_type": "markdown",
   "metadata": {},
   "source": [
    "## More image processing"
   ]
  },
  {
   "cell_type": "code",
   "execution_count": 2,
   "metadata": {
    "execution": {
     "iopub.execute_input": "2022-03-02T13:01:43.538699Z",
     "iopub.status.busy": "2022-03-02T13:01:43.538076Z",
     "iopub.status.idle": "2022-03-02T13:01:43.747618Z",
     "shell.execute_reply": "2022-03-02T13:01:43.746984Z",
     "shell.execute_reply.started": "2022-03-02T13:01:43.538649Z"
    },
    "tags": []
   },
   "outputs": [],
   "source": [
    "# We need to include the home directory in our path, so we can read in our own module.\n",
    "import os\n",
    "import sys\n",
    "sys.path.append(os.path.join(\"..\"))\n",
    "import cv2\n",
    "import numpy as np\n",
    "from utils.imutils import jimshow\n",
    "from utils.imutils import jimshow_channel\n",
    "import matplotlib.pyplot as plt"
   ]
  },
  {
   "cell_type": "markdown",
   "metadata": {},
   "source": [
    "__Load image__"
   ]
  },
  {
   "cell_type": "code",
   "execution_count": 2,
   "metadata": {},
   "outputs": [],
   "source": [
    "image = cv2.imread(os.path.join(\"..\", \"data\", \"img\", \"terasse.jpeg\"))"
   ]
  },
  {
   "cell_type": "code",
   "execution_count": null,
   "metadata": {},
   "outputs": [],
   "source": [
    "jimshow(image, \"Original image\")"
   ]
  },
  {
   "cell_type": "markdown",
   "metadata": {},
   "source": [
    "## Plot colour historgrams\n",
    "\n",
    "```cv2.calcHist([image], channels, mask, histSize, ranges[, hist[, accumulate]])```\n",
    "\n",
    "- images : it is the source image of type uint8 or float32 represented as “[img]”.\n",
    "- channels : it is the index of channel for which we calculate histogram. \n",
    "    - For grayscale image, its value is [0] and\n",
    "    - color image, you can pass [0], [1] or [2] to calculate histogram of blue, green or red channel respectively.\n",
    "- mask : mask image. To find histogram of full image, it is given as “None”.\n",
    "- histSize : this represents our BIN count. For full scale, we pass [256].\n",
    "- ranges : this is our RANGE. Normally, it is [0,256]."
   ]
  },
  {
   "cell_type": "markdown",
   "metadata": {},
   "source": [
    "__Only blue channel__"
   ]
  },
  {
   "cell_type": "code",
   "execution_count": null,
   "metadata": {},
   "outputs": [],
   "source": [
    "hist = cv2.calcHist([image], [0], None, [256], [0,256])\n",
    "plt.plot(hist, color=\"Blue\")"
   ]
  },
  {
   "cell_type": "code",
   "execution_count": null,
   "metadata": {},
   "outputs": [],
   "source": [
    "hist = cv2.calcHist([image], [1], None, [256], [0,256])\n",
    "plt.plot(hist, color=\"Green\")"
   ]
  },
  {
   "cell_type": "code",
   "execution_count": null,
   "metadata": {},
   "outputs": [],
   "source": [
    "hist = cv2.calcHist([image], [2], None, [256], [0,256])\n",
    "plt.plot(hist, color=\"Red\")"
   ]
  },
  {
   "cell_type": "markdown",
   "metadata": {},
   "source": [
    "__Split channels__"
   ]
  },
  {
   "cell_type": "code",
   "execution_count": 7,
   "metadata": {},
   "outputs": [],
   "source": [
    "(BLUE, GREEN, RED) = cv2.split(image)"
   ]
  },
  {
   "cell_type": "code",
   "execution_count": null,
   "metadata": {},
   "outputs": [],
   "source": [
    "hist = cv2.calcHist([RED], [0], None, [256], [0,256])\n",
    "plt.plot(hist, color=\"r\")"
   ]
  },
  {
   "cell_type": "markdown",
   "metadata": {},
   "source": [
    "## Plot multiple channels at the same time"
   ]
  },
  {
   "cell_type": "code",
   "execution_count": null,
   "metadata": {},
   "outputs": [],
   "source": [
    "# split channels\n",
    "channels = cv2.split(image)\n",
    "# names of colours\n",
    "color_names = [\"b\", \"g\", \"r\"]\n",
    "# create figure\n",
    "plt.figure()\n",
    "# add title\n",
    "plt.title(\"Multiple channels\")\n",
    "# add xlabel\n",
    "plt.xlabel(\"Bins\")\n",
    "# add ylabel\n",
    "plt.ylabel(\"Number of pixels\")\n",
    "\n",
    "# loop over our channels\n",
    "for channel, color_name in zip(channels, color_names):\n",
    "    # Create a histogram\n",
    "    hist = cv2.calcHist([channel], [0], None, [256], [0,256])\n",
    "    # Plot histogram\n",
    "    plt.plot(hist, color = color_name)\n",
    "    # Set limit of x-axis\n",
    "    plt.xlim([0, 256])\n",
    "\n",
    "# show the plot\n",
    "plt.show()"
   ]
  },
  {
   "cell_type": "markdown",
   "metadata": {},
   "source": [
    "__Comparing histograms__"
   ]
  },
  {
   "cell_type": "code",
   "execution_count": 6,
   "metadata": {
    "execution": {
     "iopub.execute_input": "2022-03-02T13:02:06.198891Z",
     "iopub.status.busy": "2022-03-02T13:02:06.198266Z",
     "iopub.status.idle": "2022-03-02T13:02:06.241795Z",
     "shell.execute_reply": "2022-03-02T13:02:06.241179Z",
     "shell.execute_reply.started": "2022-03-02T13:02:06.198842Z"
    },
    "tags": []
   },
   "outputs": [],
   "source": [
    "image = cv2.imread(os.path.join(\"..\", \"..\", '..','CDS-VIS', \"img\", \"the_bedroom.jpg\"))\n",
    "image2 = cv2.imread(os.path.join(\"..\", \"..\", '..','CDS-VIS', \"img\", \"the_bedroom.jpg\"))"
   ]
  },
  {
   "cell_type": "code",
   "execution_count": 8,
   "metadata": {
    "execution": {
     "iopub.execute_input": "2022-03-02T13:02:16.971750Z",
     "iopub.status.busy": "2022-03-02T13:02:16.971213Z",
     "iopub.status.idle": "2022-03-02T13:02:16.978222Z",
     "shell.execute_reply": "2022-03-02T13:02:16.976752Z",
     "shell.execute_reply.started": "2022-03-02T13:02:16.971700Z"
    },
    "tags": []
   },
   "outputs": [],
   "source": [
    "jimshow(image, \"Image 1\")"
   ]
  },
  {
   "cell_type": "code",
   "execution_count": null,
   "metadata": {},
   "outputs": [],
   "source": [
    "jimshow(image2, \"Image 2\")"
   ]
  },
  {
   "cell_type": "code",
   "execution_count": 9,
   "metadata": {
    "execution": {
     "iopub.execute_input": "2022-03-02T13:02:40.021195Z",
     "iopub.status.busy": "2022-03-02T13:02:40.020675Z",
     "iopub.status.idle": "2022-03-02T13:02:40.134475Z",
     "shell.execute_reply": "2022-03-02T13:02:40.133781Z",
     "shell.execute_reply.started": "2022-03-02T13:02:40.021144Z"
    },
    "tags": []
   },
   "outputs": [
    {
     "data": {
      "image/png": "[encoded data removed]",
      "text/plain": [
       "<Figure size 432x288 with 1 Axes>"
      ]
     },
     "metadata": {
      "needs_background": "light"
     },
     "output_type": "display_data"
    }
   ],
   "source": [
    "# split channels\n",
    "channels = cv2.split(image2)\n",
    "# names of colours\n",
    "color_names = [\"b\", \"g\", \"r\"]\n",
    "# create figure\n",
    "plt.figure()\n",
    "# add title\n",
    "plt.title(\"Multiple channels\")\n",
    "# add xlabel\n",
    "plt.xlabel(\"Bins\")\n",
    "# add ylabel\n",
    "plt.ylabel(\"Number of pixels\")\n",
    "\n",
    "# loop over our channels\n",
    "for channel, color_name in zip(channels, color_names):\n",
    "    # Create a histogram\n",
    "    hist = cv2.calcHist([channel], [0], None, [256], [0,256])\n",
    "    # Plot histogram\n",
    "    plt.plot(hist, color = color_name)\n",
    "    # Set limit of x-axis\n",
    "    plt.xlim([0, 256])\n",
    "\n",
    "# show the plot\n",
    "plt.show()"
   ]
  },
  {
   "cell_type": "markdown",
   "metadata": {},
   "source": [
    "## Multidimensional histograms"
   ]
  },
  {
   "cell_type": "markdown",
   "metadata": {},
   "source": [
    "Now that we are working with multi-dimensional histograms, we need to keep in mind the number of bins we are using. \n",
    "\n",
    "In previous examples, I’ve used 256 bins for demonstration purposes. However, if we used a 256 bins for each dimension in a 2D histogram, our resulting histogram would have 256 × 256 = 65,536 separate pixel counts. Not only is this wasteful of resources, it’s not practical. \n",
    "\n",
    "Most applications use somewhere between 8 and 64 bins when computing multi-dimensional histograms. So we use 32 instead of 256."
   ]
  },
  {
   "cell_type": "code",
   "execution_count": null,
   "metadata": {},
   "outputs": [],
   "source": [
    "# Create matplotlib figure\n",
    "fig = plt.figure(figsize=(20,10))\n",
    "# plot a 2D color histogram for green and blue\n",
    "ax = fig.add_subplot(131)\n",
    "hist = cv2.calcHist([image[1], image[0]], [0, 1], None, [32, 32], [0, 256, 0, 256])\n",
    "p = ax.imshow(hist)\n",
    "ax.set_title(\"2D Color Histogram for Green and Blue\")\n",
    "plt.colorbar(p)"
   ]
  },
  {
   "cell_type": "markdown",
   "metadata": {},
   "source": [
    "__Adding multiple plots to one visualisation__"
   ]
  },
  {
   "cell_type": "code",
   "execution_count": null,
   "metadata": {},
   "outputs": [],
   "source": [
    "# Create matplotlib figure\n",
    "fig = plt.figure(figsize=(20,10))\n",
    "\n",
    "# plot a 2D color histogram for green and blue\n",
    "ax = fig.add_subplot(131)\n",
    "hist = cv2.calcHist([image[1], image[0]], [0, 1], None, [32, 32], [0, 256, 0, 256])\n",
    "p = ax.imshow(hist)\n",
    "ax.set_title(\"2D Color Histogram for Green and Blue\")\n",
    "plt.colorbar(p)\n",
    "\n",
    "# plot a 2D color histogram for green and red\n",
    "ax = fig.add_subplot(132)\n",
    "hist = cv2.calcHist([image[1], image[2]], [0, 1], None, [32, 32], [0, 256, 0, 256])\n",
    "p = ax.imshow(hist)\n",
    "ax.set_title(\"2D Color Histogram for Green and Red\")\n",
    "plt.colorbar(p)\n",
    "\n",
    "# plot a 2D color histogram for blue and red\n",
    "ax = fig.add_subplot(133)\n",
    "hist = cv2.calcHist([image[0], image[2]], [0, 1], None, [32, 32], [0, 256, 0, 256])\n",
    "p = ax.imshow(hist)\n",
    "ax.set_title(\"2D Color Histogram for Blue and Red\")\n",
    "plt.colorbar(p)"
   ]
  },
  {
   "cell_type": "markdown",
   "metadata": {},
   "source": [
    "## Comparing histograms"
   ]
  },
  {
   "cell_type": "markdown",
   "metadata": {},
   "source": [
    "__Extract histograms__"
   ]
  },
  {
   "cell_type": "code",
   "execution_count": 10,
   "metadata": {
    "execution": {
     "iopub.execute_input": "2022-03-02T13:03:08.798551Z",
     "iopub.status.busy": "2022-03-02T13:03:08.797928Z",
     "iopub.status.idle": "2022-03-02T13:03:08.811623Z",
     "shell.execute_reply": "2022-03-02T13:03:08.810664Z",
     "shell.execute_reply.started": "2022-03-02T13:03:08.798503Z"
    },
    "tags": []
   },
   "outputs": [],
   "source": [
    "hist1 = cv2.calcHist([image], [0,1,2], None, [8,8,8], [0,256, 0,256, 0,256])"
   ]
  },
  {
   "cell_type": "code",
   "execution_count": 11,
   "metadata": {
    "execution": {
     "iopub.execute_input": "2022-03-02T13:03:10.111606Z",
     "iopub.status.busy": "2022-03-02T13:03:10.110985Z",
     "iopub.status.idle": "2022-03-02T13:03:10.124977Z",
     "shell.execute_reply": "2022-03-02T13:03:10.124344Z",
     "shell.execute_reply.started": "2022-03-02T13:03:10.111557Z"
    },
    "tags": []
   },
   "outputs": [],
   "source": [
    "hist2 = cv2.calcHist([image2], [0,1,2], None, [8,8,8], [0,256, 0,256, 0,256])"
   ]
  },
  {
   "cell_type": "markdown",
   "metadata": {},
   "source": [
    "__MinMax normalization__"
   ]
  },
  {
   "cell_type": "markdown",
   "metadata": {},
   "source": [
    "Before comparing historgrams, we first have to normalise them to occur within a narrower ranger of values. Why do we need to do this?\n",
    "\n",
    "We're doing to use MinMax normalisation, which we calculate in the following way for each value:\n",
    "\n",
    "```norm_pixel = (value-min) / (max-min)```"
   ]
  },
  {
   "cell_type": "code",
   "execution_count": null,
   "metadata": {},
   "outputs": [],
   "source": [
    "hist1 = cv2.normalize(hist1, hist1, 0,255, cv2.NORM_MINMAX)\n",
    "hist2 = cv2.normalize(hist2, hist2, 0,255, cv2.NORM_MINMAX)"
   ]
  },
  {
   "cell_type": "markdown",
   "metadata": {},
   "source": [
    "__Comparing the first two histograms__"
   ]
  },
  {
   "cell_type": "code",
   "execution_count": null,
   "metadata": {},
   "outputs": [
    {
     "data": {
      "text/plain": [
       "222295.2"
      ]
     },
     "metadata": {},
     "output_type": "display_data"
    }
   ],
   "source": [
    "round(cv2.compareHist(hist1, hist2, cv2.HISTCMP_CHISQR), 2)"
   ]
  },
  {
   "cell_type": "markdown",
   "metadata": {},
   "source": [
    "__Load a new image__"
   ]
  },
  {
   "cell_type": "code",
   "execution_count": null,
   "metadata": {},
   "outputs": [],
   "source": [
    "image3 = cv2.imread(os.path.join(\"..\", \"data\", \"img\", \"florence.jpg\"))"
   ]
  },
  {
   "cell_type": "code",
   "execution_count": null,
   "metadata": {},
   "outputs": [],
   "source": [
    "jimshow(image3, \"Image 3\")"
   ]
  },
  {
   "cell_type": "markdown",
   "metadata": {},
   "source": [
    "__Compare with image 1__"
   ]
  },
  {
   "cell_type": "code",
   "execution_count": null,
   "metadata": {},
   "outputs": [],
   "source": [
    "hist3 = cv2.calcHist([image3], [0,1,2], None, [8,8,8], [0,256, 0,256, 0,256])\n",
    "hist3 = cv2.normalize(hist3, hist3, 0,255, cv2.NORM_MINMAX)"
   ]
  },
  {
   "cell_type": "code",
   "execution_count": null,
   "metadata": {},
   "outputs": [
    {
     "data": {
      "text/plain": [
       "0.0"
      ]
     },
     "metadata": {},
     "output_type": "display_data"
    }
   ],
   "source": [
    "round(cv2.compareHist(hist1, hist1, cv2.HISTCMP_CHISQR), 2)"
   ]
  },
  {
   "cell_type": "code",
   "execution_count": null,
   "metadata": {},
   "outputs": [
    {
     "data": {
      "text/plain": [
       "222295.2"
      ]
     },
     "metadata": {},
     "output_type": "display_data"
    }
   ],
   "source": [
    "round(cv2.compareHist(hist1, hist2, cv2.HISTCMP_CHISQR), 2)"
   ]
  },
  {
   "cell_type": "code",
   "execution_count": null,
   "metadata": {},
   "outputs": [
    {
     "data": {
      "text/plain": [
       "66998.5"
      ]
     },
     "metadata": {},
     "output_type": "display_data"
    }
   ],
   "source": [
    "round(cv2.compareHist(hist1, hist3, cv2.HISTCMP_CHISQR), 2)"
   ]
  }
 ],
 "metadata": {
  "kernelspec": {
   "display_name": "Python 3 ",
   "language": "python",
   "name": "python3"
  },
  "language_info": {
   "codemirror_mode": {
    "name": "ipython",
    "version": 3
   },
   "file_extension": ".py",
   "mimetype": "text/x-python",
   "name": "python",
   "nbconvert_exporter": "python",
   "pygments_lexer": "ipython3",
   "version": "3.9.6"
  }
 },
 "nbformat": 4,
 "nbformat_minor": 4
}
