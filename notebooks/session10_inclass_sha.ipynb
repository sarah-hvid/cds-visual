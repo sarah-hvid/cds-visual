{
 "cells": [
  {
   "cell_type": "markdown",
   "id": "7f8852dc-cc1d-4682-9195-0eb1f3288f3a",
   "metadata": {},
   "source": [
    "# Feature extraction using VGG16"
   ]
  },
  {
   "cell_type": "code",
   "execution_count": 4,
   "id": "52d9c481-2e98-48fd-9c7a-06b9f857b453",
   "metadata": {
    "execution": {
     "iopub.execute_input": "2022-04-20T11:21:59.474102Z",
     "iopub.status.busy": "2022-04-20T11:21:59.473610Z",
     "iopub.status.idle": "2022-04-20T11:21:59.485198Z",
     "shell.execute_reply": "2022-04-20T11:21:59.484341Z",
     "shell.execute_reply.started": "2022-04-20T11:21:59.474056Z"
    },
    "tags": []
   },
   "outputs": [],
   "source": [
    "#system tools\n",
    "import os\n",
    "\n",
    "# tf tools\n",
    "import tensorflow as tf\n",
    "\n",
    "# image processsing\n",
    "from tensorflow.keras.preprocessing.image import (load_img,\n",
    "                                                  img_to_array,\n",
    "                                                  ImageDataGenerator)\n",
    "# VGG16 model\n",
    "from tensorflow.keras.applications.vgg16 import (preprocess_input,\n",
    "                                                 decode_predictions,\n",
    "                                                 VGG16)\n",
    "# cifar10 data - 32x32\n",
    "from tensorflow.keras.datasets import cifar10\n",
    "\n",
    "# layers\n",
    "from tensorflow.keras.layers import (Flatten, \n",
    "                                     Dense, \n",
    "                                     Dropout, \n",
    "                                     BatchNormalization)\n",
    "# generic model object\n",
    "from tensorflow.keras.models import Model\n",
    "\n",
    "# optimizers\n",
    "from tensorflow.keras.optimizers.schedules import ExponentialDecay\n",
    "from tensorflow.keras.optimizers import SGD\n",
    "\n",
    "#scikit-learn\n",
    "from sklearn.preprocessing import LabelBinarizer\n",
    "from sklearn.metrics import classification_report\n",
    "\n",
    "# for plotting\n",
    "import numpy as np\n",
    "import matplotlib.pyplot as plt"
   ]
  },
  {
   "cell_type": "markdown",
   "id": "478639e6-1ecd-4f80-aafd-3d340be56d68",
   "metadata": {},
   "source": [
    "## Plotting function (from last week)"
   ]
  },
  {
   "cell_type": "code",
   "execution_count": 2,
   "id": "9a0153a8-8003-4e9f-970d-bda83ad9b8f9",
   "metadata": {
    "execution": {
     "iopub.execute_input": "2022-04-20T11:16:42.890787Z",
     "iopub.status.busy": "2022-04-20T11:16:42.890255Z",
     "iopub.status.idle": "2022-04-20T11:16:42.903491Z",
     "shell.execute_reply": "2022-04-20T11:16:42.902769Z",
     "shell.execute_reply.started": "2022-04-20T11:16:42.890735Z"
    },
    "tags": []
   },
   "outputs": [],
   "source": [
    "def plot_history(H, epochs):\n",
    "    plt.style.use(\"seaborn-colorblind\")\n",
    "\n",
    "    plt.figure(figsize=(12,6))\n",
    "    plt.subplot(1,2,1)\n",
    "    plt.plot(np.arange(0, epochs), H.history[\"loss\"], label=\"train_loss\")\n",
    "    plt.plot(np.arange(0, epochs), H.history[\"val_loss\"], label=\"val_loss\", linestyle=\":\")\n",
    "    plt.title(\"Loss curve\")\n",
    "    plt.xlabel(\"Epoch\")\n",
    "    plt.ylabel(\"Loss\")\n",
    "    plt.tight_layout()\n",
    "    plt.legend()\n",
    "\n",
    "    plt.subplot(1,2,2)\n",
    "    plt.plot(np.arange(0, epochs), H.history[\"accuracy\"], label=\"train_acc\")\n",
    "    plt.plot(np.arange(0, epochs), H.history[\"val_accuracy\"], label=\"val_acc\", linestyle=\":\")\n",
    "    plt.title(\"Accuracy curve\")\n",
    "    plt.xlabel(\"Epoch\")\n",
    "    plt.ylabel(\"Accuracy\")\n",
    "    plt.tight_layout()\n",
    "    plt.legend()\n",
    "    plt.show()"
   ]
  },
  {
   "cell_type": "markdown",
   "id": "be58914b-325c-4151-bfa7-7675139bf144",
   "metadata": {},
   "source": [
    "## Initialize the model"
   ]
  },
  {
   "cell_type": "code",
   "execution_count": 59,
   "id": "8449b064-1bd3-482d-95af-cf82afe54454",
   "metadata": {
    "execution": {
     "iopub.execute_input": "2022-04-20T12:27:08.696152Z",
     "iopub.status.busy": "2022-04-20T12:27:08.695694Z",
     "iopub.status.idle": "2022-04-20T12:27:10.329306Z",
     "shell.execute_reply": "2022-04-20T12:27:10.328372Z",
     "shell.execute_reply.started": "2022-04-20T12:27:08.696109Z"
    },
    "tags": []
   },
   "outputs": [],
   "source": [
    "tf.keras.backend.clear_session()\n",
    "\n",
    "# load model\n",
    "model = VGG16()"
   ]
  },
  {
   "cell_type": "markdown",
   "id": "768a9d62-e067-47ed-aec5-64cbd316b53d",
   "metadata": {},
   "source": [
    "__Preprocessing__\n",
    "\n",
    "Keras provides some tools to help with this step.\n",
    "\n",
    "First, we can use the ```load_img()``` function to load the image and resize it to the required size of 224×224 pixels. This is only the required size for vgg16. For other models, the size required in the input is different."
   ]
  },
  {
   "cell_type": "code",
   "execution_count": 28,
   "id": "40cbcf87-f6c5-4efc-9159-d122239ff695",
   "metadata": {
    "execution": {
     "iopub.execute_input": "2022-04-20T11:42:48.980264Z",
     "iopub.status.busy": "2022-04-20T11:42:48.979765Z",
     "iopub.status.idle": "2022-04-20T11:42:48.987499Z",
     "shell.execute_reply": "2022-04-20T11:42:48.986032Z",
     "shell.execute_reply.started": "2022-04-20T11:42:48.980217Z"
    },
    "tags": []
   },
   "outputs": [],
   "source": [
    "filepath = os.path.join('..', '..', '..', 'CDS-VIS', 'img', 'clonazepam_1mg.png')"
   ]
  },
  {
   "cell_type": "code",
   "execution_count": 29,
   "id": "95457755-897e-468b-b41c-6ac0934dd26b",
   "metadata": {
    "execution": {
     "iopub.execute_input": "2022-04-20T11:42:49.373368Z",
     "iopub.status.busy": "2022-04-20T11:42:49.372494Z",
     "iopub.status.idle": "2022-04-20T11:42:49.418251Z",
     "shell.execute_reply": "2022-04-20T11:42:49.417399Z",
     "shell.execute_reply.started": "2022-04-20T11:42:49.373263Z"
    },
    "tags": []
   },
   "outputs": [],
   "source": [
    "image = load_img(filepath, target_size = (224, 224))"
   ]
  },
  {
   "cell_type": "markdown",
   "id": "c4184ee4-0803-46d3-8a8c-038b6a352430",
   "metadata": {},
   "source": [
    "Next, we can convert the pixels to a NumPy array so that we can work with it in Keras. \n",
    "\n",
    "We can use the ```img_to_array()``` function for this."
   ]
  },
  {
   "cell_type": "code",
   "execution_count": 30,
   "id": "e943fcb0-4a78-4eab-8e72-719e189d6a6c",
   "metadata": {
    "execution": {
     "iopub.execute_input": "2022-04-20T11:42:50.149453Z",
     "iopub.status.busy": "2022-04-20T11:42:50.148925Z",
     "iopub.status.idle": "2022-04-20T11:42:50.156761Z",
     "shell.execute_reply": "2022-04-20T11:42:50.155633Z",
     "shell.execute_reply.started": "2022-04-20T11:42:50.149404Z"
    },
    "tags": []
   },
   "outputs": [],
   "source": [
    "image = img_to_array(image)"
   ]
  },
  {
   "cell_type": "markdown",
   "id": "1ffab4fe-47c8-4842-a92e-48afac14b328",
   "metadata": {},
   "source": [
    "The network expects one or more images as input; that means the input array will need to be 4-dimensional: samples, rows, columns, and channels.\n",
    "\n",
    "We only have one sample (one image). We can reshape the array by calling ```reshape()``` and adding the extra dimension."
   ]
  },
  {
   "cell_type": "code",
   "execution_count": 31,
   "id": "23c061a8-5dfd-4d80-ab46-53485baacb82",
   "metadata": {
    "execution": {
     "iopub.execute_input": "2022-04-20T11:42:50.992262Z",
     "iopub.status.busy": "2022-04-20T11:42:50.991726Z",
     "iopub.status.idle": "2022-04-20T11:42:51.000333Z",
     "shell.execute_reply": "2022-04-20T11:42:50.999149Z",
     "shell.execute_reply.started": "2022-04-20T11:42:50.992213Z"
    },
    "tags": []
   },
   "outputs": [],
   "source": [
    "image = image.reshape((1, image.shape[0], image.shape[1], image.shape[2])) "
   ]
  },
  {
   "cell_type": "markdown",
   "id": "15538ab7-9512-49f6-bfb4-630347095b60",
   "metadata": {},
   "source": [
    "Next, the image pixels need to be prepared in the same way as the ImageNet training data was prepared. Specifically, from the paper:\n",
    "\n",
    ">The only preprocessing we do is subtracting the mean RGB value, computed on the training set, from each pixel. \n",
    "\n",
    "See the paper [here](https://arxiv.org/abs/1409.1556)."
   ]
  },
  {
   "cell_type": "code",
   "execution_count": 32,
   "id": "b10ec3ad-d95d-4bb5-a2f9-9c3f107aaa30",
   "metadata": {
    "execution": {
     "iopub.execute_input": "2022-04-20T11:42:51.964315Z",
     "iopub.status.busy": "2022-04-20T11:42:51.963631Z",
     "iopub.status.idle": "2022-04-20T11:42:51.970932Z",
     "shell.execute_reply": "2022-04-20T11:42:51.969976Z",
     "shell.execute_reply.started": "2022-04-20T11:42:51.964264Z"
    },
    "tags": []
   },
   "outputs": [],
   "source": [
    "image = preprocess_input(image)"
   ]
  },
  {
   "cell_type": "markdown",
   "id": "ed0ffd84-120f-407e-a3a2-a4f21a89c946",
   "metadata": {},
   "source": [
    "## Make prediction using ImageNet labels"
   ]
  },
  {
   "cell_type": "markdown",
   "id": "9710db75-fb14-4207-86a7-91531ef3679b",
   "metadata": {},
   "source": [
    "We then use the model to predict our image class and convert probabilities to class labels using ```decode_predictions()```."
   ]
  },
  {
   "cell_type": "code",
   "execution_count": 33,
   "id": "b35563c1-4c7b-44ca-b1f1-40dab03e3d84",
   "metadata": {
    "execution": {
     "iopub.execute_input": "2022-04-20T11:42:53.102965Z",
     "iopub.status.busy": "2022-04-20T11:42:53.102419Z",
     "iopub.status.idle": "2022-04-20T11:42:53.296162Z",
     "shell.execute_reply": "2022-04-20T11:42:53.295046Z",
     "shell.execute_reply.started": "2022-04-20T11:42:53.102915Z"
    },
    "tags": []
   },
   "outputs": [],
   "source": [
    "# predict probs across all classes\n",
    "y_pred = model.predict(image)"
   ]
  },
  {
   "cell_type": "markdown",
   "id": "0d4b34f4-c480-4a89-b5df-b1e5f3af9ee4",
   "metadata": {},
   "source": [
    "__Inspect most likely label__"
   ]
  },
  {
   "cell_type": "code",
   "execution_count": 34,
   "id": "06a8fb62-7ddc-4ea3-bb7b-530e3136ed12",
   "metadata": {
    "execution": {
     "iopub.execute_input": "2022-04-20T11:42:53.872347Z",
     "iopub.status.busy": "2022-04-20T11:42:53.871773Z",
     "iopub.status.idle": "2022-04-20T11:42:53.884056Z",
     "shell.execute_reply": "2022-04-20T11:42:53.882800Z",
     "shell.execute_reply.started": "2022-04-20T11:42:53.872294Z"
    },
    "tags": []
   },
   "outputs": [
    {
     "data": {
      "text/plain": [
       "[[('n04116512', 'rubber_eraser', 0.4176538),\n",
       "  ('n03929660', 'pick', 0.3117712),\n",
       "  ('n02786058', 'Band_Aid', 0.042988233),\n",
       "  ('n03047690', 'clog', 0.027903676),\n",
       "  ('n03775071', 'mitten', 0.020075304)]]"
      ]
     },
     "execution_count": 34,
     "metadata": {},
     "output_type": "execute_result"
    }
   ],
   "source": [
    "# convert probs to class labels\n",
    "label = decode_predictions(y_pred)\n",
    "label"
   ]
  },
  {
   "cell_type": "markdown",
   "id": "5e622fd9-5246-4ca1-aa2a-52b30143ba00",
   "metadata": {},
   "source": [
    "## Finetune on new task"
   ]
  },
  {
   "cell_type": "markdown",
   "id": "5a7fc27b-14f4-4db4-bc70-0b4b47430032",
   "metadata": {},
   "source": [
    "We import the regular cifar10 dataset from ```keras``` and normalise."
   ]
  },
  {
   "cell_type": "code",
   "execution_count": 60,
   "id": "e90c374e-27c4-416d-8de6-d8699dee16e0",
   "metadata": {
    "execution": {
     "iopub.execute_input": "2022-04-20T12:27:20.866400Z",
     "iopub.status.busy": "2022-04-20T12:27:20.865995Z",
     "iopub.status.idle": "2022-04-20T12:27:21.941899Z",
     "shell.execute_reply": "2022-04-20T12:27:21.941242Z",
     "shell.execute_reply.started": "2022-04-20T12:27:20.866364Z"
    },
    "tags": []
   },
   "outputs": [],
   "source": [
    "(X_train, y_train), (X_test, y_test) = cifar10.load_data()\n",
    "\n",
    "# normalize\n",
    "X_train = X_train/255\n",
    "X_test = X_test/255"
   ]
  },
  {
   "cell_type": "markdown",
   "id": "a8916be3-a773-4426-9beb-89e005b20083",
   "metadata": {},
   "source": [
    "__Binarize labels__"
   ]
  },
  {
   "cell_type": "code",
   "execution_count": 61,
   "id": "e47ddd3c-f9f7-47d5-b0f6-c56d62c2fed6",
   "metadata": {
    "execution": {
     "iopub.execute_input": "2022-04-20T12:27:22.062594Z",
     "iopub.status.busy": "2022-04-20T12:27:22.062095Z",
     "iopub.status.idle": "2022-04-20T12:27:22.087857Z",
     "shell.execute_reply": "2022-04-20T12:27:22.087242Z",
     "shell.execute_reply.started": "2022-04-20T12:27:22.062546Z"
    },
    "tags": []
   },
   "outputs": [],
   "source": [
    "#create one-hot encoding\n",
    "lb = LabelBinarizer()\n",
    "y_train = lb.fit_transform(y_train)\n",
    "y_test = lb.fit_transform(y_test)\n",
    "\n",
    "# initialize label names\n",
    "label_names = ['airplane', 'automobile', 'bird', 'cat', 'deer', 'dog', 'frog', 'horse', 'ship', 'truck']"
   ]
  },
  {
   "cell_type": "markdown",
   "id": "7f2b218b-7938-4425-8719-1e4d0540cde6",
   "metadata": {},
   "source": [
    "__Check tensor shape__"
   ]
  },
  {
   "cell_type": "code",
   "execution_count": 62,
   "id": "86c80da8-ec5e-48e6-8928-c52f1114b367",
   "metadata": {
    "execution": {
     "iopub.execute_input": "2022-04-20T12:27:24.950907Z",
     "iopub.status.busy": "2022-04-20T12:27:24.950357Z",
     "iopub.status.idle": "2022-04-20T12:27:24.960282Z",
     "shell.execute_reply": "2022-04-20T12:27:24.959133Z",
     "shell.execute_reply.started": "2022-04-20T12:27:24.950856Z"
    },
    "tags": []
   },
   "outputs": [
    {
     "data": {
      "text/plain": [
       "(50000, 32, 32, 3)"
      ]
     },
     "execution_count": 62,
     "metadata": {},
     "output_type": "execute_result"
    }
   ],
   "source": [
    "X_train.shape # the tensor shape has 4 values, so all good (sample, height, width, channels)"
   ]
  },
  {
   "cell_type": "markdown",
   "id": "a7ce0603-33c7-43cf-a008-a31a612e5219",
   "metadata": {
    "execution": {
     "iopub.execute_input": "2022-04-19T18:01:38.833749Z",
     "iopub.status.busy": "2022-04-19T18:01:38.833343Z",
     "iopub.status.idle": "2022-04-19T18:01:38.839212Z",
     "shell.execute_reply": "2022-04-19T18:01:38.838307Z",
     "shell.execute_reply.started": "2022-04-19T18:01:38.833727Z"
    }
   },
   "source": [
    "__Load VGG16 *without* the classification layers__"
   ]
  },
  {
   "cell_type": "markdown",
   "id": "e5063b7a-475a-49d1-a411-59a8a065fdb7",
   "metadata": {},
   "source": [
    "Here we're just loading the convolutional layers and not the final classification network, using the argument ```include_top=False```\n",
    "\n",
    "We also redefine the input shape, to work better with our cifar10 data."
   ]
  },
  {
   "cell_type": "code",
   "execution_count": 63,
   "id": "70f27b7f-79eb-435b-9519-4d042a520a5c",
   "metadata": {
    "execution": {
     "iopub.execute_input": "2022-04-20T12:27:34.116356Z",
     "iopub.status.busy": "2022-04-20T12:27:34.115816Z",
     "iopub.status.idle": "2022-04-20T12:27:34.411813Z",
     "shell.execute_reply": "2022-04-20T12:27:34.410781Z",
     "shell.execute_reply.started": "2022-04-20T12:27:34.116321Z"
    },
    "tags": []
   },
   "outputs": [],
   "source": [
    "# loading without classification layer\n",
    "model = VGG16(include_top = False, # remove classifier\n",
    "              pooling = 'avg', # optimizer\n",
    "              input_shape = (32, 32, 3)) # define our new images input shape"
   ]
  },
  {
   "cell_type": "markdown",
   "id": "8d5058a0-10b4-431b-980e-9e34d7e5addc",
   "metadata": {},
   "source": [
    "__Disable training of Conv layers__\n",
    "\n",
    "We need to disable the convolutional layers before training. Why?"
   ]
  },
  {
   "cell_type": "code",
   "execution_count": 64,
   "id": "90b0a8d0-a1a2-4861-9bb7-b6526b6ba36f",
   "metadata": {
    "execution": {
     "iopub.execute_input": "2022-04-20T12:27:37.478989Z",
     "iopub.status.busy": "2022-04-20T12:27:37.478440Z",
     "iopub.status.idle": "2022-04-20T12:27:37.487035Z",
     "shell.execute_reply": "2022-04-20T12:27:37.485722Z",
     "shell.execute_reply.started": "2022-04-20T12:27:37.478938Z"
    },
    "tags": []
   },
   "outputs": [],
   "source": [
    "# make each layer non trainable (frozen)\n",
    "for layer in model.layers:\n",
    "    layer.trainable = False"
   ]
  },
  {
   "cell_type": "code",
   "execution_count": 65,
   "id": "81e2bd3d-9f08-4ab2-8bdd-b04f1836aa85",
   "metadata": {
    "execution": {
     "iopub.execute_input": "2022-04-20T12:27:38.649674Z",
     "iopub.status.busy": "2022-04-20T12:27:38.648816Z",
     "iopub.status.idle": "2022-04-20T12:27:38.689347Z",
     "shell.execute_reply": "2022-04-20T12:27:38.688813Z",
     "shell.execute_reply.started": "2022-04-20T12:27:38.649600Z"
    },
    "tags": []
   },
   "outputs": [
    {
     "name": "stdout",
     "output_type": "stream",
     "text": [
      "Model: \"vgg16\"\n",
      "_________________________________________________________________\n",
      " Layer (type)                Output Shape              Param #   \n",
      "=================================================================\n",
      " input_2 (InputLayer)        [(None, 32, 32, 3)]       0         \n",
      "                                                                 \n",
      " block1_conv1 (Conv2D)       (None, 32, 32, 64)        1792      \n",
      "                                                                 \n",
      " block1_conv2 (Conv2D)       (None, 32, 32, 64)        36928     \n",
      "                                                                 \n",
      " block1_pool (MaxPooling2D)  (None, 16, 16, 64)        0         \n",
      "                                                                 \n",
      " block2_conv1 (Conv2D)       (None, 16, 16, 128)       73856     \n",
      "                                                                 \n",
      " block2_conv2 (Conv2D)       (None, 16, 16, 128)       147584    \n",
      "                                                                 \n",
      " block2_pool (MaxPooling2D)  (None, 8, 8, 128)         0         \n",
      "                                                                 \n",
      " block3_conv1 (Conv2D)       (None, 8, 8, 256)         295168    \n",
      "                                                                 \n",
      " block3_conv2 (Conv2D)       (None, 8, 8, 256)         590080    \n",
      "                                                                 \n",
      " block3_conv3 (Conv2D)       (None, 8, 8, 256)         590080    \n",
      "                                                                 \n",
      " block3_pool (MaxPooling2D)  (None, 4, 4, 256)         0         \n",
      "                                                                 \n",
      " block4_conv1 (Conv2D)       (None, 4, 4, 512)         1180160   \n",
      "                                                                 \n",
      " block4_conv2 (Conv2D)       (None, 4, 4, 512)         2359808   \n",
      "                                                                 \n",
      " block4_conv3 (Conv2D)       (None, 4, 4, 512)         2359808   \n",
      "                                                                 \n",
      " block4_pool (MaxPooling2D)  (None, 2, 2, 512)         0         \n",
      "                                                                 \n",
      " block5_conv1 (Conv2D)       (None, 2, 2, 512)         2359808   \n",
      "                                                                 \n",
      " block5_conv2 (Conv2D)       (None, 2, 2, 512)         2359808   \n",
      "                                                                 \n",
      " block5_conv3 (Conv2D)       (None, 2, 2, 512)         2359808   \n",
      "                                                                 \n",
      " block5_pool (MaxPooling2D)  (None, 1, 1, 512)         0         \n",
      "                                                                 \n",
      " global_average_pooling2d (G  (None, 512)              0         \n",
      " lobalAveragePooling2D)                                          \n",
      "                                                                 \n",
      "=================================================================\n",
      "Total params: 14,714,688\n",
      "Trainable params: 0\n",
      "Non-trainable params: 14,714,688\n",
      "_________________________________________________________________\n"
     ]
    }
   ],
   "source": [
    "model.summary()"
   ]
  },
  {
   "cell_type": "markdown",
   "id": "c3cfd6a7-ea47-4236-abf7-d94e130c4b5a",
   "metadata": {},
   "source": [
    "__Add new classification layers__\n",
    "\n",
    "We now add new classification layers after the convolutional layers.\n",
    "\n",
    "Notice how here we are not using the ```Sequential```, so we have to explicitly name the preceding layer in the model!"
   ]
  },
  {
   "cell_type": "code",
   "execution_count": 57,
   "id": "0766c7a7-c0c2-43db-803b-92d5526e6dc4",
   "metadata": {
    "execution": {
     "iopub.execute_input": "2022-04-20T12:25:24.214861Z",
     "iopub.status.busy": "2022-04-20T12:25:24.214291Z",
     "iopub.status.idle": "2022-04-20T12:25:24.224123Z",
     "shell.execute_reply": "2022-04-20T12:25:24.223279Z",
     "shell.execute_reply.started": "2022-04-20T12:25:24.214811Z"
    },
    "tags": []
   },
   "outputs": [],
   "source": [
    "tf.keras.backend.clear_session() # run this if you mess up your model and load it again. every time model is called, we add to the existing model. sor unning the same cell twice, will ruin the model"
   ]
  },
  {
   "cell_type": "code",
   "execution_count": 66,
   "id": "07f4a5e7-b892-4712-a02c-aca1cc0971f8",
   "metadata": {
    "execution": {
     "iopub.execute_input": "2022-04-20T12:27:45.233137Z",
     "iopub.status.busy": "2022-04-20T12:27:45.232607Z",
     "iopub.status.idle": "2022-04-20T12:27:45.295785Z",
     "shell.execute_reply": "2022-04-20T12:27:45.295250Z",
     "shell.execute_reply.started": "2022-04-20T12:27:45.233088Z"
    },
    "tags": []
   },
   "outputs": [
    {
     "name": "stdout",
     "output_type": "stream",
     "text": [
      "Model: \"model\"\n",
      "_________________________________________________________________\n",
      " Layer (type)                Output Shape              Param #   \n",
      "=================================================================\n",
      " input_2 (InputLayer)        [(None, 32, 32, 3)]       0         \n",
      "                                                                 \n",
      " block1_conv1 (Conv2D)       (None, 32, 32, 64)        1792      \n",
      "                                                                 \n",
      " block1_conv2 (Conv2D)       (None, 32, 32, 64)        36928     \n",
      "                                                                 \n",
      " block1_pool (MaxPooling2D)  (None, 16, 16, 64)        0         \n",
      "                                                                 \n",
      " block2_conv1 (Conv2D)       (None, 16, 16, 128)       73856     \n",
      "                                                                 \n",
      " block2_conv2 (Conv2D)       (None, 16, 16, 128)       147584    \n",
      "                                                                 \n",
      " block2_pool (MaxPooling2D)  (None, 8, 8, 128)         0         \n",
      "                                                                 \n",
      " block3_conv1 (Conv2D)       (None, 8, 8, 256)         295168    \n",
      "                                                                 \n",
      " block3_conv2 (Conv2D)       (None, 8, 8, 256)         590080    \n",
      "                                                                 \n",
      " block3_conv3 (Conv2D)       (None, 8, 8, 256)         590080    \n",
      "                                                                 \n",
      " block3_pool (MaxPooling2D)  (None, 4, 4, 256)         0         \n",
      "                                                                 \n",
      " block4_conv1 (Conv2D)       (None, 4, 4, 512)         1180160   \n",
      "                                                                 \n",
      " block4_conv2 (Conv2D)       (None, 4, 4, 512)         2359808   \n",
      "                                                                 \n",
      " block4_conv3 (Conv2D)       (None, 4, 4, 512)         2359808   \n",
      "                                                                 \n",
      " block4_pool (MaxPooling2D)  (None, 2, 2, 512)         0         \n",
      "                                                                 \n",
      " block5_conv1 (Conv2D)       (None, 2, 2, 512)         2359808   \n",
      "                                                                 \n",
      " block5_conv2 (Conv2D)       (None, 2, 2, 512)         2359808   \n",
      "                                                                 \n",
      " block5_conv3 (Conv2D)       (None, 2, 2, 512)         2359808   \n",
      "                                                                 \n",
      " block5_pool (MaxPooling2D)  (None, 1, 1, 512)         0         \n",
      "                                                                 \n",
      " global_average_pooling2d (G  (None, 512)              0         \n",
      " lobalAveragePooling2D)                                          \n",
      "                                                                 \n",
      " flatten (Flatten)           (None, 512)               0         \n",
      "                                                                 \n",
      " dense (Dense)               (None, 128)               65664     \n",
      "                                                                 \n",
      " dense_1 (Dense)             (None, 10)                1290      \n",
      "                                                                 \n",
      "=================================================================\n",
      "Total params: 14,781,642\n",
      "Trainable params: 66,954\n",
      "Non-trainable params: 14,714,688\n",
      "_________________________________________________________________\n"
     ]
    }
   ],
   "source": [
    "# add new classifier layers\n",
    "flat1 = Flatten()(model.layers[-1].output) # second part of this line, is the input the new flatten layer should take.\n",
    "class1 = Dense(128, activation = 'relu')(flat1)\n",
    "output = Dense(10, activation = 'softmax')(class1)\n",
    "\n",
    "# define new model\n",
    "model = Model(inputs = model.inputs,\n",
    "              outputs = output)\n",
    "\n",
    "# summarize\n",
    "model.summary()"
   ]
  },
  {
   "cell_type": "code",
   "execution_count": null,
   "id": "87f8b02b-a232-42b6-b75b-7d2ef9b87fc4",
   "metadata": {
    "execution": {
     "iopub.execute_input": "2022-04-19T18:58:35.786002Z",
     "iopub.status.busy": "2022-04-19T18:58:35.785500Z",
     "iopub.status.idle": "2022-04-19T18:58:35.863824Z",
     "shell.execute_reply": "2022-04-19T18:58:35.863169Z",
     "shell.execute_reply.started": "2022-04-19T18:58:35.785947Z"
    },
    "tags": []
   },
   "outputs": [],
   "source": []
  },
  {
   "cell_type": "markdown",
   "id": "a7661feb-6be0-47b6-a243-43bec3ed96da",
   "metadata": {},
   "source": [
    "__Compile__"
   ]
  },
  {
   "cell_type": "markdown",
   "id": "d20a151e-e2cf-45a9-a79f-87d466195c41",
   "metadata": {},
   "source": [
    "We're going to be using a more sophisticated optimization algorithm, which you can read about [here](https://www.tensorflow.org/api_docs/python/tf/keras/optimizers/schedules/ExponentialDecay)."
   ]
  },
  {
   "cell_type": "code",
   "execution_count": 68,
   "id": "51421b8b-2a08-4b4b-96c1-2306cae34796",
   "metadata": {
    "execution": {
     "iopub.execute_input": "2022-04-20T12:31:58.204079Z",
     "iopub.status.busy": "2022-04-20T12:31:58.203555Z",
     "iopub.status.idle": "2022-04-20T12:31:58.212247Z",
     "shell.execute_reply": "2022-04-20T12:31:58.211037Z",
     "shell.execute_reply.started": "2022-04-20T12:31:58.204030Z"
    },
    "tags": []
   },
   "outputs": [],
   "source": [
    "lr_schedule = tf.keras.optimizers.schedules.ExponentialDecay( # the decrease is by an exponential curve\n",
    "    initial_learning_rate = 0.01, # high learning rate initially\n",
    "    decay_steps = 10000, # num of steps\n",
    "    decay_rate = 0.9) # how much to decrayse by \n",
    "\n",
    "sgd = SGD(learning_rate = lr_schedule)"
   ]
  },
  {
   "cell_type": "code",
   "execution_count": 69,
   "id": "42664802-f463-4bda-afb1-fc9506a97930",
   "metadata": {
    "execution": {
     "iopub.execute_input": "2022-04-20T12:33:15.008869Z",
     "iopub.status.busy": "2022-04-20T12:33:15.008324Z",
     "iopub.status.idle": "2022-04-20T12:33:15.026490Z",
     "shell.execute_reply": "2022-04-20T12:33:15.025759Z",
     "shell.execute_reply.started": "2022-04-20T12:33:15.008819Z"
    },
    "tags": []
   },
   "outputs": [],
   "source": [
    "model.compile(optimizer = sgd,\n",
    "              loss = 'categorical_crossentropy', # multi class instead of binary\n",
    "              metrics = ['accuracy']) "
   ]
  },
  {
   "cell_type": "markdown",
   "id": "45c0f687-096f-43da-94ea-e2b6c9a3cb68",
   "metadata": {},
   "source": [
    "__Train__"
   ]
  },
  {
   "cell_type": "code",
   "execution_count": 70,
   "id": "0fb24e5f-1687-46c8-829f-420bd0527909",
   "metadata": {
    "execution": {
     "iopub.execute_input": "2022-04-20T12:36:10.988940Z",
     "iopub.status.busy": "2022-04-20T12:36:10.988392Z",
     "iopub.status.idle": "2022-04-20T12:44:07.618078Z",
     "shell.execute_reply": "2022-04-20T12:44:07.617038Z",
     "shell.execute_reply.started": "2022-04-20T12:36:10.988890Z"
    },
    "tags": []
   },
   "outputs": [
    {
     "name": "stdout",
     "output_type": "stream",
     "text": [
      "Epoch 1/10\n",
      "391/391 [==============================] - 48s 123ms/step - loss: 1.9940 - accuracy: 0.3139 - val_loss: 1.7930 - val_accuracy: 0.3932\n",
      "Epoch 2/10\n",
      "391/391 [==============================] - 47s 120ms/step - loss: 1.6889 - accuracy: 0.4290 - val_loss: 1.6185 - val_accuracy: 0.4471\n",
      "Epoch 3/10\n",
      "391/391 [==============================] - 48s 123ms/step - loss: 1.5639 - accuracy: 0.4641 - val_loss: 1.5364 - val_accuracy: 0.4725\n",
      "Epoch 4/10\n",
      "391/391 [==============================] - 48s 123ms/step - loss: 1.4949 - accuracy: 0.4874 - val_loss: 1.4891 - val_accuracy: 0.4834\n",
      "Epoch 5/10\n",
      "391/391 [==============================] - 48s 122ms/step - loss: 1.4486 - accuracy: 0.5017 - val_loss: 1.4440 - val_accuracy: 0.4972\n",
      "Epoch 6/10\n",
      "391/391 [==============================] - 47s 120ms/step - loss: 1.4149 - accuracy: 0.5111 - val_loss: 1.4178 - val_accuracy: 0.5079\n",
      "Epoch 7/10\n",
      "391/391 [==============================] - 48s 122ms/step - loss: 1.3893 - accuracy: 0.5210 - val_loss: 1.3953 - val_accuracy: 0.5153\n",
      "Epoch 8/10\n",
      "391/391 [==============================] - 47s 121ms/step - loss: 1.3676 - accuracy: 0.5271 - val_loss: 1.3764 - val_accuracy: 0.5243\n",
      "Epoch 9/10\n",
      "391/391 [==============================] - 48s 122ms/step - loss: 1.3504 - accuracy: 0.5322 - val_loss: 1.3679 - val_accuracy: 0.5239\n",
      "Epoch 10/10\n",
      "391/391 [==============================] - 48s 122ms/step - loss: 1.3350 - accuracy: 0.5380 - val_loss: 1.3613 - val_accuracy: 0.5258\n"
     ]
    }
   ],
   "source": [
    "H = model.fit(X_train, y_train,\n",
    "              validation_data = (X_test, y_test),\n",
    "              batch_size = 128,\n",
    "              epochs = 10,\n",
    "              verbose = 1) # verbose true: tell me information while running"
   ]
  },
  {
   "cell_type": "markdown",
   "id": "a461d6b6-3fc4-4951-be90-f37ca2678c22",
   "metadata": {},
   "source": [
    "__Evaluate__"
   ]
  },
  {
   "cell_type": "code",
   "execution_count": 71,
   "id": "c399b54f-d3f5-466c-a517-c182f625b045",
   "metadata": {
    "execution": {
     "iopub.execute_input": "2022-04-20T12:44:07.718475Z",
     "iopub.status.busy": "2022-04-20T12:44:07.718348Z",
     "iopub.status.idle": "2022-04-20T12:44:08.322011Z",
     "shell.execute_reply": "2022-04-20T12:44:08.321444Z",
     "shell.execute_reply.started": "2022-04-20T12:44:07.718461Z"
    },
    "tags": []
   },
   "outputs": [
    {
     "data": {
      "image/png": "[encoded data removed]",
      "text/plain": [
       "<Figure size 864x432 with 2 Axes>"
      ]
     },
     "metadata": {
      "needs_background": "light"
     },
     "output_type": "display_data"
    }
   ],
   "source": [
    "plot_history(H, 10)"
   ]
  },
  {
   "cell_type": "code",
   "execution_count": 72,
   "id": "a965d5ff-3edd-472c-aa1f-5c91ed527ed9",
   "metadata": {
    "execution": {
     "iopub.execute_input": "2022-04-20T12:44:08.322791Z",
     "iopub.status.busy": "2022-04-20T12:44:08.322660Z",
     "iopub.status.idle": "2022-04-20T12:44:16.557730Z",
     "shell.execute_reply": "2022-04-20T12:44:16.557091Z",
     "shell.execute_reply.started": "2022-04-20T12:44:08.322776Z"
    },
    "tags": []
   },
   "outputs": [
    {
     "name": "stdout",
     "output_type": "stream",
     "text": [
      "              precision    recall  f1-score   support\n",
      "\n",
      "    airplane       0.56      0.63      0.59      1000\n",
      "  automobile       0.54      0.58      0.56      1000\n",
      "        bird       0.36      0.52      0.42      1000\n",
      "         cat       0.42      0.37      0.39      1000\n",
      "        deer       0.55      0.45      0.49      1000\n",
      "         dog       0.58      0.42      0.48      1000\n",
      "        frog       0.58      0.60      0.59      1000\n",
      "       horse       0.63      0.51      0.57      1000\n",
      "        ship       0.67      0.60      0.63      1000\n",
      "       truck       0.48      0.59      0.53      1000\n",
      "\n",
      "    accuracy                           0.53     10000\n",
      "   macro avg       0.54      0.53      0.53     10000\n",
      "weighted avg       0.54      0.53      0.53     10000\n",
      "\n"
     ]
    }
   ],
   "source": [
    "predictions = model.predict(X_test, batch_size=128)\n",
    "# print classification report\n",
    "print(classification_report(y_test.argmax(axis=1), \n",
    "                            predictions.argmax(axis=1), \n",
    "                            target_names=label_names))"
   ]
  },
  {
   "cell_type": "markdown",
   "id": "50a3dd55-fa11-4792-8e20-767c527b6e5c",
   "metadata": {},
   "source": [
    "## Using data augmentation"
   ]
  },
  {
   "cell_type": "markdown",
   "id": "77e42f2a-81fa-4ace-bec4-78b14217b628",
   "metadata": {},
   "source": [
    "__Reload model__"
   ]
  },
  {
   "cell_type": "code",
   "execution_count": null,
   "id": "0f605dfd-c492-4a6d-9d3e-f8d99cee4a7f",
   "metadata": {
    "execution": {
     "iopub.execute_input": "2022-04-19T19:19:11.939269Z",
     "iopub.status.busy": "2022-04-19T19:19:11.938774Z",
     "iopub.status.idle": "2022-04-19T19:19:12.276631Z",
     "shell.execute_reply": "2022-04-19T19:19:12.276040Z",
     "shell.execute_reply.started": "2022-04-19T19:19:11.939215Z"
    },
    "tags": []
   },
   "outputs": [],
   "source": []
  },
  {
   "cell_type": "markdown",
   "id": "59e8ad59-8ae8-4270-a466-ebc2e230d049",
   "metadata": {},
   "source": [
    "__Define data generator__"
   ]
  },
  {
   "cell_type": "markdown",
   "id": "0a295a14-fa67-4c94-ab7e-0c4a4ae6c3c2",
   "metadata": {},
   "source": [
    "You can see the documentation for ImageDataGenerator [here](https://www.tensorflow.org/api_docs/python/tf/keras/preprocessing/image/ImageDataGenerator)"
   ]
  },
  {
   "cell_type": "code",
   "execution_count": null,
   "id": "fb7e7ac7-0c5c-4478-a0ab-16763ca51ad9",
   "metadata": {
    "execution": {
     "iopub.execute_input": "2022-04-19T19:19:13.828189Z",
     "iopub.status.busy": "2022-04-19T19:19:13.827703Z",
     "iopub.status.idle": "2022-04-19T19:19:13.834764Z",
     "shell.execute_reply": "2022-04-19T19:19:13.833783Z",
     "shell.execute_reply.started": "2022-04-19T19:19:13.828135Z"
    },
    "tags": []
   },
   "outputs": [],
   "source": []
  },
  {
   "cell_type": "markdown",
   "id": "ae6b1f9d-d19a-45c7-b976-32f66ebe7094",
   "metadata": {},
   "source": [
    "We're choosing to generate data on the fly, rather than save it to a folder."
   ]
  },
  {
   "cell_type": "markdown",
   "id": "ea68aac5-b8ec-4d7b-b73a-2d09a718fbd5",
   "metadata": {},
   "source": [
    "__Train__"
   ]
  },
  {
   "cell_type": "code",
   "execution_count": null,
   "id": "24b07adb-9a2c-480e-9579-b43a8f5ef8bd",
   "metadata": {
    "execution": {
     "iopub.execute_input": "2022-04-19T19:19:15.100013Z",
     "iopub.status.busy": "2022-04-19T19:19:15.099431Z",
     "iopub.status.idle": "2022-04-19T19:25:52.761261Z",
     "shell.execute_reply": "2022-04-19T19:25:52.760585Z",
     "shell.execute_reply.started": "2022-04-19T19:19:15.099959Z"
    },
    "tags": []
   },
   "outputs": [],
   "source": []
  },
  {
   "cell_type": "markdown",
   "id": "df796d8d-dc20-4e60-9b89-4ac999fbb130",
   "metadata": {},
   "source": [
    "__Inspect__"
   ]
  },
  {
   "cell_type": "code",
   "execution_count": null,
   "id": "258a52ea-38ec-429e-a121-6f62705d5bf9",
   "metadata": {
    "execution": {
     "iopub.execute_input": "2022-04-19T19:25:57.578025Z",
     "iopub.status.busy": "2022-04-19T19:25:57.577534Z",
     "iopub.status.idle": "2022-04-19T19:25:57.820903Z",
     "shell.execute_reply": "2022-04-19T19:25:57.820297Z",
     "shell.execute_reply.started": "2022-04-19T19:25:57.577971Z"
    },
    "tags": []
   },
   "outputs": [],
   "source": []
  },
  {
   "cell_type": "markdown",
   "id": "1dad7ff0-6f15-49f4-943c-0f8ea9d3538c",
   "metadata": {},
   "source": [
    "__Evaluate__"
   ]
  },
  {
   "cell_type": "code",
   "execution_count": null,
   "id": "6cf5eadd-df2f-42bc-8535-470fa910ed1c",
   "metadata": {
    "execution": {
     "iopub.execute_input": "2022-04-19T19:26:05.726153Z",
     "iopub.status.busy": "2022-04-19T19:26:05.725664Z",
     "iopub.status.idle": "2022-04-19T19:26:10.821945Z",
     "shell.execute_reply": "2022-04-19T19:26:10.821391Z",
     "shell.execute_reply.started": "2022-04-19T19:26:05.726098Z"
    },
    "tags": []
   },
   "outputs": [],
   "source": []
  }
 ],
 "metadata": {
  "kernelspec": {
   "display_name": "Python 3 ",
   "language": "python",
   "name": "python3"
  },
  "language_info": {
   "codemirror_mode": {
    "name": "ipython",
    "version": 3
   },
   "file_extension": ".py",
   "mimetype": "text/x-python",
   "name": "python",
   "nbconvert_exporter": "python",
   "pygments_lexer": "ipython3",
   "version": "3.9.6"
  }
 },
 "nbformat": 4,
 "nbformat_minor": 5
}
