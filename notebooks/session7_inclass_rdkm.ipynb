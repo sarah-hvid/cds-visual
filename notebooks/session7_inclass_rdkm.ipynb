{
 "cells": [
  {
   "cell_type": "markdown",
   "id": "c4041d36-442a-46d6-9886-7504b269271d",
   "metadata": {},
   "source": [
    "# An example pipeline using a (really cruddy) neural network in ```numpy```"
   ]
  },
  {
   "cell_type": "code",
   "execution_count": null,
   "id": "cf38ad16-10a3-4f96-b6e8-cdc97de8808b",
   "metadata": {
    "execution": {
     "iopub.execute_input": "2022-03-23T19:07:50.860046Z",
     "iopub.status.busy": "2022-03-23T19:07:50.859507Z",
     "iopub.status.idle": "2022-03-23T19:07:52.817137Z",
     "shell.execute_reply": "2022-03-23T19:07:52.816417Z",
     "shell.execute_reply.started": "2022-03-23T19:07:50.859980Z"
    },
    "tags": []
   },
   "outputs": [],
   "source": [
    "# path tools\n",
    "import sys,os\n",
    "sys.path.append(os.path.join(\"..\", \"..\", \"CDS-VIS\"))\n",
    "\n",
    "# image processing\n",
    "import cv2\n",
    "\n",
    "# neural networks with numpy\n",
    "import numpy as np\n",
    "from tensorflow.keras.datasets import cifar10\n",
    "from utils.neuralnetwork import NeuralNetwork\n",
    "\n",
    "# machine learning tools\n",
    "from sklearn.preprocessing import LabelBinarizer\n",
    "from sklearn.model_selection import train_test_split\n",
    "from sklearn.metrics import classification_report\n",
    "from sklearn.linear_model import LogisticRegression"
   ]
  },
  {
   "cell_type": "code",
   "execution_count": null,
   "id": "f96912bf-4ce0-4b95-bfeb-29420f9d5bd2",
   "metadata": {
    "execution": {
     "iopub.execute_input": "2022-03-23T19:40:34.677946Z",
     "iopub.status.busy": "2022-03-23T19:40:34.677399Z",
     "iopub.status.idle": "2022-03-23T19:40:35.268630Z",
     "shell.execute_reply": "2022-03-23T19:40:35.267526Z",
     "shell.execute_reply.started": "2022-03-23T19:40:34.677893Z"
    },
    "tags": []
   },
   "outputs": [],
   "source": []
  },
  {
   "cell_type": "code",
   "execution_count": null,
   "id": "6832d861-ba71-4f0f-9ebd-f64c7ae67b02",
   "metadata": {
    "execution": {
     "iopub.execute_input": "2022-03-23T19:40:35.294566Z",
     "iopub.status.busy": "2022-03-23T19:40:35.294425Z",
     "iopub.status.idle": "2022-03-23T19:40:35.298103Z",
     "shell.execute_reply": "2022-03-23T19:40:35.297508Z",
     "shell.execute_reply.started": "2022-03-23T19:40:35.294550Z"
    },
    "tags": []
   },
   "outputs": [],
   "source": []
  },
  {
   "cell_type": "markdown",
   "id": "90d309df-21de-47e9-b936-3a0cf3227ef8",
   "metadata": {},
   "source": [
    "### Convert all the data to greyscale"
   ]
  },
  {
   "cell_type": "code",
   "execution_count": null,
   "id": "fcf404eb-3454-4868-a444-3bed988e6858",
   "metadata": {
    "execution": {
     "iopub.execute_input": "2022-03-23T19:40:35.443887Z",
     "iopub.status.busy": "2022-03-23T19:40:35.443740Z",
     "iopub.status.idle": "2022-03-23T19:40:35.978193Z",
     "shell.execute_reply": "2022-03-23T19:40:35.977358Z",
     "shell.execute_reply.started": "2022-03-23T19:40:35.443871Z"
    },
    "tags": []
   },
   "outputs": [],
   "source": []
  },
  {
   "cell_type": "markdown",
   "id": "baeb7f6c-f405-4409-b95a-fcd878df2e2b",
   "metadata": {},
   "source": [
    "### Normalize the values"
   ]
  },
  {
   "cell_type": "code",
   "execution_count": null,
   "id": "2b83f2f4-727e-4870-a6f9-1b10553bb485",
   "metadata": {
    "execution": {
     "iopub.execute_input": "2022-03-23T19:40:36.000282Z",
     "iopub.status.busy": "2022-03-23T19:40:36.000137Z",
     "iopub.status.idle": "2022-03-23T19:40:36.003867Z",
     "shell.execute_reply": "2022-03-23T19:40:36.003301Z",
     "shell.execute_reply.started": "2022-03-23T19:40:36.000265Z"
    },
    "tags": []
   },
   "outputs": [],
   "source": []
  },
  {
   "cell_type": "code",
   "execution_count": null,
   "id": "e006909e-e319-4589-9498-2fe2cf2f9fbe",
   "metadata": {
    "execution": {
     "iopub.execute_input": "2022-03-23T19:40:36.294628Z",
     "iopub.status.busy": "2022-03-23T19:40:36.294308Z",
     "iopub.status.idle": "2022-03-23T19:40:36.614183Z",
     "shell.execute_reply": "2022-03-23T19:40:36.613351Z",
     "shell.execute_reply.started": "2022-03-23T19:40:36.294596Z"
    },
    "tags": []
   },
   "outputs": [],
   "source": []
  },
  {
   "cell_type": "markdown",
   "id": "bde6fbb2-981c-415f-a366-1ef16c311cb9",
   "metadata": {},
   "source": [
    "### Reshaping the data"
   ]
  },
  {
   "cell_type": "code",
   "execution_count": null,
   "id": "7c625488-abdd-468b-8a3d-fc2977291e93",
   "metadata": {
    "execution": {
     "iopub.execute_input": "2022-03-23T19:40:36.880134Z",
     "iopub.status.busy": "2022-03-23T19:40:36.879651Z",
     "iopub.status.idle": "2022-03-23T19:40:36.886664Z",
     "shell.execute_reply": "2022-03-23T19:40:36.885633Z",
     "shell.execute_reply.started": "2022-03-23T19:40:36.880084Z"
    },
    "tags": []
   },
   "outputs": [],
   "source": []
  },
  {
   "cell_type": "code",
   "execution_count": null,
   "id": "215aefa9-ec5a-4283-9991-2720b32c1dc3",
   "metadata": {
    "execution": {
     "iopub.execute_input": "2022-03-23T19:40:37.171296Z",
     "iopub.status.busy": "2022-03-23T19:40:37.170823Z",
     "iopub.status.idle": "2022-03-23T19:40:37.178353Z",
     "shell.execute_reply": "2022-03-23T19:40:37.177348Z",
     "shell.execute_reply.started": "2022-03-23T19:40:37.171247Z"
    },
    "tags": []
   },
   "outputs": [],
   "source": []
  },
  {
   "cell_type": "markdown",
   "id": "3ea0a714-a9df-49cb-a21f-3b51b91be223",
   "metadata": {},
   "source": [
    "## Simple logistic regression classifier"
   ]
  },
  {
   "cell_type": "code",
   "execution_count": null,
   "id": "0316aaac-46f0-4d39-aeae-e718b92e7e5b",
   "metadata": {
    "execution": {
     "iopub.execute_input": "2022-03-23T19:40:39.716037Z",
     "iopub.status.busy": "2022-03-23T19:40:39.715387Z",
     "iopub.status.idle": "2022-03-23T19:40:48.075275Z",
     "shell.execute_reply": "2022-03-23T19:40:48.074684Z",
     "shell.execute_reply.started": "2022-03-23T19:40:39.715965Z"
    },
    "tags": []
   },
   "outputs": [],
   "source": []
  },
  {
   "cell_type": "code",
   "execution_count": null,
   "id": "e335a959-6d8d-472c-a48f-6e052c7a6390",
   "metadata": {
    "execution": {
     "iopub.execute_input": "2022-03-23T19:40:48.097882Z",
     "iopub.status.busy": "2022-03-23T19:40:48.097743Z",
     "iopub.status.idle": "2022-03-23T19:40:48.102090Z",
     "shell.execute_reply": "2022-03-23T19:40:48.101649Z",
     "shell.execute_reply.started": "2022-03-23T19:40:48.097867Z"
    },
    "tags": []
   },
   "outputs": [],
   "source": []
  },
  {
   "cell_type": "markdown",
   "id": "04fcb452-b841-4b88-b384-b698e22bc279",
   "metadata": {},
   "source": [
    "### Get predictions and make classification report"
   ]
  },
  {
   "cell_type": "code",
   "execution_count": null,
   "id": "d4fa743d-b73a-43ec-896d-fb8e875f3c25",
   "metadata": {
    "execution": {
     "iopub.execute_input": "2022-03-23T19:40:48.103202Z",
     "iopub.status.busy": "2022-03-23T19:40:48.103062Z",
     "iopub.status.idle": "2022-03-23T19:40:48.135715Z",
     "shell.execute_reply": "2022-03-23T19:40:48.134105Z",
     "shell.execute_reply.started": "2022-03-23T19:40:48.103186Z"
    },
    "tags": []
   },
   "outputs": [],
   "source": []
  },
  {
   "cell_type": "code",
   "execution_count": null,
   "id": "eac241ae-9bec-4bc6-9f32-287f87bfe175",
   "metadata": {
    "execution": {
     "iopub.execute_input": "2022-03-23T19:40:48.137251Z",
     "iopub.status.busy": "2022-03-23T19:40:48.136905Z",
     "iopub.status.idle": "2022-03-23T19:40:48.176672Z",
     "shell.execute_reply": "2022-03-23T19:40:48.175654Z",
     "shell.execute_reply.started": "2022-03-23T19:40:48.137215Z"
    },
    "tags": []
   },
   "outputs": [],
   "source": []
  },
  {
   "cell_type": "markdown",
   "id": "096330d2-3b5b-434a-b816-fe68d07a1daa",
   "metadata": {},
   "source": [
    "## Neural network classifier"
   ]
  },
  {
   "cell_type": "code",
   "execution_count": null,
   "id": "46c7e0d7-4df4-438b-a847-658f2ea867a0",
   "metadata": {
    "execution": {
     "iopub.execute_input": "2022-03-23T19:40:54.815350Z",
     "iopub.status.busy": "2022-03-23T19:40:54.814760Z",
     "iopub.status.idle": "2022-03-23T19:40:54.838010Z",
     "shell.execute_reply": "2022-03-23T19:40:54.837451Z",
     "shell.execute_reply.started": "2022-03-23T19:40:54.815293Z"
    }
   },
   "outputs": [],
   "source": []
  },
  {
   "cell_type": "code",
   "execution_count": null,
   "id": "74368148-fad6-46b7-9829-6240e650dcb0",
   "metadata": {
    "execution": {
     "iopub.execute_input": "2022-03-23T19:41:07.017529Z",
     "iopub.status.busy": "2022-03-23T19:41:07.016918Z",
     "iopub.status.idle": "2022-03-23T20:00:45.350221Z",
     "shell.execute_reply": "2022-03-23T20:00:45.346624Z",
     "shell.execute_reply.started": "2022-03-23T19:41:07.017471Z"
    },
    "tags": []
   },
   "outputs": [],
   "source": []
  },
  {
   "cell_type": "code",
   "execution_count": null,
   "id": "494dee04-2355-4e41-bcde-c28ea5950096",
   "metadata": {
    "execution": {
     "iopub.execute_input": "2022-03-23T20:00:51.156586Z",
     "iopub.status.busy": "2022-03-23T20:00:51.156051Z",
     "iopub.status.idle": "2022-03-23T20:00:51.273663Z",
     "shell.execute_reply": "2022-03-23T20:00:51.272690Z",
     "shell.execute_reply.started": "2022-03-23T20:00:51.156534Z"
    },
    "tags": []
   },
   "outputs": [],
   "source": []
  },
  {
   "cell_type": "code",
   "execution_count": null,
   "id": "ee032674-49ba-4fae-8f5a-4f1566fca3e5",
   "metadata": {
    "execution": {
     "iopub.execute_input": "2022-03-23T20:00:52.063711Z",
     "iopub.status.busy": "2022-03-23T20:00:52.063222Z",
     "iopub.status.idle": "2022-03-23T20:00:52.095960Z",
     "shell.execute_reply": "2022-03-23T20:00:52.095370Z",
     "shell.execute_reply.started": "2022-03-23T20:00:52.063662Z"
    },
    "tags": []
   },
   "outputs": [],
   "source": []
  },
  {
   "cell_type": "code",
   "execution_count": null,
   "id": "bfcb8a3b-8743-4892-b6f3-5ee7dd096062",
   "metadata": {},
   "outputs": [],
   "source": []
  }
 ],
 "metadata": {
  "kernelspec": {
   "display_name": "Python 3 ",
   "language": "python",
   "name": "python3"
  },
  "language_info": {
   "codemirror_mode": {
    "name": "ipython",
    "version": 3
   },
   "file_extension": ".py",
   "mimetype": "text/x-python",
   "name": "python",
   "nbconvert_exporter": "python",
   "pygments_lexer": "ipython3",
   "version": "3.9.6"
  }
 },
 "nbformat": 4,
 "nbformat_minor": 5
}
