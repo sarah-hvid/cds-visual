{
 "cells": [
  {
   "cell_type": "markdown",
   "id": "c4041d36-442a-46d6-9886-7504b269271d",
   "metadata": {},
   "source": [
    "# An example pipeline using a (really cruddy) neural network in ```numpy```"
   ]
  },
  {
   "cell_type": "code",
   "execution_count": null,
   "id": "cf38ad16-10a3-4f96-b6e8-cdc97de8808b",
   "metadata": {
    "tags": []
   },
   "outputs": [],
   "source": [
    "# path tools\n",
    "import sys,os\n",
    "sys.path.append(os.path.join(\"..\", \"utils\"))\n",
    "\n",
    "# image processing \n",
    "import cv2 \n",
    "# neural networks with numpy\n",
    "import numpy as np\n",
    "\n",
    "# neural networks with numpy\n",
    "import numpy as np\n",
    "import tensorflow.keras.datasets as datasets\n",
    "from utils.neuralnetwork import NeuralNetwork\n",
    "\n",
    "# machine learning tools\n",
    "from sklearn.preprocessing import LabelBinarizer\n",
    "from sklearn.model_selection import train_test_split\n",
    "from sklearn.metrics import classification_report\n",
    "from sklearn.linear_model import LogisticRegression"
   ]
  },
  {
   "cell_type": "code",
   "execution_count": null,
   "id": "f96912bf-4ce0-4b95-bfeb-29420f9d5bd2",
   "metadata": {
    "tags": []
   },
   "outputs": [],
   "source": []
  },
  {
   "cell_type": "code",
   "execution_count": null,
   "id": "6832d861-ba71-4f0f-9ebd-f64c7ae67b02",
   "metadata": {
    "tags": []
   },
   "outputs": [],
   "source": []
  },
  {
   "cell_type": "markdown",
   "id": "90d309df-21de-47e9-b936-3a0cf3227ef8",
   "metadata": {},
   "source": [
    "### Convert all the data to greyscale"
   ]
  },
  {
   "cell_type": "code",
   "execution_count": null,
   "id": "fcf404eb-3454-4868-a444-3bed988e6858",
   "metadata": {
    "tags": []
   },
   "outputs": [],
   "source": []
  },
  {
   "cell_type": "markdown",
   "id": "baeb7f6c-f405-4409-b95a-fcd878df2e2b",
   "metadata": {},
   "source": [
    "### Normalize the values"
   ]
  },
  {
   "cell_type": "code",
   "execution_count": null,
   "id": "2b83f2f4-727e-4870-a6f9-1b10553bb485",
   "metadata": {
    "tags": []
   },
   "outputs": [],
   "source": []
  },
  {
   "cell_type": "code",
   "execution_count": null,
   "id": "e006909e-e319-4589-9498-2fe2cf2f9fbe",
   "metadata": {
    "tags": []
   },
   "outputs": [],
   "source": []
  },
  {
   "cell_type": "markdown",
   "id": "bde6fbb2-981c-415f-a366-1ef16c311cb9",
   "metadata": {},
   "source": [
    "### Reshaping the data"
   ]
  },
  {
   "cell_type": "code",
   "execution_count": null,
   "id": "7c625488-abdd-468b-8a3d-fc2977291e93",
   "metadata": {
    "tags": []
   },
   "outputs": [],
   "source": []
  },
  {
   "cell_type": "code",
   "execution_count": null,
   "id": "215aefa9-ec5a-4283-9991-2720b32c1dc3",
   "metadata": {
    "tags": []
   },
   "outputs": [],
   "source": []
  },
  {
   "cell_type": "markdown",
   "id": "3ea0a714-a9df-49cb-a21f-3b51b91be223",
   "metadata": {},
   "source": [
    "## Simple logistic regression classifier"
   ]
  },
  {
   "cell_type": "code",
   "execution_count": null,
   "id": "0316aaac-46f0-4d39-aeae-e718b92e7e5b",
   "metadata": {
    "tags": []
   },
   "outputs": [],
   "source": []
  },
  {
   "cell_type": "code",
   "execution_count": null,
   "id": "e335a959-6d8d-472c-a48f-6e052c7a6390",
   "metadata": {
    "tags": []
   },
   "outputs": [],
   "source": []
  },
  {
   "cell_type": "markdown",
   "id": "04fcb452-b841-4b88-b384-b698e22bc279",
   "metadata": {},
   "source": [
    "### Get predictions and make classification report"
   ]
  },
  {
   "cell_type": "code",
   "execution_count": null,
   "id": "d4fa743d-b73a-43ec-896d-fb8e875f3c25",
   "metadata": {
    "tags": []
   },
   "outputs": [],
   "source": []
  },
  {
   "cell_type": "code",
   "execution_count": null,
   "id": "eac241ae-9bec-4bc6-9f32-287f87bfe175",
   "metadata": {
    "tags": []
   },
   "outputs": [],
   "source": []
  },
  {
   "cell_type": "markdown",
   "id": "096330d2-3b5b-434a-b816-fe68d07a1daa",
   "metadata": {},
   "source": [
    "## Neural network classifier"
   ]
  },
  {
   "cell_type": "code",
   "execution_count": null,
   "id": "46c7e0d7-4df4-438b-a847-658f2ea867a0",
   "metadata": {},
   "outputs": [],
   "source": []
  },
  {
   "cell_type": "code",
   "execution_count": null,
   "id": "74368148-fad6-46b7-9829-6240e650dcb0",
   "metadata": {
    "tags": []
   },
   "outputs": [],
   "source": []
  },
  {
   "cell_type": "code",
   "execution_count": null,
   "id": "494dee04-2355-4e41-bcde-c28ea5950096",
   "metadata": {
    "tags": []
   },
   "outputs": [],
   "source": []
  },
  {
   "cell_type": "code",
   "execution_count": null,
   "id": "ee032674-49ba-4fae-8f5a-4f1566fca3e5",
   "metadata": {
    "tags": []
   },
   "outputs": [],
   "source": []
  },
  {
   "cell_type": "code",
   "execution_count": null,
   "id": "bfcb8a3b-8743-4892-b6f3-5ee7dd096062",
   "metadata": {},
   "outputs": [],
   "source": []
  }
 ],
 "metadata": {
  "kernelspec": {
   "display_name": "Python 3 (ipykernel)",
   "language": "python",
   "name": "python3"
  },
  "language_info": {
   "codemirror_mode": {
    "name": "ipython",
    "version": 3
   },
   "file_extension": ".py",
   "mimetype": "text/x-python",
   "name": "python",
   "nbconvert_exporter": "python",
   "pygments_lexer": "ipython3",
   "version": "3.9.10"
  }
 },
 "nbformat": 4,
 "nbformat_minor": 5
}
