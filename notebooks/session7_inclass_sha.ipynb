{
 "cells": [
  {
   "cell_type": "markdown",
   "id": "c4041d36-442a-46d6-9886-7504b269271d",
   "metadata": {},
   "source": [
    "# An example pipeline using a (really cruddy) neural network in ```numpy```"
   ]
  },
  {
   "cell_type": "code",
   "execution_count": 6,
   "id": "cf38ad16-10a3-4f96-b6e8-cdc97de8808b",
   "metadata": {
    "execution": {
     "iopub.execute_input": "2022-03-24T12:21:21.136601Z",
     "iopub.status.busy": "2022-03-24T12:21:21.136045Z",
     "iopub.status.idle": "2022-03-24T12:21:23.130995Z",
     "shell.execute_reply": "2022-03-24T12:21:23.129538Z",
     "shell.execute_reply.started": "2022-03-24T12:21:21.136546Z"
    },
    "tags": []
   },
   "outputs": [
    {
     "name": "stderr",
     "output_type": "stream",
     "text": [
      "2022-03-24 13:21:21.327669: W tensorflow/stream_executor/platform/default/dso_loader.cc:64] Could not load dynamic library 'libcudart.so.11.0'; dlerror: libcudart.so.11.0: cannot open shared object file: No such file or directory; LD_LIBRARY_PATH: /opt/conda/lib/python3.9/site-packages/cv2/../../lib64:\n",
      "2022-03-24 13:21:21.327716: I tensorflow/stream_executor/cuda/cudart_stub.cc:29] Ignore above cudart dlerror if you do not have a GPU set up on your machine.\n"
     ]
    }
   ],
   "source": [
    "# path tools\n",
    "import sys,os\n",
    "sys.path.append(os.path.join(\"..\"))\n",
    "\n",
    "# image processing\n",
    "import cv2\n",
    "\n",
    "# neural networks with numpy\n",
    "import numpy as np\n",
    "from tensorflow.keras.datasets import cifar10\n",
    "from utils.neuralnetwork import NeuralNetwork\n",
    "\n",
    "# machine learning tools\n",
    "from sklearn.preprocessing import LabelBinarizer\n",
    "from sklearn.model_selection import train_test_split\n",
    "from sklearn.metrics import classification_report\n",
    "from sklearn.linear_model import LogisticRegression"
   ]
  },
  {
   "cell_type": "code",
   "execution_count": 8,
   "id": "6832d861-ba71-4f0f-9ebd-f64c7ae67b02",
   "metadata": {
    "execution": {
     "iopub.execute_input": "2022-03-24T12:21:53.708498Z",
     "iopub.status.busy": "2022-03-24T12:21:53.707672Z",
     "iopub.status.idle": "2022-03-24T12:21:54.368362Z",
     "shell.execute_reply": "2022-03-24T12:21:54.366915Z",
     "shell.execute_reply.started": "2022-03-24T12:21:53.708426Z"
    },
    "tags": []
   },
   "outputs": [],
   "source": [
    "(X_train, y_train), (X_test, y_test) = cifar10.load_data()"
   ]
  },
  {
   "cell_type": "code",
   "execution_count": 11,
   "id": "09599450-f879-4b8d-8ea8-1b31d435b9d5",
   "metadata": {
    "execution": {
     "iopub.execute_input": "2022-03-24T12:32:08.372507Z",
     "iopub.status.busy": "2022-03-24T12:32:08.371931Z",
     "iopub.status.idle": "2022-03-24T12:32:08.381652Z",
     "shell.execute_reply": "2022-03-24T12:32:08.380120Z",
     "shell.execute_reply.started": "2022-03-24T12:32:08.372439Z"
    },
    "tags": []
   },
   "outputs": [],
   "source": [
    "labels = ['airplane', 'automobile', 'bird', 'cat', 'deer', 'dog', 'frog', 'horse', 'ship', 'truck']"
   ]
  },
  {
   "cell_type": "markdown",
   "id": "90d309df-21de-47e9-b936-3a0cf3227ef8",
   "metadata": {},
   "source": [
    "### Convert all the data to greyscale"
   ]
  },
  {
   "cell_type": "code",
   "execution_count": null,
   "id": "f1c99c63-17aa-4117-821c-e3a045ae9b0b",
   "metadata": {},
   "outputs": [],
   "source": [
    "# list comprehension example\n",
    "out_list = []\n",
    "for i in data:\n",
    "    out = do_something(i)\n",
    "    out_list.append(out)\n",
    "    \n",
    "out_list = [do_something(x) for x in data]"
   ]
  },
  {
   "cell_type": "code",
   "execution_count": 12,
   "id": "fcf404eb-3454-4868-a444-3bed988e6858",
   "metadata": {
    "execution": {
     "iopub.execute_input": "2022-03-24T12:33:07.564478Z",
     "iopub.status.busy": "2022-03-24T12:33:07.563910Z",
     "iopub.status.idle": "2022-03-24T12:33:08.138774Z",
     "shell.execute_reply": "2022-03-24T12:33:08.137981Z",
     "shell.execute_reply.started": "2022-03-24T12:33:07.564411Z"
    },
    "tags": []
   },
   "outputs": [],
   "source": [
    "X_train_grey = np.array([cv2.cvtColor(image, cv2.COLOR_BGR2GRAY) for image in X_train])\n",
    "X_test_grey = np.array([cv2.cvtColor(image, cv2.COLOR_BGR2GRAY) for image in X_test])"
   ]
  },
  {
   "cell_type": "markdown",
   "id": "baeb7f6c-f405-4409-b95a-fcd878df2e2b",
   "metadata": {},
   "source": [
    "### Normalize the values"
   ]
  },
  {
   "cell_type": "code",
   "execution_count": 22,
   "id": "2b83f2f4-727e-4870-a6f9-1b10553bb485",
   "metadata": {
    "execution": {
     "iopub.execute_input": "2022-03-24T12:44:14.352014Z",
     "iopub.status.busy": "2022-03-24T12:44:14.351470Z",
     "iopub.status.idle": "2022-03-24T12:44:14.361484Z",
     "shell.execute_reply": "2022-03-24T12:44:14.360526Z",
     "shell.execute_reply.started": "2022-03-24T12:44:14.351948Z"
    },
    "tags": []
   },
   "outputs": [
    {
     "data": {
      "text/plain": [
       "0.0"
      ]
     },
     "execution_count": 22,
     "metadata": {},
     "output_type": "execute_result"
    }
   ],
   "source": [
    "# min max normalization function, for each array: (X - min(X) / max(X) - min(x) = values between 0 and 1"
   ]
  },
  {
   "cell_type": "code",
   "execution_count": 29,
   "id": "8a49f81c-8cb4-4c27-8c9d-87135e36d16c",
   "metadata": {
    "execution": {
     "iopub.execute_input": "2022-03-24T12:50:18.259895Z",
     "iopub.status.busy": "2022-03-24T12:50:18.259400Z",
     "iopub.status.idle": "2022-03-24T12:50:18.267377Z",
     "shell.execute_reply": "2022-03-24T12:50:18.266440Z",
     "shell.execute_reply.started": "2022-03-24T12:50:18.259845Z"
    },
    "tags": []
   },
   "outputs": [],
   "source": [
    "def minmax(data):\n",
    "    X_norm = (data - data.min()) / (data.max() - data.min())\n",
    "    return X_norm"
   ]
  },
  {
   "cell_type": "code",
   "execution_count": 13,
   "id": "e006909e-e319-4589-9498-2fe2cf2f9fbe",
   "metadata": {
    "execution": {
     "iopub.execute_input": "2022-03-24T12:39:35.188950Z",
     "iopub.status.busy": "2022-03-24T12:39:35.188443Z",
     "iopub.status.idle": "2022-03-24T12:39:35.196850Z",
     "shell.execute_reply": "2022-03-24T12:39:35.195943Z",
     "shell.execute_reply.started": "2022-03-24T12:39:35.188897Z"
    },
    "tags": []
   },
   "outputs": [],
   "source": [
    "def min_max_scaling(array):\n",
    "    scaled = (array - np.min(array)) / (np.max(array) - np.min(array))\n",
    "    return scaled\n",
    "    "
   ]
  },
  {
   "cell_type": "code",
   "execution_count": 30,
   "id": "ddac10fa-3473-4759-b16f-a44344a7e589",
   "metadata": {
    "execution": {
     "iopub.execute_input": "2022-03-24T12:50:20.020876Z",
     "iopub.status.busy": "2022-03-24T12:50:20.020396Z",
     "iopub.status.idle": "2022-03-24T12:50:20.331436Z",
     "shell.execute_reply": "2022-03-24T12:50:20.330764Z",
     "shell.execute_reply.started": "2022-03-24T12:50:20.020825Z"
    },
    "tags": []
   },
   "outputs": [],
   "source": [
    "X_train_scaled = minmax(X_train_grey)\n",
    "X_test_scaled = minmax(X_test_grey)"
   ]
  },
  {
   "cell_type": "markdown",
   "id": "bde6fbb2-981c-415f-a366-1ef16c311cb9",
   "metadata": {},
   "source": [
    "### Reshaping the data"
   ]
  },
  {
   "cell_type": "code",
   "execution_count": 59,
   "id": "7c625488-abdd-468b-8a3d-fc2977291e93",
   "metadata": {
    "execution": {
     "iopub.execute_input": "2022-03-24T13:25:21.969559Z",
     "iopub.status.busy": "2022-03-24T13:25:21.969049Z",
     "iopub.status.idle": "2022-03-24T13:25:21.976487Z",
     "shell.execute_reply": "2022-03-24T13:25:21.975211Z",
     "shell.execute_reply.started": "2022-03-24T13:25:21.969507Z"
    },
    "tags": []
   },
   "outputs": [],
   "source": [
    "nsamples, nx, ny = X_train_scaled.shape\n",
    "X_train_dataset = X_train_scaled.reshape(nsamples, nx*ny)"
   ]
  },
  {
   "cell_type": "code",
   "execution_count": 60,
   "id": "215aefa9-ec5a-4283-9991-2720b32c1dc3",
   "metadata": {
    "execution": {
     "iopub.execute_input": "2022-03-24T13:25:23.441999Z",
     "iopub.status.busy": "2022-03-24T13:25:23.441497Z",
     "iopub.status.idle": "2022-03-24T13:25:23.449405Z",
     "shell.execute_reply": "2022-03-24T13:25:23.447986Z",
     "shell.execute_reply.started": "2022-03-24T13:25:23.441949Z"
    },
    "tags": []
   },
   "outputs": [],
   "source": [
    "nsamples, nx, ny = X_test_scaled.shape\n",
    "X_test_dataset = X_test_scaled.reshape(nsamples, nx*ny)"
   ]
  },
  {
   "cell_type": "markdown",
   "id": "3ea0a714-a9df-49cb-a21f-3b51b91be223",
   "metadata": {},
   "source": [
    "## Simple logistic regression classifier"
   ]
  },
  {
   "cell_type": "code",
   "execution_count": 40,
   "id": "0316aaac-46f0-4d39-aeae-e718b92e7e5b",
   "metadata": {
    "execution": {
     "iopub.execute_input": "2022-03-24T13:12:35.954706Z",
     "iopub.status.busy": "2022-03-24T13:12:35.954213Z",
     "iopub.status.idle": "2022-03-24T13:12:46.341987Z",
     "shell.execute_reply": "2022-03-24T13:12:46.340468Z",
     "shell.execute_reply.started": "2022-03-24T13:12:35.954653Z"
    },
    "tags": []
   },
   "outputs": [
    {
     "name": "stderr",
     "output_type": "stream",
     "text": [
      "/opt/conda/lib/python3.9/site-packages/sklearn/utils/validation.py:993: DataConversionWarning: A column-vector y was passed when a 1d array was expected. Please change the shape of y to (n_samples, ), for example using ravel().\n",
      "  y = column_or_1d(y, warn=True)\n"
     ]
    }
   ],
   "source": [
    "clf = LogisticRegression(penalty = 'none',\n",
    "                         tol = 0.1,\n",
    "                         solver = 'saga',\n",
    "                         multi_class = 'multinomial').fit(X_train_dataset, y_train)"
   ]
  },
  {
   "cell_type": "code",
   "execution_count": 53,
   "id": "e335a959-6d8d-472c-a48f-6e052c7a6390",
   "metadata": {
    "execution": {
     "iopub.execute_input": "2022-03-24T13:21:34.541750Z",
     "iopub.status.busy": "2022-03-24T13:21:34.541194Z",
     "iopub.status.idle": "2022-03-24T13:21:34.575515Z",
     "shell.execute_reply": "2022-03-24T13:21:34.573952Z",
     "shell.execute_reply.started": "2022-03-24T13:21:34.541696Z"
    },
    "tags": []
   },
   "outputs": [],
   "source": [
    "y_pred = clf.predict(X_test_dataset)"
   ]
  },
  {
   "cell_type": "markdown",
   "id": "04fcb452-b841-4b88-b384-b698e22bc279",
   "metadata": {},
   "source": [
    "### Get predictions and make classification report"
   ]
  },
  {
   "cell_type": "code",
   "execution_count": 54,
   "id": "d4fa743d-b73a-43ec-896d-fb8e875f3c25",
   "metadata": {
    "execution": {
     "iopub.execute_input": "2022-03-24T13:21:36.049173Z",
     "iopub.status.busy": "2022-03-24T13:21:36.048672Z",
     "iopub.status.idle": "2022-03-24T13:21:36.627605Z",
     "shell.execute_reply": "2022-03-24T13:21:36.626829Z",
     "shell.execute_reply.started": "2022-03-24T13:21:36.049111Z"
    },
    "tags": []
   },
   "outputs": [
    {
     "ename": "ValueError",
     "evalue": "Classification metrics can't handle a mix of continuous-multioutput and multiclass targets",
     "output_type": "error",
     "traceback": [
      "\u001b[0;31m---------------------------------------------------------------------------\u001b[0m",
      "\u001b[0;31mValueError\u001b[0m                                Traceback (most recent call last)",
      "\u001b[0;32m/tmp/ipykernel_136/551163128.py\u001b[0m in \u001b[0;36m<module>\u001b[0;34m\u001b[0m\n\u001b[0;32m----> 1\u001b[0;31m \u001b[0mreport\u001b[0m \u001b[0;34m=\u001b[0m \u001b[0mclassification_report\u001b[0m\u001b[0;34m(\u001b[0m\u001b[0mX_test_dataset\u001b[0m\u001b[0;34m,\u001b[0m \u001b[0my_pred\u001b[0m\u001b[0;34m,\u001b[0m \u001b[0mtarget_names\u001b[0m \u001b[0;34m=\u001b[0m \u001b[0mlabels\u001b[0m\u001b[0;34m)\u001b[0m\u001b[0;34m\u001b[0m\u001b[0;34m\u001b[0m\u001b[0m\n\u001b[0m\u001b[1;32m      2\u001b[0m \u001b[0mprint\u001b[0m\u001b[0;34m(\u001b[0m\u001b[0mreport\u001b[0m\u001b[0;34m)\u001b[0m\u001b[0;34m\u001b[0m\u001b[0;34m\u001b[0m\u001b[0m\n",
      "\u001b[0;32m/opt/conda/lib/python3.9/site-packages/sklearn/metrics/_classification.py\u001b[0m in \u001b[0;36mclassification_report\u001b[0;34m(y_true, y_pred, labels, target_names, sample_weight, digits, output_dict, zero_division)\u001b[0m\n\u001b[1;32m   2108\u001b[0m     \"\"\"\n\u001b[1;32m   2109\u001b[0m \u001b[0;34m\u001b[0m\u001b[0m\n\u001b[0;32m-> 2110\u001b[0;31m     \u001b[0my_type\u001b[0m\u001b[0;34m,\u001b[0m \u001b[0my_true\u001b[0m\u001b[0;34m,\u001b[0m \u001b[0my_pred\u001b[0m \u001b[0;34m=\u001b[0m \u001b[0m_check_targets\u001b[0m\u001b[0;34m(\u001b[0m\u001b[0my_true\u001b[0m\u001b[0;34m,\u001b[0m \u001b[0my_pred\u001b[0m\u001b[0;34m)\u001b[0m\u001b[0;34m\u001b[0m\u001b[0;34m\u001b[0m\u001b[0m\n\u001b[0m\u001b[1;32m   2111\u001b[0m \u001b[0;34m\u001b[0m\u001b[0m\n\u001b[1;32m   2112\u001b[0m     \u001b[0;32mif\u001b[0m \u001b[0mlabels\u001b[0m \u001b[0;32mis\u001b[0m \u001b[0;32mNone\u001b[0m\u001b[0;34m:\u001b[0m\u001b[0;34m\u001b[0m\u001b[0;34m\u001b[0m\u001b[0m\n",
      "\u001b[0;32m/opt/conda/lib/python3.9/site-packages/sklearn/metrics/_classification.py\u001b[0m in \u001b[0;36m_check_targets\u001b[0;34m(y_true, y_pred)\u001b[0m\n\u001b[1;32m     91\u001b[0m \u001b[0;34m\u001b[0m\u001b[0m\n\u001b[1;32m     92\u001b[0m     \u001b[0;32mif\u001b[0m \u001b[0mlen\u001b[0m\u001b[0;34m(\u001b[0m\u001b[0my_type\u001b[0m\u001b[0;34m)\u001b[0m \u001b[0;34m>\u001b[0m \u001b[0;36m1\u001b[0m\u001b[0;34m:\u001b[0m\u001b[0;34m\u001b[0m\u001b[0;34m\u001b[0m\u001b[0m\n\u001b[0;32m---> 93\u001b[0;31m         raise ValueError(\n\u001b[0m\u001b[1;32m     94\u001b[0m             \"Classification metrics can't handle a mix of {0} and {1} targets\".format(\n\u001b[1;32m     95\u001b[0m                 \u001b[0mtype_true\u001b[0m\u001b[0;34m,\u001b[0m \u001b[0mtype_pred\u001b[0m\u001b[0;34m\u001b[0m\u001b[0;34m\u001b[0m\u001b[0m\n",
      "\u001b[0;31mValueError\u001b[0m: Classification metrics can't handle a mix of continuous-multioutput and multiclass targets"
     ]
    }
   ],
   "source": [
    "report = classification_report(X_test_dataset, y_pred, target_names = labels)\n",
    "print(report)"
   ]
  },
  {
   "cell_type": "code",
   "execution_count": null,
   "id": "eac241ae-9bec-4bc6-9f32-287f87bfe175",
   "metadata": {
    "execution": {
     "iopub.execute_input": "2022-03-23T19:40:48.137251Z",
     "iopub.status.busy": "2022-03-23T19:40:48.136905Z",
     "iopub.status.idle": "2022-03-23T19:40:48.176672Z",
     "shell.execute_reply": "2022-03-23T19:40:48.175654Z",
     "shell.execute_reply.started": "2022-03-23T19:40:48.137215Z"
    },
    "tags": []
   },
   "outputs": [],
   "source": []
  },
  {
   "cell_type": "markdown",
   "id": "096330d2-3b5b-434a-b816-fe68d07a1daa",
   "metadata": {},
   "source": [
    "## Neural network classifier"
   ]
  },
  {
   "cell_type": "code",
   "execution_count": 55,
   "id": "46c7e0d7-4df4-438b-a847-658f2ea867a0",
   "metadata": {
    "execution": {
     "iopub.execute_input": "2022-03-24T13:22:03.213571Z",
     "iopub.status.busy": "2022-03-24T13:22:03.213022Z",
     "iopub.status.idle": "2022-03-24T13:22:03.259649Z",
     "shell.execute_reply": "2022-03-24T13:22:03.258812Z",
     "shell.execute_reply.started": "2022-03-24T13:22:03.213517Z"
    },
    "tags": []
   },
   "outputs": [],
   "source": [
    "y_train = LabelBinarizer().fit_transform(y_train)\n",
    "y_test = LabelBinarizer().fit_transform(y_test)"
   ]
  },
  {
   "cell_type": "code",
   "execution_count": 66,
   "id": "74368148-fad6-46b7-9829-6240e650dcb0",
   "metadata": {
    "execution": {
     "iopub.execute_input": "2022-03-24T13:32:05.106558Z",
     "iopub.status.busy": "2022-03-24T13:32:05.106026Z",
     "iopub.status.idle": "2022-03-24T13:34:29.669942Z",
     "shell.execute_reply": "2022-03-24T13:34:29.668660Z",
     "shell.execute_reply.started": "2022-03-24T13:32:05.106508Z"
    },
    "tags": []
   },
   "outputs": [
    {
     "name": "stdout",
     "output_type": "stream",
     "text": [
      "[INFO] training network...\n",
      "[INFO] NeuralNetwork: 1024-64-10\n",
      "[INFO] epoch=1, loss=20340.2633728\n",
      "[INFO] epoch=2, loss=19692.3412305\n",
      "[INFO] epoch=3, loss=19364.4578447\n",
      "[INFO] epoch=4, loss=19197.2822849\n",
      "[INFO] epoch=5, loss=19051.5733894\n",
      "[INFO] epoch=6, loss=19000.6712205\n",
      "[INFO] epoch=7, loss=18775.7961470\n",
      "[INFO] epoch=8, loss=18702.3230487\n",
      "[INFO] epoch=9, loss=18726.7573758\n",
      "[INFO] epoch=10, loss=18641.4092798\n"
     ]
    }
   ],
   "source": [
    "print('[INFO] training network...')\n",
    "\n",
    "input_shape = X_train_dataset.shape[1]\n",
    "nn = NeuralNetwork([input_shape, 64, 10])\n",
    "\n",
    "print(f'[INFO] {nn}')\n",
    "\n",
    "nn.fit(X_train_dataset, y_train, epochs = 10, displayUpdate = 1)"
   ]
  },
  {
   "cell_type": "code",
   "execution_count": 68,
   "id": "494dee04-2355-4e41-bcde-c28ea5950096",
   "metadata": {
    "execution": {
     "iopub.execute_input": "2022-03-24T13:36:42.475920Z",
     "iopub.status.busy": "2022-03-24T13:36:42.475410Z",
     "iopub.status.idle": "2022-03-24T13:36:42.551987Z",
     "shell.execute_reply": "2022-03-24T13:36:42.551003Z",
     "shell.execute_reply.started": "2022-03-24T13:36:42.475870Z"
    },
    "tags": []
   },
   "outputs": [],
   "source": [
    "predictions = nn.predict(X_test_dataset)"
   ]
  },
  {
   "cell_type": "code",
   "execution_count": 72,
   "id": "ee032674-49ba-4fae-8f5a-4f1566fca3e5",
   "metadata": {
    "execution": {
     "iopub.execute_input": "2022-03-24T13:39:46.387731Z",
     "iopub.status.busy": "2022-03-24T13:39:46.387230Z",
     "iopub.status.idle": "2022-03-24T13:39:46.420522Z",
     "shell.execute_reply": "2022-03-24T13:39:46.419602Z",
     "shell.execute_reply.started": "2022-03-24T13:39:46.387681Z"
    },
    "tags": []
   },
   "outputs": [],
   "source": [
    "y_pred = predictions.argmax(axis=1)\n",
    "report = classification_report(y_test.argmax(axis = 1), y_pred)"
   ]
  },
  {
   "cell_type": "code",
   "execution_count": 74,
   "id": "4104cb4f-f33d-4285-958c-6eb19004d961",
   "metadata": {
    "execution": {
     "iopub.execute_input": "2022-03-24T13:39:56.559836Z",
     "iopub.status.busy": "2022-03-24T13:39:56.559339Z",
     "iopub.status.idle": "2022-03-24T13:39:56.566815Z",
     "shell.execute_reply": "2022-03-24T13:39:56.565610Z",
     "shell.execute_reply.started": "2022-03-24T13:39:56.559787Z"
    },
    "tags": []
   },
   "outputs": [
    {
     "name": "stdout",
     "output_type": "stream",
     "text": [
      "              precision    recall  f1-score   support\n",
      "\n",
      "           0       0.51      0.23      0.32      1000\n",
      "           1       0.38      0.53      0.44      1000\n",
      "           2       0.32      0.24      0.28      1000\n",
      "           3       0.27      0.29      0.28      1000\n",
      "           4       0.26      0.44      0.33      1000\n",
      "           5       0.50      0.21      0.30      1000\n",
      "           6       0.40      0.39      0.40      1000\n",
      "           7       0.44      0.44      0.44      1000\n",
      "           8       0.44      0.52      0.47      1000\n",
      "           9       0.45      0.47      0.46      1000\n",
      "\n",
      "    accuracy                           0.38     10000\n",
      "   macro avg       0.40      0.38      0.37     10000\n",
      "weighted avg       0.40      0.38      0.37     10000\n",
      "\n"
     ]
    }
   ],
   "source": [
    "print(report)"
   ]
  },
  {
   "cell_type": "code",
   "execution_count": null,
   "id": "bfcb8a3b-8743-4892-b6f3-5ee7dd096062",
   "metadata": {},
   "outputs": [],
   "source": []
  }
 ],
 "metadata": {
  "kernelspec": {
   "display_name": "Python 3 ",
   "language": "python",
   "name": "python3"
  },
  "language_info": {
   "codemirror_mode": {
    "name": "ipython",
    "version": 3
   },
   "file_extension": ".py",
   "mimetype": "text/x-python",
   "name": "python",
   "nbconvert_exporter": "python",
   "pygments_lexer": "ipython3",
   "version": "3.9.6"
  }
 },
 "nbformat": 4,
 "nbformat_minor": 5
}
