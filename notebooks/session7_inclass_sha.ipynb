{
 "cells": [
  {
   "cell_type": "markdown",
   "id": "c4041d36-442a-46d6-9886-7504b269271d",
   "metadata": {},
   "source": [
    "# An example pipeline using a (really cruddy) neural network in ```numpy```"
   ]
  },
  {
   "cell_type": "code",
   "execution_count": 1,
   "id": "cf38ad16-10a3-4f96-b6e8-cdc97de8808b",
   "metadata": {
    "tags": []
   },
   "outputs": [
    {
     "name": "stderr",
     "output_type": "stream",
     "text": [
      "2022-04-03 15:19:16.659377: W tensorflow/stream_executor/platform/default/dso_loader.cc:64] Could not load dynamic library 'libcudart.so.11.0'; dlerror: libcudart.so.11.0: cannot open shared object file: No such file or directory; LD_LIBRARY_PATH: /opt/conda/lib/python3.9/site-packages/cv2/../../lib64:\n",
      "2022-04-03 15:19:16.659413: I tensorflow/stream_executor/cuda/cudart_stub.cc:29] Ignore above cudart dlerror if you do not have a GPU set up on your machine.\n"
     ]
    }
   ],
   "source": [
    "# path tools\n",
    "import sys,os\n",
    "sys.path.append(os.path.join(\"..\"))\n",
    "\n",
    "# image processing\n",
    "import cv2\n",
    "\n",
    "# neural networks with numpy\n",
    "import numpy as np\n",
    "from tensorflow.keras.datasets import cifar10\n",
    "from utils.neuralnetwork import NeuralNetwork\n",
    "\n",
    "# machine learning tools\n",
    "from sklearn.preprocessing import LabelBinarizer\n",
    "from sklearn.model_selection import train_test_split\n",
    "from sklearn.metrics import classification_report\n",
    "from sklearn.linear_model import LogisticRegression"
   ]
  },
  {
   "cell_type": "code",
   "execution_count": 2,
   "id": "6832d861-ba71-4f0f-9ebd-f64c7ae67b02",
   "metadata": {
    "execution": {
     "iopub.execute_input": "2022-04-03T13:19:19.436565Z",
     "iopub.status.busy": "2022-04-03T13:19:19.436076Z",
     "iopub.status.idle": "2022-04-03T13:19:20.086560Z",
     "shell.execute_reply": "2022-04-03T13:19:20.085122Z",
     "shell.execute_reply.started": "2022-04-03T13:19:19.436515Z"
    },
    "tags": []
   },
   "outputs": [],
   "source": [
    "(X_train, y_train), (X_test, y_test) = cifar10.load_data()"
   ]
  },
  {
   "cell_type": "code",
   "execution_count": 3,
   "id": "09599450-f879-4b8d-8ea8-1b31d435b9d5",
   "metadata": {
    "execution": {
     "iopub.execute_input": "2022-04-03T13:19:20.916484Z",
     "iopub.status.busy": "2022-04-03T13:19:20.916026Z",
     "iopub.status.idle": "2022-04-03T13:19:20.923812Z",
     "shell.execute_reply": "2022-04-03T13:19:20.922577Z",
     "shell.execute_reply.started": "2022-04-03T13:19:20.916438Z"
    },
    "tags": []
   },
   "outputs": [],
   "source": [
    "labels = ['airplane', 'automobile', 'bird', 'cat', 'deer', 'dog', 'frog', 'horse', 'ship', 'truck']"
   ]
  },
  {
   "cell_type": "markdown",
   "id": "90d309df-21de-47e9-b936-3a0cf3227ef8",
   "metadata": {},
   "source": [
    "### Convert all the data to greyscale"
   ]
  },
  {
   "cell_type": "code",
   "execution_count": 4,
   "id": "f1c99c63-17aa-4117-821c-e3a045ae9b0b",
   "metadata": {
    "execution": {
     "iopub.execute_input": "2022-04-02T15:09:28.902865Z",
     "iopub.status.busy": "2022-04-02T15:09:28.902318Z",
     "iopub.status.idle": "2022-04-02T15:09:29.199888Z",
     "shell.execute_reply": "2022-04-02T15:09:29.199136Z",
     "shell.execute_reply.started": "2022-04-02T15:09:28.902798Z"
    }
   },
   "outputs": [
    {
     "ename": "NameError",
     "evalue": "name 'data' is not defined",
     "output_type": "error",
     "traceback": [
      "\u001b[0;31m---------------------------------------------------------------------------\u001b[0m",
      "\u001b[0;31mNameError\u001b[0m                                 Traceback (most recent call last)",
      "\u001b[0;32m/tmp/ipykernel_404/1374479542.py\u001b[0m in \u001b[0;36m<module>\u001b[0;34m\u001b[0m\n\u001b[1;32m      1\u001b[0m \u001b[0;31m# list comprehension example\u001b[0m\u001b[0;34m\u001b[0m\u001b[0;34m\u001b[0m\u001b[0;34m\u001b[0m\u001b[0m\n\u001b[1;32m      2\u001b[0m \u001b[0mout_list\u001b[0m \u001b[0;34m=\u001b[0m \u001b[0;34m[\u001b[0m\u001b[0;34m]\u001b[0m\u001b[0;34m\u001b[0m\u001b[0;34m\u001b[0m\u001b[0m\n\u001b[0;32m----> 3\u001b[0;31m \u001b[0;32mfor\u001b[0m \u001b[0mi\u001b[0m \u001b[0;32min\u001b[0m \u001b[0mdata\u001b[0m\u001b[0;34m:\u001b[0m\u001b[0;34m\u001b[0m\u001b[0;34m\u001b[0m\u001b[0m\n\u001b[0m\u001b[1;32m      4\u001b[0m     \u001b[0mout\u001b[0m \u001b[0;34m=\u001b[0m \u001b[0mdo_something\u001b[0m\u001b[0;34m(\u001b[0m\u001b[0mi\u001b[0m\u001b[0;34m)\u001b[0m\u001b[0;34m\u001b[0m\u001b[0;34m\u001b[0m\u001b[0m\n\u001b[1;32m      5\u001b[0m     \u001b[0mout_list\u001b[0m\u001b[0;34m.\u001b[0m\u001b[0mappend\u001b[0m\u001b[0;34m(\u001b[0m\u001b[0mout\u001b[0m\u001b[0;34m)\u001b[0m\u001b[0;34m\u001b[0m\u001b[0;34m\u001b[0m\u001b[0m\n",
      "\u001b[0;31mNameError\u001b[0m: name 'data' is not defined"
     ]
    }
   ],
   "source": [
    "# list comprehension example\n",
    "out_list = []\n",
    "for i in data:\n",
    "    out = do_something(i)\n",
    "    out_list.append(out)\n",
    "    \n",
    "out_list = [do_something(x) for x in data]"
   ]
  },
  {
   "cell_type": "code",
   "execution_count": 4,
   "id": "fcf404eb-3454-4868-a444-3bed988e6858",
   "metadata": {
    "execution": {
     "iopub.execute_input": "2022-04-03T13:19:23.637324Z",
     "iopub.status.busy": "2022-04-03T13:19:23.636805Z",
     "iopub.status.idle": "2022-04-03T13:19:24.186724Z",
     "shell.execute_reply": "2022-04-03T13:19:24.185641Z",
     "shell.execute_reply.started": "2022-04-03T13:19:23.637272Z"
    },
    "tags": []
   },
   "outputs": [],
   "source": [
    "X_train_grey = np.array([cv2.cvtColor(image, cv2.COLOR_BGR2GRAY) for image in X_train])\n",
    "X_test_grey = np.array([cv2.cvtColor(image, cv2.COLOR_BGR2GRAY) for image in X_test])"
   ]
  },
  {
   "cell_type": "markdown",
   "id": "baeb7f6c-f405-4409-b95a-fcd878df2e2b",
   "metadata": {},
   "source": [
    "### Normalize the values"
   ]
  },
  {
   "cell_type": "code",
   "execution_count": 22,
   "id": "2b83f2f4-727e-4870-a6f9-1b10553bb485",
   "metadata": {
    "execution": {
     "iopub.execute_input": "2022-03-24T12:44:14.352014Z",
     "iopub.status.busy": "2022-03-24T12:44:14.351470Z",
     "iopub.status.idle": "2022-03-24T12:44:14.361484Z",
     "shell.execute_reply": "2022-03-24T12:44:14.360526Z",
     "shell.execute_reply.started": "2022-03-24T12:44:14.351948Z"
    },
    "tags": []
   },
   "outputs": [
    {
     "data": {
      "text/plain": [
       "0.0"
      ]
     },
     "execution_count": 22,
     "metadata": {},
     "output_type": "execute_result"
    }
   ],
   "source": [
    "# min max normalization function, for each array: (X - min(X) / max(X) - min(x) = values between 0 and 1"
   ]
  },
  {
   "cell_type": "code",
   "execution_count": 5,
   "id": "8a49f81c-8cb4-4c27-8c9d-87135e36d16c",
   "metadata": {
    "execution": {
     "iopub.execute_input": "2022-04-03T13:19:25.557198Z",
     "iopub.status.busy": "2022-04-03T13:19:25.556665Z",
     "iopub.status.idle": "2022-04-03T13:19:25.565151Z",
     "shell.execute_reply": "2022-04-03T13:19:25.564000Z",
     "shell.execute_reply.started": "2022-04-03T13:19:25.557145Z"
    },
    "tags": []
   },
   "outputs": [],
   "source": [
    "def minmax(data):\n",
    "    X_norm = (data - data.min()) / (data.max() - data.min())\n",
    "    return X_norm"
   ]
  },
  {
   "cell_type": "code",
   "execution_count": 13,
   "id": "e006909e-e319-4589-9498-2fe2cf2f9fbe",
   "metadata": {
    "execution": {
     "iopub.execute_input": "2022-03-24T12:39:35.188950Z",
     "iopub.status.busy": "2022-03-24T12:39:35.188443Z",
     "iopub.status.idle": "2022-03-24T12:39:35.196850Z",
     "shell.execute_reply": "2022-03-24T12:39:35.195943Z",
     "shell.execute_reply.started": "2022-03-24T12:39:35.188897Z"
    },
    "tags": []
   },
   "outputs": [],
   "source": [
    "def min_max_scaling(array):\n",
    "    scaled = (array - np.min(array)) / (np.max(array) - np.min(array))\n",
    "    return scaled\n",
    "    "
   ]
  },
  {
   "cell_type": "code",
   "execution_count": 6,
   "id": "ddac10fa-3473-4759-b16f-a44344a7e589",
   "metadata": {
    "execution": {
     "iopub.execute_input": "2022-04-03T13:19:27.457890Z",
     "iopub.status.busy": "2022-04-03T13:19:27.457317Z",
     "iopub.status.idle": "2022-04-03T13:19:27.776672Z",
     "shell.execute_reply": "2022-04-03T13:19:27.776015Z",
     "shell.execute_reply.started": "2022-04-03T13:19:27.457833Z"
    },
    "tags": []
   },
   "outputs": [],
   "source": [
    "X_train_scaled = minmax(X_train_grey)\n",
    "X_test_scaled = minmax(X_test_grey)"
   ]
  },
  {
   "cell_type": "markdown",
   "id": "bde6fbb2-981c-415f-a366-1ef16c311cb9",
   "metadata": {},
   "source": [
    "### Reshaping the data"
   ]
  },
  {
   "cell_type": "code",
   "execution_count": 7,
   "id": "7c625488-abdd-468b-8a3d-fc2977291e93",
   "metadata": {
    "execution": {
     "iopub.execute_input": "2022-04-03T13:19:29.227019Z",
     "iopub.status.busy": "2022-04-03T13:19:29.226484Z",
     "iopub.status.idle": "2022-04-03T13:19:29.234165Z",
     "shell.execute_reply": "2022-04-03T13:19:29.233105Z",
     "shell.execute_reply.started": "2022-04-03T13:19:29.226965Z"
    },
    "tags": []
   },
   "outputs": [],
   "source": [
    "nsamples, nx, ny = X_train_scaled.shape\n",
    "X_train_dataset = X_train_scaled.reshape(nsamples, nx*ny)"
   ]
  },
  {
   "cell_type": "code",
   "execution_count": 8,
   "id": "215aefa9-ec5a-4283-9991-2720b32c1dc3",
   "metadata": {
    "execution": {
     "iopub.execute_input": "2022-04-03T13:19:31.084706Z",
     "iopub.status.busy": "2022-04-03T13:19:31.084218Z",
     "iopub.status.idle": "2022-04-03T13:19:31.091469Z",
     "shell.execute_reply": "2022-04-03T13:19:31.090432Z",
     "shell.execute_reply.started": "2022-04-03T13:19:31.084656Z"
    },
    "tags": []
   },
   "outputs": [],
   "source": [
    "nsamples, nx, ny = X_test_scaled.shape\n",
    "X_test_dataset = X_test_scaled.reshape(nsamples, nx*ny)"
   ]
  },
  {
   "cell_type": "markdown",
   "id": "3ea0a714-a9df-49cb-a21f-3b51b91be223",
   "metadata": {},
   "source": [
    "## Simple logistic regression classifier"
   ]
  },
  {
   "cell_type": "code",
   "execution_count": 40,
   "id": "0316aaac-46f0-4d39-aeae-e718b92e7e5b",
   "metadata": {
    "execution": {
     "iopub.execute_input": "2022-03-24T13:12:35.954706Z",
     "iopub.status.busy": "2022-03-24T13:12:35.954213Z",
     "iopub.status.idle": "2022-03-24T13:12:46.341987Z",
     "shell.execute_reply": "2022-03-24T13:12:46.340468Z",
     "shell.execute_reply.started": "2022-03-24T13:12:35.954653Z"
    },
    "tags": []
   },
   "outputs": [
    {
     "name": "stderr",
     "output_type": "stream",
     "text": [
      "/opt/conda/lib/python3.9/site-packages/sklearn/utils/validation.py:993: DataConversionWarning: A column-vector y was passed when a 1d array was expected. Please change the shape of y to (n_samples, ), for example using ravel().\n",
      "  y = column_or_1d(y, warn=True)\n"
     ]
    }
   ],
   "source": [
    "clf = LogisticRegression(penalty = 'none',\n",
    "                         tol = 0.1,\n",
    "                         solver = 'saga',\n",
    "                         multi_class = 'multinomial').fit(X_train_dataset, y_train)"
   ]
  },
  {
   "cell_type": "code",
   "execution_count": 53,
   "id": "e335a959-6d8d-472c-a48f-6e052c7a6390",
   "metadata": {
    "execution": {
     "iopub.execute_input": "2022-03-24T13:21:34.541750Z",
     "iopub.status.busy": "2022-03-24T13:21:34.541194Z",
     "iopub.status.idle": "2022-03-24T13:21:34.575515Z",
     "shell.execute_reply": "2022-03-24T13:21:34.573952Z",
     "shell.execute_reply.started": "2022-03-24T13:21:34.541696Z"
    },
    "tags": []
   },
   "outputs": [],
   "source": [
    "y_pred = clf.predict(X_test_dataset)"
   ]
  },
  {
   "cell_type": "markdown",
   "id": "04fcb452-b841-4b88-b384-b698e22bc279",
   "metadata": {},
   "source": [
    "### Get predictions and make classification report"
   ]
  },
  {
   "cell_type": "code",
   "execution_count": 54,
   "id": "d4fa743d-b73a-43ec-896d-fb8e875f3c25",
   "metadata": {
    "execution": {
     "iopub.execute_input": "2022-03-24T13:21:36.049173Z",
     "iopub.status.busy": "2022-03-24T13:21:36.048672Z",
     "iopub.status.idle": "2022-03-24T13:21:36.627605Z",
     "shell.execute_reply": "2022-03-24T13:21:36.626829Z",
     "shell.execute_reply.started": "2022-03-24T13:21:36.049111Z"
    },
    "tags": []
   },
   "outputs": [
    {
     "ename": "ValueError",
     "evalue": "Classification metrics can't handle a mix of continuous-multioutput and multiclass targets",
     "output_type": "error",
     "traceback": [
      "\u001b[0;31m---------------------------------------------------------------------------\u001b[0m",
      "\u001b[0;31mValueError\u001b[0m                                Traceback (most recent call last)",
      "\u001b[0;32m/tmp/ipykernel_136/551163128.py\u001b[0m in \u001b[0;36m<module>\u001b[0;34m\u001b[0m\n\u001b[0;32m----> 1\u001b[0;31m \u001b[0mreport\u001b[0m \u001b[0;34m=\u001b[0m \u001b[0mclassification_report\u001b[0m\u001b[0;34m(\u001b[0m\u001b[0mX_test_dataset\u001b[0m\u001b[0;34m,\u001b[0m \u001b[0my_pred\u001b[0m\u001b[0;34m,\u001b[0m \u001b[0mtarget_names\u001b[0m \u001b[0;34m=\u001b[0m \u001b[0mlabels\u001b[0m\u001b[0;34m)\u001b[0m\u001b[0;34m\u001b[0m\u001b[0;34m\u001b[0m\u001b[0m\n\u001b[0m\u001b[1;32m      2\u001b[0m \u001b[0mprint\u001b[0m\u001b[0;34m(\u001b[0m\u001b[0mreport\u001b[0m\u001b[0;34m)\u001b[0m\u001b[0;34m\u001b[0m\u001b[0;34m\u001b[0m\u001b[0m\n",
      "\u001b[0;32m/opt/conda/lib/python3.9/site-packages/sklearn/metrics/_classification.py\u001b[0m in \u001b[0;36mclassification_report\u001b[0;34m(y_true, y_pred, labels, target_names, sample_weight, digits, output_dict, zero_division)\u001b[0m\n\u001b[1;32m   2108\u001b[0m     \"\"\"\n\u001b[1;32m   2109\u001b[0m \u001b[0;34m\u001b[0m\u001b[0m\n\u001b[0;32m-> 2110\u001b[0;31m     \u001b[0my_type\u001b[0m\u001b[0;34m,\u001b[0m \u001b[0my_true\u001b[0m\u001b[0;34m,\u001b[0m \u001b[0my_pred\u001b[0m \u001b[0;34m=\u001b[0m \u001b[0m_check_targets\u001b[0m\u001b[0;34m(\u001b[0m\u001b[0my_true\u001b[0m\u001b[0;34m,\u001b[0m \u001b[0my_pred\u001b[0m\u001b[0;34m)\u001b[0m\u001b[0;34m\u001b[0m\u001b[0;34m\u001b[0m\u001b[0m\n\u001b[0m\u001b[1;32m   2111\u001b[0m \u001b[0;34m\u001b[0m\u001b[0m\n\u001b[1;32m   2112\u001b[0m     \u001b[0;32mif\u001b[0m \u001b[0mlabels\u001b[0m \u001b[0;32mis\u001b[0m \u001b[0;32mNone\u001b[0m\u001b[0;34m:\u001b[0m\u001b[0;34m\u001b[0m\u001b[0;34m\u001b[0m\u001b[0m\n",
      "\u001b[0;32m/opt/conda/lib/python3.9/site-packages/sklearn/metrics/_classification.py\u001b[0m in \u001b[0;36m_check_targets\u001b[0;34m(y_true, y_pred)\u001b[0m\n\u001b[1;32m     91\u001b[0m \u001b[0;34m\u001b[0m\u001b[0m\n\u001b[1;32m     92\u001b[0m     \u001b[0;32mif\u001b[0m \u001b[0mlen\u001b[0m\u001b[0;34m(\u001b[0m\u001b[0my_type\u001b[0m\u001b[0;34m)\u001b[0m \u001b[0;34m>\u001b[0m \u001b[0;36m1\u001b[0m\u001b[0;34m:\u001b[0m\u001b[0;34m\u001b[0m\u001b[0;34m\u001b[0m\u001b[0m\n\u001b[0;32m---> 93\u001b[0;31m         raise ValueError(\n\u001b[0m\u001b[1;32m     94\u001b[0m             \"Classification metrics can't handle a mix of {0} and {1} targets\".format(\n\u001b[1;32m     95\u001b[0m                 \u001b[0mtype_true\u001b[0m\u001b[0;34m,\u001b[0m \u001b[0mtype_pred\u001b[0m\u001b[0;34m\u001b[0m\u001b[0;34m\u001b[0m\u001b[0m\n",
      "\u001b[0;31mValueError\u001b[0m: Classification metrics can't handle a mix of continuous-multioutput and multiclass targets"
     ]
    }
   ],
   "source": [
    "report = classification_report(X_test_dataset, y_pred, target_names = labels)\n",
    "print(report)"
   ]
  },
  {
   "cell_type": "code",
   "execution_count": null,
   "id": "eac241ae-9bec-4bc6-9f32-287f87bfe175",
   "metadata": {
    "execution": {
     "iopub.execute_input": "2022-03-23T19:40:48.137251Z",
     "iopub.status.busy": "2022-03-23T19:40:48.136905Z",
     "iopub.status.idle": "2022-03-23T19:40:48.176672Z",
     "shell.execute_reply": "2022-03-23T19:40:48.175654Z",
     "shell.execute_reply.started": "2022-03-23T19:40:48.137215Z"
    },
    "tags": []
   },
   "outputs": [],
   "source": []
  },
  {
   "cell_type": "markdown",
   "id": "096330d2-3b5b-434a-b816-fe68d07a1daa",
   "metadata": {},
   "source": [
    "## Neural network classifier"
   ]
  },
  {
   "cell_type": "code",
   "execution_count": 9,
   "id": "1baeb87b-4f24-4e05-a8e7-cf17b7d7e262",
   "metadata": {
    "execution": {
     "iopub.execute_input": "2022-04-03T13:19:34.035141Z",
     "iopub.status.busy": "2022-04-03T13:19:34.034600Z",
     "iopub.status.idle": "2022-04-03T13:19:34.044269Z",
     "shell.execute_reply": "2022-04-03T13:19:34.043258Z",
     "shell.execute_reply.started": "2022-04-03T13:19:34.035090Z"
    },
    "tags": []
   },
   "outputs": [
    {
     "data": {
      "text/plain": [
       "(50000, 1)"
      ]
     },
     "execution_count": 9,
     "metadata": {},
     "output_type": "execute_result"
    }
   ],
   "source": [
    "y_train.shape"
   ]
  },
  {
   "cell_type": "code",
   "execution_count": 10,
   "id": "46c7e0d7-4df4-438b-a847-658f2ea867a0",
   "metadata": {
    "execution": {
     "iopub.execute_input": "2022-04-03T13:20:00.517172Z",
     "iopub.status.busy": "2022-04-03T13:20:00.516637Z",
     "iopub.status.idle": "2022-04-03T13:20:00.561798Z",
     "shell.execute_reply": "2022-04-03T13:20:00.560785Z",
     "shell.execute_reply.started": "2022-04-03T13:20:00.517123Z"
    },
    "tags": []
   },
   "outputs": [],
   "source": [
    "y_train_t = LabelBinarizer().fit_transform(y_train)\n",
    "y_test_t = LabelBinarizer().fit_transform(y_test)"
   ]
  },
  {
   "cell_type": "code",
   "execution_count": 15,
   "id": "01719e44-69fb-41c0-9212-92e23a76a63b",
   "metadata": {
    "execution": {
     "iopub.execute_input": "2022-04-03T13:35:27.575531Z",
     "iopub.status.busy": "2022-04-03T13:35:27.575012Z",
     "iopub.status.idle": "2022-04-03T13:35:27.582610Z",
     "shell.execute_reply": "2022-04-03T13:35:27.581421Z",
     "shell.execute_reply.started": "2022-04-03T13:35:27.575482Z"
    },
    "tags": []
   },
   "outputs": [],
   "source": [
    "from sklearn.preprocessing import MultiLabelBinarizer"
   ]
  },
  {
   "cell_type": "code",
   "execution_count": 16,
   "id": "3aa3691e-6d00-420e-a15f-9010c2e48390",
   "metadata": {
    "execution": {
     "iopub.execute_input": "2022-04-03T13:35:43.516856Z",
     "iopub.status.busy": "2022-04-03T13:35:43.516320Z",
     "iopub.status.idle": "2022-04-03T13:35:43.608480Z",
     "shell.execute_reply": "2022-04-03T13:35:43.607398Z",
     "shell.execute_reply.started": "2022-04-03T13:35:43.516804Z"
    },
    "tags": []
   },
   "outputs": [],
   "source": [
    "y_train_t = MultiLabelBinarizer().fit_transform(y_train)\n",
    "y_test_t = MultiLabelBinarizer().fit_transform(y_test)"
   ]
  },
  {
   "cell_type": "code",
   "execution_count": 17,
   "id": "e7e52e8b-4163-445f-8718-91476c4b5717",
   "metadata": {
    "execution": {
     "iopub.execute_input": "2022-04-03T13:35:45.446557Z",
     "iopub.status.busy": "2022-04-03T13:35:45.446062Z",
     "iopub.status.idle": "2022-04-03T13:35:45.455520Z",
     "shell.execute_reply": "2022-04-03T13:35:45.454374Z",
     "shell.execute_reply.started": "2022-04-03T13:35:45.446508Z"
    },
    "tags": []
   },
   "outputs": [
    {
     "data": {
      "text/plain": [
       "(50000, 10)"
      ]
     },
     "execution_count": 17,
     "metadata": {},
     "output_type": "execute_result"
    }
   ],
   "source": [
    "y_train_t.shape"
   ]
  },
  {
   "cell_type": "code",
   "execution_count": 18,
   "id": "c4c8e2ab-7f26-450d-91de-38775c2f5e75",
   "metadata": {
    "execution": {
     "iopub.execute_input": "2022-04-03T13:35:48.866866Z",
     "iopub.status.busy": "2022-04-03T13:35:48.866332Z",
     "iopub.status.idle": "2022-04-03T13:35:48.875938Z",
     "shell.execute_reply": "2022-04-03T13:35:48.875035Z",
     "shell.execute_reply.started": "2022-04-03T13:35:48.866814Z"
    },
    "tags": []
   },
   "outputs": [
    {
     "data": {
      "text/plain": [
       "(50000, 1)"
      ]
     },
     "execution_count": 18,
     "metadata": {},
     "output_type": "execute_result"
    }
   ],
   "source": [
    "y_train.shape"
   ]
  },
  {
   "cell_type": "code",
   "execution_count": 19,
   "id": "80e5f979-3fca-4cd7-b4c0-906fd15b07f9",
   "metadata": {
    "execution": {
     "iopub.execute_input": "2022-04-03T13:35:50.656699Z",
     "iopub.status.busy": "2022-04-03T13:35:50.656207Z",
     "iopub.status.idle": "2022-04-03T13:35:50.665218Z",
     "shell.execute_reply": "2022-04-03T13:35:50.664248Z",
     "shell.execute_reply.started": "2022-04-03T13:35:50.656649Z"
    },
    "tags": []
   },
   "outputs": [
    {
     "data": {
      "text/plain": [
       "(10000, 1)"
      ]
     },
     "execution_count": 19,
     "metadata": {},
     "output_type": "execute_result"
    }
   ],
   "source": [
    "y_test.shape"
   ]
  },
  {
   "cell_type": "code",
   "execution_count": 20,
   "id": "976cc0b7-9eaf-496a-8767-7d0f95adfcaa",
   "metadata": {
    "execution": {
     "iopub.execute_input": "2022-04-03T13:35:52.266421Z",
     "iopub.status.busy": "2022-04-03T13:35:52.265736Z",
     "iopub.status.idle": "2022-04-03T13:35:52.274616Z",
     "shell.execute_reply": "2022-04-03T13:35:52.273684Z",
     "shell.execute_reply.started": "2022-04-03T13:35:52.266371Z"
    },
    "tags": []
   },
   "outputs": [
    {
     "data": {
      "text/plain": [
       "(10000, 10)"
      ]
     },
     "execution_count": 20,
     "metadata": {},
     "output_type": "execute_result"
    }
   ],
   "source": [
    "y_test_t.shape"
   ]
  },
  {
   "cell_type": "code",
   "execution_count": 11,
   "id": "74368148-fad6-46b7-9829-6240e650dcb0",
   "metadata": {
    "execution": {
     "iopub.execute_input": "2022-04-02T15:09:53.095148Z",
     "iopub.status.busy": "2022-04-02T15:09:53.094592Z",
     "iopub.status.idle": "2022-04-02T15:12:27.467925Z",
     "shell.execute_reply": "2022-04-02T15:12:27.466046Z",
     "shell.execute_reply.started": "2022-04-02T15:09:53.095097Z"
    },
    "tags": []
   },
   "outputs": [
    {
     "name": "stdout",
     "output_type": "stream",
     "text": [
      "[INFO] training network...\n",
      "[INFO] NeuralNetwork: 1024-64-10\n",
      "[INFO] epoch=1, loss=20222.8330574\n",
      "[INFO] epoch=2, loss=19726.8345496\n",
      "[INFO] epoch=3, loss=19461.8974080\n",
      "[INFO] epoch=4, loss=19225.1047689\n",
      "[INFO] epoch=5, loss=19271.9655567\n",
      "[INFO] epoch=6, loss=19297.7828456\n",
      "[INFO] epoch=7, loss=19100.0943571\n",
      "[INFO] epoch=8, loss=18824.1870876\n",
      "[INFO] epoch=9, loss=18804.0725438\n",
      "[INFO] epoch=10, loss=18727.7881466\n"
     ]
    }
   ],
   "source": [
    "print('[INFO] training network...')\n",
    "\n",
    "input_shape = X_train_dataset.shape[1]\n",
    "nn = NeuralNetwork([input_shape, 64, 10])\n",
    "\n",
    "print(f'[INFO] {nn}')\n",
    "\n",
    "nn.fit(X_train_dataset, y_train, epochs = 10, displayUpdate = 1)"
   ]
  },
  {
   "cell_type": "code",
   "execution_count": 12,
   "id": "494dee04-2355-4e41-bcde-c28ea5950096",
   "metadata": {
    "execution": {
     "iopub.execute_input": "2022-04-02T15:12:27.591907Z",
     "iopub.status.busy": "2022-04-02T15:12:27.591531Z",
     "iopub.status.idle": "2022-04-02T15:12:27.662393Z",
     "shell.execute_reply": "2022-04-02T15:12:27.661019Z",
     "shell.execute_reply.started": "2022-04-02T15:12:27.591888Z"
    },
    "tags": []
   },
   "outputs": [],
   "source": [
    "predictions = nn.predict(X_test_dataset)"
   ]
  },
  {
   "cell_type": "code",
   "execution_count": 13,
   "id": "ee032674-49ba-4fae-8f5a-4f1566fca3e5",
   "metadata": {
    "execution": {
     "iopub.execute_input": "2022-04-02T15:12:27.665736Z",
     "iopub.status.busy": "2022-04-02T15:12:27.665335Z",
     "iopub.status.idle": "2022-04-02T15:12:27.868450Z",
     "shell.execute_reply": "2022-04-02T15:12:27.867289Z",
     "shell.execute_reply.started": "2022-04-02T15:12:27.665698Z"
    },
    "tags": []
   },
   "outputs": [],
   "source": [
    "y_pred = predictions.argmax(axis=1)\n",
    "report = classification_report(y_test.argmax(axis = 1), y_pred)"
   ]
  },
  {
   "cell_type": "code",
   "execution_count": 14,
   "id": "4104cb4f-f33d-4285-958c-6eb19004d961",
   "metadata": {
    "execution": {
     "iopub.execute_input": "2022-04-02T15:12:27.870127Z",
     "iopub.status.busy": "2022-04-02T15:12:27.869900Z",
     "iopub.status.idle": "2022-04-02T15:12:28.118254Z",
     "shell.execute_reply": "2022-04-02T15:12:28.116499Z",
     "shell.execute_reply.started": "2022-04-02T15:12:27.870110Z"
    },
    "tags": []
   },
   "outputs": [
    {
     "name": "stdout",
     "output_type": "stream",
     "text": [
      "              precision    recall  f1-score   support\n",
      "\n",
      "           0       0.54      0.23      0.32      1000\n",
      "           1       0.41      0.49      0.44      1000\n",
      "           2       0.30      0.22      0.25      1000\n",
      "           3       0.28      0.28      0.28      1000\n",
      "           4       0.26      0.49      0.34      1000\n",
      "           5       0.52      0.20      0.29      1000\n",
      "           6       0.41      0.29      0.34      1000\n",
      "           7       0.42      0.46      0.44      1000\n",
      "           8       0.41      0.58      0.48      1000\n",
      "           9       0.43      0.50      0.46      1000\n",
      "\n",
      "    accuracy                           0.37     10000\n",
      "   macro avg       0.40      0.37      0.36     10000\n",
      "weighted avg       0.40      0.37      0.36     10000\n",
      "\n"
     ]
    }
   ],
   "source": [
    "print(report)"
   ]
  },
  {
   "cell_type": "code",
   "execution_count": null,
   "id": "bfcb8a3b-8743-4892-b6f3-5ee7dd096062",
   "metadata": {},
   "outputs": [],
   "source": []
  }
 ],
 "metadata": {
  "kernelspec": {
   "display_name": "Python 3 ",
   "language": "python",
   "name": "python3"
  },
  "language_info": {
   "codemirror_mode": {
    "name": "ipython",
    "version": 3
   },
   "file_extension": ".py",
   "mimetype": "text/x-python",
   "name": "python",
   "nbconvert_exporter": "python",
   "pygments_lexer": "ipython3",
   "version": "3.9.6"
  }
 },
 "nbformat": 4,
 "nbformat_minor": 5
}
